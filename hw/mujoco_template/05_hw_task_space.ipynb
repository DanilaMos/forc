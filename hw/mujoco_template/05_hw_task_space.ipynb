{
 "cells": [
  {
   "cell_type": "markdown",
   "metadata": {},
   "source": [
    "# Task space inverse dynamics control\n",
    "## Point-to-point"
   ]
  },
  {
   "cell_type": "code",
   "execution_count": null,
   "metadata": {},
   "outputs": [],
   "source": [
    "import numpy as np\n",
    "from simulator import Simulator\n",
    "from pathlib import Path\n",
    "from typing import Dict\n",
    "import os \n",
    "import pinocchio as pin\n",
    "import matplotlib.pyplot as plt\n",
    "from IPython.display import Video"
   ]
  },
  {
   "cell_type": "code",
   "execution_count": null,
   "metadata": {},
   "outputs": [],
   "source": [
    "current_dir = os.getcwd()\n",
    "xml_path = os.path.join(current_dir, \"robots/universal_robots_ur5e/ur5e.xml\")\n",
    "model = pin.buildModelFromMJCF(xml_path)\n",
    "data = model.createData()"
   ]
  },
  {
   "cell_type": "markdown",
   "metadata": {},
   "source": [
    "Для того, чтобы сделать TSID контроллер, неохбодимо сделать 2 контура обратных связей. Первый переводит $\\mathbf{X^d} \\rightarrow \\mathbf{a_q}$ (outer loop), а второй контур - $\\mathbf{a_q} \\rightarrow \\mathbf{u}$ (inner loop)\n",
    "\n",
    "Первый контур:\n",
    "\n",
    "\\begin{equation}\n",
    "a_X=\\ddot{X}^d - k_p(X - X^d) - k_d(\\dot{X}-\\dot{X}^d)\n",
    "\\end{equation}\n",
    "\n",
    "\\begin{equation}\n",
    "a_q = J^{-1}(a_X - \\dot{J}\\dot{q})\n",
    "\\end{equation}\n",
    "\n",
    "Второй контур:\n",
    "\n",
    "\\begin{equation}\n",
    "u = \\mathbf{M(q)}a_q + \\mathbf{C(q,\\dot{q})}\\dot{q} + \\mathbf{g(q)}\n",
    "\\end{equation}\n",
    "\n",
    "\n",
    "При этом $\\mathbf{X} \\in \\mathbb{R}^6$ 3 линейные координаты и 3 угловые, для составления ошибки по вращению (3-х мерный вектор) использована следующая формула:\n",
    "\n",
    "\\begin{equation}\n",
    "\\mathbf{\\tilde{S}} = -log(\\mathbf{R^d R^T})\n",
    "\\end{equation}\n",
    "\n",
    "Для ошибки по положению:\n",
    "\n",
    "\\begin{equation}\n",
    "\\mathbf{\\tilde{p}} = \\mathbf{p} - \\mathbf{p^d}\n",
    "\\end{equation}"
   ]
  },
  {
   "cell_type": "code",
   "execution_count": null,
   "metadata": {},
   "outputs": [],
   "source": [
    "def task_space_p2p_controller(q: np.ndarray, dq: np.ndarray, t: float, desired: Dict) -> np.ndarray:\n",
    "    \n",
    "    #PD coeff\n",
    "    kp = np.array([200, 200, 200, 200, 200, 200])*np.eye(6) \n",
    "    kd = np.array([100, 100, 100, 100, 100, 100])*np.eye(6)\n",
    "\n",
    "    # Convert desired pose to SE3\n",
    "    desired_position = desired['pos']\n",
    "    desired_quaternion = desired['quat'] # [w, x, y, z] in MuJoCo format\n",
    "    desired_quaternion_pin = np.array([*desired_quaternion[1:], desired_quaternion[0]]) # Convert to [x,y,z,w] for Pinocchio\n",
    "    # Convert to pose and SE3\n",
    "    desired_pose = np.concatenate([desired_position, desired_quaternion_pin])\n",
    "    desired_se3 = pin.XYZQUATToSE3(desired_pose)\n",
    "\n",
    "    #desired parameters\n",
    "    R_des = desired_se3.rotation\n",
    "    p_des = desired_se3.translation\n",
    "    ddX_des = np.zeros(6)\n",
    "    dX_des = np.zeros(6)\n",
    "\n",
    "    # Computations\n",
    "    pin.computeAllTerms(model, data, q, dq)\n",
    "    pin.forwardKinematics(model, data, q, dq)\n",
    "\n",
    "    # Get the frame pose\n",
    "    ee_frame_id = model.getFrameId(\"end_effector\")\n",
    "    ee_pose = data.oMf[ee_frame_id]\n",
    "    ee_position = ee_pose.translation\n",
    "    ee_rotation = ee_pose.rotation\n",
    "\n",
    "    # Get velocities, accelerations and Jacobians\n",
    "    frame = pin.WORLD\n",
    "    twist = pin.getFrameVelocity(model, data, ee_frame_id, frame).vector\n",
    "    dtwist = pin.getFrameAcceleration(model, data, ee_frame_id, frame)\n",
    "    J = pin.getFrameJacobian(model, data, ee_frame_id, frame)\n",
    "    dJ = pin.computeJointJacobiansTimeVariation(model, data, q, dq)\n",
    "\n",
    "    # State error\n",
    "    error_rot = -pin.log3(R_des @ ee_rotation.T)\n",
    "    X_error = np.hstack([ee_position - p_des, error_rot])\n",
    "\n",
    "    # Outer loop and inner loop\n",
    "    a_x = ddX_des - kp @ X_error - kd @ (twist - dX_des)\n",
    "    a_q = np.linalg.inv(J)@(a_x - dJ@dq)\n",
    "    tau = data.M @ a_q + data.nle\n",
    "\n",
    "    # logs\n",
    "    print(f'p_desired : {p_des}')\n",
    "    print(f'R_desired : {R_des}')\n",
    "    print(f'p_end_effecor : {ee_position}')\n",
    "    print(f'R_end_effecor : {ee_rotation}')\n",
    "    print(f'X_error : {X_error}')\n",
    "\n",
    "    return tau"
   ]
  },
  {
   "cell_type": "markdown",
   "metadata": {},
   "source": [
    "Запуск симуляции"
   ]
  },
  {
   "cell_type": "code",
   "execution_count": null,
   "metadata": {},
   "outputs": [],
   "source": [
    "# Create logging directories\n",
    "Path(\"logs/videos\").mkdir(parents=True, exist_ok=True)\n",
    "\n",
    "print(\"\\nRunning task space controller...\")\n",
    "sim = Simulator(\n",
    "    xml_path=\"robots/universal_robots_ur5e/scene.xml\",\n",
    "    enable_task_space=True,\n",
    "    show_viewer=True,\n",
    "    record_video=True,\n",
    "    video_path=\"logs/videos/05_hw_task_space.mp4\",\n",
    "    fps=30,\n",
    "    width=1920,\n",
    "    height=1080\n",
    ")\n",
    "\n",
    "sim.set_controller(task_space_p2p_controller)\n",
    "sim.run(time_limit=10.0)\n",
    "\n",
    "times = np.array(sim.times)\n",
    "positions = np.array(sim.positions)\n",
    "velocities = np.array(sim.velocities)"
   ]
  },
  {
   "cell_type": "markdown",
   "metadata": {},
   "source": [
    "Графики положения и скоростей сочленений при движении от точки до точки"
   ]
  },
  {
   "cell_type": "code",
   "execution_count": null,
   "metadata": {},
   "outputs": [],
   "source": [
    "# Process and save results\n",
    "plt.figure(figsize=(20, 6))\n",
    "\n",
    "# Joint positions plot\n",
    "plt.subplot(121)\n",
    "for i in range(positions.shape[1]):\n",
    "    plt.plot(times, positions[:, i], label=f'Joint {i+1}')\n",
    "plt.xlabel('Time [s]')\n",
    "plt.ylabel('Joint Positions [rad]')\n",
    "plt.title('Joint Positions over Time')\n",
    "plt.legend()\n",
    "plt.grid(True)\n",
    "\n",
    "# Joint velocities plot\n",
    "plt.subplot(122)\n",
    "for i in range(velocities.shape[1]):\n",
    "    plt.plot(times, velocities[:, i], label=f'Joint {i+1}')\n",
    "plt.xlabel('Time [s]')\n",
    "plt.ylabel('Joint Velocities [rad/s]')\n",
    "plt.title('Joint Velocities over Time')\n",
    "plt.legend()\n",
    "plt.grid(True)\n",
    "plt.savefig('logs/plots/05_hw_task_space_joint.png')\n",
    "\n",
    "plt.show()"
   ]
  },
  {
   "cell_type": "markdown",
   "metadata": {},
   "source": [
    "Видео симуляции при движении от точки до точки"
   ]
  },
  {
   "cell_type": "code",
   "execution_count": null,
   "metadata": {},
   "outputs": [],
   "source": [
    "Video(os.path.join(current_dir, \"logs/videos/05_hw_task_space.mp4\"))"
   ]
  },
  {
   "cell_type": "markdown",
   "metadata": {},
   "source": [
    "## Trajectory"
   ]
  },
  {
   "cell_type": "markdown",
   "metadata": {},
   "source": [
    "В качестве траектории выберем окружность, зададим ее параметрически:\n",
    "\n",
    "\\begin{equation}\n",
    "\\begin{cases}\n",
    "x = x_{center} + rad \\cdot sin(\\omega t)\\\\\n",
    "y = y_{center} + rad \\cdot cos(\\omega t)\\\\\n",
    "z = constant\n",
    "\\end{cases}\n",
    "\\end{equation}\n",
    "\n",
    "При этом пусть центром круга куб, а его ориентация определит ориентацию рабочего органа"
   ]
  },
  {
   "cell_type": "code",
   "execution_count": null,
   "metadata": {},
   "outputs": [],
   "source": [
    "def get_trajectory(p_des, t):\n",
    "    \"\"\"Calculating trajectory points\"\"\"\n",
    "    \n",
    "    X_des = np.zeros(6)\n",
    "    dX_des = np.zeros(6)\n",
    "    ddX_des = np.zeros(6)\n",
    "\n",
    "    x = p_des[0] + 0.2*np.sin(1*t)\n",
    "    y = p_des[1] + 0.2*np.cos(1*t)\n",
    "    z = p_des[2]\n",
    "\n",
    "    dx = 0.2*np.cos(1*t)\n",
    "    dy = -0.2*np.sin(1*t)\n",
    "    dz = 0\n",
    "\n",
    "    ddx = -0.2*np.sin(1*t)\n",
    "    ddy = -0.2*np.cos(1*t)\n",
    "    ddz = 0\n",
    "    \n",
    "    X_des[:3] = np.hstack([x,y,z])\n",
    "    dX_des[:3] = np.hstack([dx,dy,dz])\n",
    "    ddX_des[:3] = np.hstack([ddx,ddy,ddz])\n",
    "    \n",
    "    return X_des, dX_des, ddX_des"
   ]
  },
  {
   "cell_type": "code",
   "execution_count": null,
   "metadata": {},
   "outputs": [],
   "source": [
    "def task_space_traj_controller(q: np.ndarray, dq: np.ndarray, t: float, desired: Dict) -> np.ndarray:\n",
    "    \n",
    "    #PD coeff\n",
    "    kp = np.array([200, 200, 200, 200, 200, 200])*np.eye(6)\n",
    "    kd = np.array([100, 100, 100, 100, 100, 100])*np.eye(6)\n",
    "\n",
    "    # Convert desired pose to SE3\n",
    "    desired_position = desired['pos']\n",
    "    desired_quaternion = desired['quat'] # [w, x, y, z] in MuJoCo format\n",
    "    desired_quaternion_pin = np.array([*desired_quaternion[1:], desired_quaternion[0]]) # Convert to [x,y,z,w] for Pinocchio\n",
    "    # Convert to pose and SE3\n",
    "    desired_pose = np.concatenate([desired_position, desired_quaternion_pin])\n",
    "    desired_se3 = pin.XYZQUATToSE3(desired_pose)\n",
    "    R_des = desired_se3.rotation\n",
    "    p_des = desired_se3.translation\n",
    "    \n",
    "    #Getting next point\n",
    "    X_des, dX_des, ddX_des = get_trajectory(p_des, t)\n",
    "\n",
    "    # Computations\n",
    "    pin.computeAllTerms(model, data, q, dq)\n",
    "    pin.forwardKinematics(model, data, q, dq)\n",
    "\n",
    "    # Get the frame pose\n",
    "    ee_frame_id = model.getFrameId(\"end_effector\")\n",
    "    ee_pose = data.oMf[ee_frame_id]\n",
    "    ee_position = ee_pose.translation\n",
    "    ee_rotation = ee_pose.rotation\n",
    "\n",
    "    # Get velocities, accelerations and Jacobians\n",
    "    frame = pin.WORLD\n",
    "    twist = pin.getFrameVelocity(model, data, ee_frame_id, frame).vector\n",
    "    dtwist = pin.getFrameAcceleration(model, data, ee_frame_id, frame)\n",
    "    J = pin.getFrameJacobian(model, data, ee_frame_id, frame)\n",
    "    dJ = pin.computeJointJacobiansTimeVariation(model, data, q, dq)\n",
    "\n",
    "    # State error\n",
    "    error_rot = -pin.log3(R_des @ ee_rotation.T)\n",
    "    X_error = np.zeros(6)\n",
    "    X_error[:3] = ee_position - X_des[:3]\n",
    "    X_error[3:] = error_rot\n",
    "\n",
    "    # Outer loop and inner loop\n",
    "    a_x = ddX_des - kp @ X_error - kd @ (twist - dX_des)\n",
    "    a_q = np.linalg.inv(J)@(a_x - dJ@dq)\n",
    "    tau = data.M @ a_q + data.nle\n",
    "\n",
    "    # logs\n",
    "    print(f'X_error : {X_error}')\n",
    "\n",
    "    return tau"
   ]
  },
  {
   "cell_type": "markdown",
   "metadata": {},
   "source": [
    "Запуск симуляции"
   ]
  },
  {
   "cell_type": "code",
   "execution_count": null,
   "metadata": {},
   "outputs": [],
   "source": [
    "print(\"\\nRunning task space controller...\")\n",
    "sim = Simulator(\n",
    "    xml_path=\"robots/universal_robots_ur5e/scene.xml\",\n",
    "    enable_task_space=True,\n",
    "    show_viewer=True,\n",
    "    record_video=True,\n",
    "    video_path=\"logs/videos/05_hw_task_space_traj.mp4\",\n",
    "    fps=30,\n",
    "    width=1920,\n",
    "    height=1080\n",
    ")\n",
    "\n",
    "sim.set_controller(task_space_traj_controller)\n",
    "sim.run(time_limit=20.0)\n",
    "\n",
    "times = np.array(sim.times)\n",
    "positions = np.array(sim.positions)\n",
    "velocities = np.array(sim.velocities)"
   ]
  },
  {
   "cell_type": "markdown",
   "metadata": {},
   "source": [
    "Графики положения и скоростей сочленений при движении по траектории"
   ]
  },
  {
   "cell_type": "code",
   "execution_count": null,
   "metadata": {},
   "outputs": [],
   "source": [
    "# Process and save results\n",
    "plt.figure(figsize=(20, 6))\n",
    "\n",
    "# Joint positions plot\n",
    "plt.subplot(121)\n",
    "for i in range(positions.shape[1]):\n",
    "    plt.plot(times, positions[:, i], label=f'Joint {i+1}')\n",
    "plt.xlabel('Time [s]')\n",
    "plt.ylabel('Joint Positions [rad]')\n",
    "plt.title('Joint Positions over Time')\n",
    "plt.legend()\n",
    "plt.grid(True)\n",
    "\n",
    "# Joint velocities plot\n",
    "plt.subplot(122)\n",
    "for i in range(velocities.shape[1]):\n",
    "    plt.plot(times, velocities[:, i], label=f'Joint {i+1}')\n",
    "plt.xlabel('Time [s]')\n",
    "plt.ylabel('Joint Velocities [rad/s]')\n",
    "plt.title('Joint Velocities over Time')\n",
    "plt.legend()\n",
    "plt.grid(True)\n",
    "plt.savefig('logs/plots/05_hw_task_space_joint_traj.png')\n",
    "\n",
    "plt.show()"
   ]
  },
  {
   "cell_type": "markdown",
   "metadata": {},
   "source": [
    "Видео симуляции движения по траектории"
   ]
  },
  {
   "cell_type": "code",
   "execution_count": null,
   "metadata": {},
   "outputs": [],
   "source": [
    "Video(os.path.join(current_dir, \"logs/videos/05_hw_task_space_traj.mp4\"))"
   ]
  },
  {
   "cell_type": "markdown",
   "metadata": {},
   "source": [
    "Сравним траектории в проекции на плоскомть $\\mathbf{XoY}$"
   ]
  },
  {
   "cell_type": "code",
   "execution_count": null,
   "metadata": {},
   "outputs": [],
   "source": [
    "#trajectory on XY plane\n",
    "\n",
    "x = []\n",
    "y = []\n",
    "z = []\n",
    "x_pl = []\n",
    "y_pl = []\n",
    "ee_frame_id = model.getFrameId(\"end_effector\")\n",
    "for i in range(len(times)-1):\n",
    "    pin.forwardKinematics(model, data, positions[i], velocities[i])\n",
    "    pin.updateFramePlacement(model, data, ee_frame_id)\n",
    "    ee_pose = data.oMf[ee_frame_id]\n",
    "    ee_position = ee_pose.translation\n",
    "    x.append(ee_position[0])\n",
    "    y.append(ee_position[1])\n",
    "    z.append(ee_position[2])\n",
    "\n",
    "    x_pl.append(0.5 + 0.2*np.sin(0.0002*np.pi*i))\n",
    "    y_pl.append(0 + 0.2*np.cos(0.0002*np.pi*i))\n",
    "\n",
    "\n",
    "plt.figure(figsize=(10, 10))\n",
    "plt.plot(x, y, 'r', label = 'real')\n",
    "plt.plot(x_pl, y_pl,'--b', label = 'planned', )\n",
    "plt.xlabel('X [m]')\n",
    "plt.ylabel('Y [m]')\n",
    "plt.title('XY trajectory')\n",
    "plt.legend()\n",
    "plt.grid(True)\n",
    "plt.savefig('logs/plots/05_hw_task_space_xy_traj.png')\n",
    "plt.show()"
   ]
  }
 ],
 "metadata": {
  "kernelspec": {
   "display_name": "forc_hw",
   "language": "python",
   "name": "python3"
  },
  "language_info": {
   "codemirror_mode": {
    "name": "ipython",
    "version": 3
   },
   "file_extension": ".py",
   "mimetype": "text/x-python",
   "name": "python",
   "nbconvert_exporter": "python",
   "pygments_lexer": "ipython3",
   "version": "3.10.16"
  }
 },
 "nbformat": 4,
 "nbformat_minor": 2
}
