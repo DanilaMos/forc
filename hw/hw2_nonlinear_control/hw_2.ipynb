{
  "cells": [
    {
      "cell_type": "markdown",
      "metadata": {
        "id": "zPmrTNlSBW-R"
      },
      "source": [
        "## **Home Work 2: Nonlinear Control: Inverse Dynamics, Robust and Adaptive control**"
      ]
    },
    {
      "cell_type": "markdown",
      "metadata": {
        "id": "l1xehNpe8ygZ"
      },
      "source": [
        "### **Vessel on the River**\n",
        "\n",
        "Consider a folowing vessel on the river:\n",
        "\n",
        "<p align=\"center\">\n",
        "<img src=\"https://blog.arduino.cc/wp-content/uploads/2021/11/DawveRf-1024x683.jpeg\" alt=\"drawing\" width=\"35%\" style=\"margin:auto\"/>\n",
        "</p>\n",
        "\n"
      ]
    },
    {
      "cell_type": "markdown",
      "metadata": {
        "id": "mXxjVIm01Rze"
      },
      "source": [
        "\n",
        "With differential kinematics described as follows:\n",
        "$$\n",
        "\\dot{\\mathbf{x}} =\n",
        "\\begin{bmatrix}\n",
        "\\dot{x}\n",
        "\\\\\n",
        "\\dot{y}\n",
        "\\\\\n",
        "\\dot{\\theta}\n",
        "\\end{bmatrix}\n",
        "=\n",
        "\\begin{bmatrix}\n",
        " \\cos \\theta & -\\sin \\theta & 0\\\\\n",
        " \\sin \\theta & \\cos \\theta & 0\\\\\n",
        " 0 & 0 & 1\\\\\n",
        "\\end{bmatrix}\n",
        "\\begin{bmatrix}\n",
        "v_\\tau\n",
        "\\\\\n",
        "v_n\n",
        "\\\\\n",
        "\\omega\n",
        "\\end{bmatrix} \n",
        "+\n",
        "\\begin{bmatrix}\n",
        "\\delta \\\\\n",
        "0 \\\\\n",
        "0\\\\\n",
        "\\end{bmatrix}\n",
        "= \\mathbf{R}(\\theta)\\mathbf{u} + \\boldsymbol{\\delta}(t)\n",
        "$$\n",
        "\n",
        "where $x, y$ are cartesian coordinates w.r.t global frame, $\\theta$ heading angle, $0<\\delta<\\delta_{max}$ river flow $v_\\tau, v_n, \\omega$ are linear and angular velocity of vessel w.r.t. local coordinate frame.\n",
        "\n",
        "<p align=\"center\">\n",
        "<img src=\"https://drive.google.com/uc?id=14Y5dheMte0hTe7MGCLE143wXmgJx96NR\" alt=\"drawing\" hspace=\"300px\" width=\"50%\" style=\"margin:auto\"/>\n",
        "</p>\n",
        "\n",
        "\n"
      ]
    },
    {
      "cell_type": "markdown",
      "metadata": {
        "id": "-sfaRRA-sEIT"
      },
      "source": [
        "---\n",
        "\n",
        "The goal is to design feedback controller $\\mathbf{u}(\\mathbf{x})$ to regulate and track given trajectories even in the presense of river flow:\n",
        "* **[45 points]** Inverse dynamics:\n",
        "  * Assuming for now that river flow $\\delta = 0$, propose the inverse dynamics control that regulate vessel to the desired state \n",
        "  * Modify controller to track time varying trajectories, take for instance $x_d = 10\\cos t/5, y_d = 10\\sin t/5, \\theta_d = \\pi/2 + t/5$\n",
        "  * Tune the controller such that you will have critically damped response and less controll effort in the $n$ direction.\n",
        "  * Simulate the response for both tracking and regulation. \n",
        " )\n",
        "* **[30 points]** Flow disturbance and sliding mode:\n",
        "  * Suppose now that there is disturbance due to river flow $\\delta < 1$ (as example you may take $\\delta(t) = 2/3+\\sin(0.1t)/3$, introduce this to the dynamics and study response of inverse dynamics controller.\n",
        "  * Use sliding mode technique to propose the modification of the inverse dynamics controller that will eleminate the effect of the disturbance. Simulate the response.\n",
        "  * Tune controller such that convergence to the boundary layer given by $\\|\\tilde{\\mathbf{x}}\\| < 0.1$ is achieved\n",
        "* **[25 points]** Adaptive control:\n",
        "  * Assume now that bounds on the river flow is not known in advance, propose the adaptive control that will estimate the unknown disturbance while tracking the same trajectories\n",
        "  * Simulate response and show the convergence of tracking error and flow estimate $\\hat{\\delta}$ \n",
        "---"
      ]
    },
    {
      "cell_type": "markdown",
      "metadata": {
        "id": "O6TG-TUDzIOn"
      },
      "source": [
        "**[BONUS]** Overactuated vessel and Input mapping"
      ]
    },
    {
      "cell_type": "markdown",
      "metadata": {
        "id": "EPvVt1IlzMaf"
      },
      "source": [
        "In practice the actual inputs are not the linear and angular velocities of the cessel. For instance consider the case of four thrusters installed on the vessel such that the mapping between thrusters and vessel velocity is given by:\n",
        "$$\n",
        "\\mathbf{u} =\n",
        "\\begin{bmatrix}\n",
        "v_\\tau\n",
        "\\\\\n",
        "v_n\n",
        "\\\\\n",
        "\\omega\n",
        "\\end{bmatrix}\n",
        "=\n",
        "\\begin{bmatrix}\n",
        " -\\cos \\phi & -\\cos \\phi & 1 & 1\\\\\n",
        " \\sin \\phi & \\sin \\phi & 0 & 0\\\\\n",
        " -\\ell_2\\cos \\phi  + \\ell_1\\sin \\phi &  \\ell_2\\cos \\phi  - \\ell_1\\sin \\phi & -\\ell & \\ell\\\\\n",
        "\\end{bmatrix}\n",
        "\\begin{bmatrix}\n",
        "v_1\n",
        "\\\\\n",
        "v_2\n",
        "\\\\\n",
        "v_3\n",
        "\\\\\n",
        "v_4\n",
        "\\end{bmatrix} \n",
        "= \\mathbf{H}(\\phi)\\mathbf{u}^*\n",
        "$$\n",
        "\n",
        "* Modify system dynamics, and either adaptive or robust controller and find appropriate $\\mathbf{u}^*$ such that boat will have the same response as if you control $\\mathbf{u}$ directly.\n",
        "* Assume now that the $v_1, v_2$ are twice less powerfull then $v_3, v_4$. How would you modify your controller to tackle this \n",
        "* Introduce the trajectory planner to your controller such that vessel will favour the velocity along the $\\tau$ direction. (read notes below)\n",
        " \n"
      ]
    },
    {
      "cell_type": "markdown",
      "metadata": {
        "id": "4r34EMFW1si7"
      },
      "source": [
        "**[NOTES] Feasible trajectory via differential flatness**\n",
        "\n",
        "In many mobile robots including the vessels we do favour the motion that are directed along the $\\tau$ component of robot, while the $n$ component remain zero or small. However the resulting trajectory should still be still feasible for our robot. \n",
        "\n",
        "Let us set $v_n = 0$, thus arriving to following expression:\n",
        "$$\n",
        "\\dot{\\mathbf{x}} =\n",
        "\\begin{bmatrix}\n",
        "\\dot{x}\n",
        "\\\\\n",
        "\\dot{y}\n",
        "\\\\\n",
        "\\dot{\\theta}\n",
        "\\end{bmatrix}\n",
        "=\n",
        "\\begin{bmatrix}\n",
        " v_\\tau \\cos \\theta  \\\\\n",
        " v_\\tau \\sin \\theta \\\\\n",
        " \\omega\\\\\n",
        "\\end{bmatrix}\n",
        "$$\n",
        "Here we neglects the disturbance effects.\n",
        "\n",
        "Assume that we have desired position in task space $x(t)$, $y(t)$, the question is can we calculate the reminding $\\theta,v,\\omega$ as a function of $x,y$ and it's derivatives. \n",
        "First we take the squares of first and second terms yields:\n",
        "\n",
        "$$\n",
        "v_\\tau = \\eta\\sqrt{\\dot{x}^2 + \\dot{y}^2} \n",
        "$$\n",
        "here $\\eta$ is \n",
        "the division of the first and second yields:\n",
        "\n",
        "$$\n",
        "\\theta =\\operatorname {atan2} (\\eta \\dot{y}, \\eta \\dot{x})\n",
        "$$\n",
        "\n",
        "Taking the derivatives of first and second equation after a bit of algebra yields: \n",
        "$$\n",
        "\\omega = \\eta\\frac{\\dot{x}\\ddot{y}-\\dot{y}\\ddot{x}}{v_\\tau^2}\n",
        "$$\n",
        "\n",
        "Not how the all signals are given as **algebraic functions** of $x, y, \\dot{x}, \\dot{y}, \\ddot{x}, \\ddot{y}$. Thus once the desired trajectory is given for the $x, y$, one can automatically recover the open loop controller $\\omega, v$ and remaining state $\\theta$, this property is known as differential flatness and grately simplify the trajectory planning."
      ]
    }
  ],
  "metadata": {
    "colab": {
      "provenance": []
    },
    "kernelspec": {
      "display_name": "Python 3.8.10 64-bit",
      "language": "python",
      "name": "python3"
    },
    "language_info": {
      "name": "python",
      "version": "3.8.10"
    },
    "vscode": {
      "interpreter": {
        "hash": "e7370f93d1d0cde622a1f8e1c04877d8463912d04d973331ad4851f04de6915a"
      }
    }
  },
  "nbformat": 4,
  "nbformat_minor": 0
}
