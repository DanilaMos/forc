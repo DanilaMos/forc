{
 "cells": [
  {
   "cell_type": "markdown",
   "metadata": {
    "slideshow": {
     "slide_type": "slide"
    }
   },
   "source": [
    "## **Fundamentals of Robot Control:**\n",
    "### **Lecture 4: Introduction to Nonlinear Control: Canceling the Nonlinearity, Inverse Dynamics, Fully. Over and Under Actuated systems. Feedback Linearization**"
   ]
  },
  {
   "cell_type": "markdown",
   "metadata": {
    "slideshow": {
     "slide_type": "slide"
    }
   },
   "source": [
    "Goals for today:\n",
    "\n",
    "* Will study effect of nonlinearities and how to compensate them\n",
    "* Introduce the notions of fully, over and under actuated systems\n",
    "* Discuss how to use the power of optimization in order to tackle some issues in over-actuated control\n",
    "* Perform exact linearization with help of feedback to achieve truly linear response without approximations\n",
    "\n"
   ]
  },
  {
   "cell_type": "markdown",
   "metadata": {
    "slideshow": {
     "slide_type": "slide"
    }
   },
   "source": [
    "### **Effect of Nonlinearities**\n",
    "\n",
    "Let us now test the linear feedback techniques to regulate the angle of nonlinear pendulum, $\\mathbf{x}_d = [\\theta_d,0]^T$. Control error is then defined as:$\\tilde{\\mathbf{x}} = [\\tilde{\\theta}, -\\dot{\\theta}]^T$. \n",
    "\n",
    "Here, we assume that we can accurately measure or estimate full state of system $\\mathbf{x} = [\\theta, \\dot{\\theta}]^T$\n",
    "\n",
    "\n",
    "<p align=\"center\">\n",
    "<img src=\"https://drive.google.com/uc?id=15L7OQSAbxin_c9LR6SAZdKTkZ7uWBczE\" alt=\"drawing\" width=\"20%\" style=\"margin:auto\"/>\n",
    "</p>\n",
    "\n",
    "<!-- <img src=\"images/schemes/forc_robot_scheme.png\" alt=\"drawing\" width=\"70%\" style=\"margin:auto\"/> -->\n",
    "\n"
   ]
  },
  {
   "cell_type": "markdown",
   "metadata": {
    "slideshow": {
     "slide_type": "fragment"
    }
   },
   "source": [
    "Dynamics of this system is given as:\n",
    "\n",
    "$$\n",
    "(m L^2 + I) \\ddot{\\theta} + mgL \\sin\\theta + b \\dot{\\theta} = u = k_p\\tilde{\\theta} - k_d \\dot{\\theta}\n",
    "$$\n"
   ]
  },
  {
   "cell_type": "markdown",
   "metadata": {
    "slideshow": {
     "slide_type": "subslide"
    }
   },
   "source": [
    "Substitution of the second order full state feedback control law yields the following closed loop system:\n",
    "\n",
    "$$\n",
    "(m L^2 + I) \\ddot{\\theta} - k_p \\tilde{\\theta} + mgL \\sin\\theta + (k_d + b)  \\dot{\\theta} = 0\n",
    "$$\n",
    "\n",
    "What do you think does this system imply convergence of $\\tilde{\\theta}\\rightarrow 0 $ for any $\\theta_d$ ? "
   ]
  },
  {
   "cell_type": "markdown",
   "metadata": {
    "slideshow": {
     "slide_type": "fragment"
    }
   },
   "source": [
    "Substistution of the $\\dot{\\theta} = 0,\\ddot{\\theta}=0$ yields the following expression for equilibriums states of closed loop response: \n",
    "\n",
    "$$\n",
    "k_p \\tilde{\\theta} = mgL \\sin\\theta\n",
    "$$\n",
    "\n",
    "So there are infinite amount of equilibrium points provided by the expression above. One can also check the stability of these points or simulate the response (do this at home). \n"
   ]
  },
  {
   "cell_type": "markdown",
   "metadata": {
    "slideshow": {
     "slide_type": "fragment"
    }
   },
   "source": [
    "So the linear state feedback on itself is not able to produce a single desired equilibrium i.e: $\\tilde{\\theta} = 0$?. A natural question to ask - can we do better?"
   ]
  },
  {
   "cell_type": "markdown",
   "metadata": {
    "id": "ypX8LJXmI6zc",
    "slideshow": {
     "slide_type": "subslide"
    }
   },
   "source": [
    "### **Feedforward Action**\n",
    "As we have shown above feedback alone can't always guarantee that control error is going to converge to zero, thus one may need to incorporate the feedforward action inside the control loop. \n",
    "\n",
    "It is always convenient to represent the controller as a combination of nonlinear feedback and feedforward terms:\n",
    "$$\n",
    "\\mathbf{u}(\\mathbf{x},\\mathbf{x}_d) = \\boldsymbol{\\varphi}(\\tilde{\\mathbf{x}}) + \\boldsymbol{\\psi}(\\mathbf{x},\\mathbf{x}_d)\n",
    "$$\n",
    "\n",
    "\n",
    "<p align=\"center\">\n",
    "<img src=\"https://drive.google.com/uc?id=1nkQ0QXhx2Au9VY4t_7Yl1RZfNDzI5ix7\" alt=\"drawing\" width=\"60%\" style=\"margin:auto\"/>\n",
    "</p>\n",
    "\n"
   ]
  },
  {
   "cell_type": "markdown",
   "metadata": {
    "slideshow": {
     "slide_type": "subslide"
    }
   },
   "source": [
    "In practice, feedback control is often implemented as a linear combinations of control errors:\n",
    "\n",
    "$$\n",
    "\\mathbf{u}(\\mathbf{x},\\mathbf{x}_d) = \\mathbf{K}\\tilde{\\mathbf{x}} + \\boldsymbol{\\psi}(\\mathbf{x},\\mathbf{x}_d)\n",
    "$$\n",
    "\n",
    "Incorporating such control action greatly increases the accuracy of control without affecting stability!\n",
    "\n",
    "\n"
   ]
  },
  {
   "cell_type": "markdown",
   "metadata": {
    "id": "DPVcuwgKtG1L",
    "slideshow": {
     "slide_type": "subslide"
    }
   },
   "source": [
    "**Example: Pendulum angle regulation**\n",
    "\n",
    "\n",
    "First, let us describe the feedforward part of the regulator. A good idea would be cancelling out nonlinear gravity effects as well as the friction term by the following control model:\n",
    "\n",
    "$$\n",
    "\\boldsymbol{\\psi}(\\mathbf{x},\\mathbf{x}_d) = mgL \\sin\\theta + b \\dot{\\theta}\n",
    "$$\n",
    "\n"
   ]
  },
  {
   "cell_type": "markdown",
   "metadata": {
    "slideshow": {
     "slide_type": "fragment"
    }
   },
   "source": [
    "\n",
    "Substitution of controler $u = u_{fb} + u_{ff}$ with feed forward term described above into the dynamics of the pendulum yields:\n",
    "$$\n",
    "(m L^2 + I) \\ddot{\\theta} + mgL \\sin\\theta + b \\dot{\\theta} = \\boldsymbol{\\psi}(\\mathbf{x},\\mathbf{x}_d) + k_p \\tilde{\\theta} - k_d \\dot{\\theta} \\rightarrow (m L^2 + I) \\ddot{\\theta} = k_p \\tilde{\\theta} - k_d \\dot{\\theta}\n",
    "$$\n",
    "\n",
    "Note how **nonlinear** system was transformed into the **linear** one:\n",
    "$$\n",
    "(m L^2 + I) \\ddot{\\theta} = k_p \\tilde{\\theta} - k_d \\dot{\\theta}\n",
    "$$\n",
    "\n"
   ]
  },
  {
   "cell_type": "markdown",
   "metadata": {
    "slideshow": {
     "slide_type": "fragment"
    }
   },
   "source": [
    "\n",
    "Now we can use powerful tools from **linear control theory** to obtain the desired response of the system. \n",
    "\n",
    "The equation above implies that error $\\tilde{\\theta}\\rightarrow 0 \\Longleftrightarrow \\theta \\rightarrow \\theta_d; t\\rightarrow \\infty$ as desired.\n",
    "\n",
    "Let's define our controller and simulate controlled motion.\n"
   ]
  },
  {
   "cell_type": "markdown",
   "metadata": {
    "slideshow": {
     "slide_type": "slide"
    }
   },
   "source": [
    "### **Control Over Mechanical Systems. Fully, Over, and Underactuated**\n",
    "\n",
    "Consider the dynamic equations of an mechanical system in matrix form:\n",
    "\n",
    "$$\n",
    "\\mathbf{M}(\\mathbf{q})\\ddot{\\mathbf{q}} + \\mathbf{h}(\\mathbf{q},\\dot{\\mathbf{q}}) = \\mathbf{B}(\\mathbf{q})\\mathbf{u}\n",
    "$$\n"
   ]
  },
  {
   "cell_type": "markdown",
   "metadata": {
    "slideshow": {
     "slide_type": "fragment"
    }
   },
   "source": [
    "where $\\mathbf{B} \\in \\mathbb{R}^{n \\times m}$ is input matrix which connect the number of control inputs (actuators) of the system comparing to the number of generalized coordinates (joints)."
   ]
  },
  {
   "cell_type": "markdown",
   "metadata": {
    "slideshow": {
     "slide_type": "subslide"
    }
   },
   "source": [
    "Then we can do the following classification:\n",
    "* number of control inputs are equal to the number generilized coordinate ($n=m$) systems is said to be **fully actuated**  \n",
    "* if number of control inputs are greater then of generilized coordinates ($n<m$) system is **over actuated** \n",
    "* and finnaly if there is more coordinates then actuators ($n>m$) system is called **under actuated**\n"
   ]
  },
  {
   "cell_type": "markdown",
   "metadata": {
    "slideshow": {
     "slide_type": "fragment"
    }
   },
   "source": [
    "\n",
    "This seemingly innocent classification in fact produce a substantial differences in the control techniques we can apply to fully/over and under-actuated systems.  Let us begin with simplest case of fully-actuated systems."
   ]
  },
  {
   "cell_type": "markdown",
   "metadata": {
    "slideshow": {
     "slide_type": "slide"
    }
   },
   "source": [
    "### **Inverse Dynamics over Fully Actuated Mechanical Systems**"
   ]
  },
  {
   "cell_type": "markdown",
   "metadata": {
    "slideshow": {
     "slide_type": "fragment"
    }
   },
   "source": [
    "In the fully actuated case the number of control inputs is equal to control channels and matrix $\\mathbf{B}$ is invertable (usually identity $\\mathbf{I}_n$), so without lose of generality we can write the dynamics in form:"
   ]
  },
  {
   "cell_type": "markdown",
   "metadata": {
    "slideshow": {
     "slide_type": "fragment"
    }
   },
   "source": [
    "$$\n",
    "\\mathbf{M}(\\mathbf{q})\\ddot{\\mathbf{q}} + \\mathbf{h}(\\mathbf{q},\\dot{\\mathbf{q}}) = \\mathbf{u}\n",
    "$$"
   ]
  },
  {
   "cell_type": "markdown",
   "metadata": {
    "slideshow": {
     "slide_type": "fragment"
    }
   },
   "source": [
    "The idea of inverse dynamics is to seek a nonlinear feedback control law in form:\n",
    "\n",
    "$$\n",
    "    \\mathbf{u} = \\boldsymbol{\\phi}(\\mathbf{q},\\dot{\\mathbf{q}}, t) \n",
    "$$\n",
    "\n",
    "which, when substituted into dynamics results in a truly **linear closed-loop system** (do not confuse with local linearization). \n",
    "\n"
   ]
  },
  {
   "cell_type": "markdown",
   "metadata": {
    "slideshow": {
     "slide_type": "subslide"
    }
   },
   "source": [
    "By inspecting we see that there is two things that can potentially make the response of the system nonlinear, first is in the inertia matrix $\\mathbf{M}$ while second is in the term $\\mathbf{h}$ so lets try to compensate for both of them by chosing control law as follows:"
   ]
  },
  {
   "cell_type": "markdown",
   "metadata": {
    "slideshow": {
     "slide_type": "fragment"
    }
   },
   "source": [
    "$$\n",
    "\\mathbf{u} = \\mathbf{M}(\\mathbf{q})\\mathbf{v} + \\mathbf{h}(\\mathbf{q},\\dot{\\mathbf{q}}) \n",
    "$$"
   ]
  },
  {
   "cell_type": "markdown",
   "metadata": {
    "slideshow": {
     "slide_type": "fragment"
    }
   },
   "source": [
    "then, since the inertia matrix $M$ is invertible, the combined system given by:\n",
    "$$\n",
    "    \\ddot{\\mathbf{q}} = \\mathbf{v} \n",
    "$$"
   ]
  },
  {
   "cell_type": "markdown",
   "metadata": {
    "slideshow": {
     "slide_type": "fragment"
    }
   },
   "source": [
    "The term $\\mathbf{a}_q$ represents a new input that is yet to be chosen, and the resulting closed loop system is known as the **double integrator** as it represents n\n",
    "**uncoupled double integrators**.\n"
   ]
  },
  {
   "cell_type": "markdown",
   "metadata": {
    "slideshow": {
     "slide_type": "subslide"
    }
   },
   "source": [
    "This is rather remarkable result, namely that the\n",
    "trully nonlinear ssystem now become linear and decoupled. This means that each input $v_i$ can be designed to control a scalar linear system. Moreover,\n",
    "assuming that $v_i$ is a function only of $q i$ and $\\dot{q}_i$ then the closed-loop system will be fully decoupled and we can use a simple PD like regulator:\n",
    "\n",
    "$$\n",
    "    v_i = \\ddot{q}_d(t)+ k^d_i\\dot{\\tilde{q}}_i   + k^p_i\\tilde{q}_i  \n",
    "$$"
   ]
  },
  {
   "cell_type": "markdown",
   "metadata": {
    "slideshow": {
     "slide_type": "fragment"
    }
   },
   "source": [
    "And the closed loop will be: \n",
    "$$\n",
    "    \\ddot{\\tilde{q}}_i + k^d_i\\dot{\\tilde{q}}_i   + k^p_i\\tilde{q}_i  = 0\n",
    "$$\n",
    "\n",
    "which is stable provided $k^p, k^d>0$. Moreover you can make system **critically damped** with $k^i_p = \\omega_i^2$ and $k^i_d = 2\\omega_i$. In fact you can use whatever linear control technique on the double integrate, all of them will work equally well."
   ]
  },
  {
   "cell_type": "markdown",
   "metadata": {
    "slideshow": {
     "slide_type": "skip"
    }
   },
   "source": [
    "PICTURE OF INVERSE DYNAMICS"
   ]
  },
  {
   "cell_type": "markdown",
   "metadata": {
    "slideshow": {
     "slide_type": "fragment"
    }
   },
   "source": [
    "And that's it! Once you know the model and your system is fully actuated, the control is pretty straightforward. Let us now use the very same ideas to build the similar controllers for **over actuated systems**."
   ]
  },
  {
   "cell_type": "markdown",
   "metadata": {
    "slideshow": {
     "slide_type": "subslide"
    }
   },
   "source": [
    "### **Inverse Dynamics of Over-actuated Mechanical Systems**"
   ]
  },
  {
   "cell_type": "markdown",
   "metadata": {
    "slideshow": {
     "slide_type": "fragment"
    }
   },
   "source": [
    "The discussed above ideas are easily applicable to over actuated systems. To see it let us consider the dynamics of mechanical system and introduce auxiliary variable $\\mathbf{Q}$ (generalized forces):"
   ]
  },
  {
   "cell_type": "markdown",
   "metadata": {
    "slideshow": {
     "slide_type": "fragment"
    }
   },
   "source": [
    "$$\n",
    "\\mathbf{M}(\\mathbf{q})\\ddot{\\mathbf{q}} + \\mathbf{h}(\\mathbf{q},\\dot{\\mathbf{q}}) = \\mathbf{B}(\\mathbf{q})\\mathbf{u} = \\mathbf{Q}\n",
    "$$\n"
   ]
  },
  {
   "cell_type": "markdown",
   "metadata": {
    "slideshow": {
     "slide_type": "fragment"
    }
   },
   "source": [
    "So if one can produce required $\\mathbf{Q}$ the problem will be identical to the fully actuated case. However, the inputs $\\mathbf{Q}$ may not be actually present to the system by means of physical actuators that are tighly associated with $\\mathbf{u}$. \n",
    "\n"
   ]
  },
  {
   "cell_type": "markdown",
   "metadata": {
    "slideshow": {
     "slide_type": "fragment"
    }
   },
   "source": [
    "Thus one need to satisfy the following:\n",
    "\n",
    "$$\n",
    "    \\mathbf{B}(\\mathbf{q})\\mathbf{u} = \\mathbf{Q}_d \n",
    "$$\n",
    "\n",
    "With $\\mathbf{Q}_d$ being your desired controller for the fully actuated system. "
   ]
  },
  {
   "cell_type": "markdown",
   "metadata": {
    "slideshow": {
     "slide_type": "subslide"
    }
   },
   "source": [
    "This in turn implyis that one need just to find the $\\mathbf{u}$ that will satisfy equation above. For over actuated systems $\\dim{(\\mathbf{Q}_d)}<\\dim{(\\mathbf{u}})$, thus matrix $\\mathbf{B}$ is tall and the simplest solution of the linear equations above is straight forward:\n",
    "\n",
    "$$\n",
    "    \\mathbf{u} = \\mathbf{B}^+(\\mathbf{q}) \\mathbf{Q}_d(\\mathbf{q},\\dot{\\mathbf{q}}, t)\n",
    "$$\n",
    "\n",
    "and $\\mathbf{B}^+$ is pseudo inverse of input matrix.\n"
   ]
  },
  {
   "cell_type": "markdown",
   "metadata": {
    "slideshow": {
     "slide_type": "fragment"
    }
   },
   "source": [
    "Let's stand here for a while and think about the physical interpretation of this idea. In fact what we are trying to do is to produce the desired force $\\mathbf{Q}_d$ which in turn will move our system as it is desired in fully actuated circumstances. However, now we have more actuators $u$ then DoF in our system. so there's infinitely many  ways how we can produce the desired force $\\mathbf{Q}_d$ with help of actuators $\\mathbf{u}$ (infinetly many solutions of the linear system $\\mathbf{B}\\mathbf{u} = \\mathbf{Q}_d$), and is fully your responsibility to chose one of the appropriate one. "
   ]
  },
  {
   "cell_type": "markdown",
   "metadata": {
    "slideshow": {
     "slide_type": "subslide"
    }
   },
   "source": [
    "There is a lot of possibilities in there:\n",
    "* use regular pseudo inverse which in fact find the solution of $\\mathbf{B}\\mathbf{u} = \\mathbf{Q}_d$ with minimal norm of $\\mathbf{u}$\n",
    "* **wieght** the pseudo inverse: , which in practice is required if some of actuators are weaker then others. \n",
    "* You may minimize some quantity which is connected to the performance of your system, for instance, **energy, power** etc, which usually result in the convex optimization problems\n",
    "* there is even possibility to include some constraints on $\\mathbf{u}$, for instance take to account the unidirectional actuation $\\mathbf{u}$ or the physical capability of the actuators $\\mathbf{u}$"
   ]
  },
  {
   "cell_type": "markdown",
   "metadata": {
    "slideshow": {
     "slide_type": "subslide"
    }
   },
   "source": [
    "### **Force/Torque Optimization**\n",
    "\n",
    "The all of the notions discussed above may be compactly formulated as an optimization problems: \n",
    "\n",
    "$$\n",
    "\\begin{aligned}\n",
    "&{\\underset {\\mathbf{u} }{\\operatorname {minimize} }}&&\\mathcal{J}_c(\\mathbf{u}, \\mathbf{q}, \\dot{\\mathbf{q}}, t)\n",
    "\\\\& \\operatorname {subject\\ to} && \\mathbf{B}(\\mathbf{q})\\mathbf{u} = \\mathbf{Q}_d \n",
    "\\\\&&& \\mathbf{A}(\\mathbf{q},\\dot{\\mathbf{q}}, t)\\mathbf{u}\\leq \\mathbf{b}(\\mathbf{q},\\dot{\\mathbf{q}}, t)\n",
    "% \\\\&&&\\mathbf{K}_p \\tilde{\\mathbf{r}}^e + \\mathbf{K}_d \\dot{\\tilde{\\mathbf{r}}}^e +\\mathbf{F}_d = \\boldsymbol{\\mathcal{J}}_d^T (\\mathbf{u} - \\boldsymbol{\\tau}_d)\n",
    "\\end{aligned}\n",
    "$$"
   ]
  },
  {
   "cell_type": "markdown",
   "metadata": {
    "slideshow": {
     "slide_type": "fragment"
    }
   },
   "source": [
    "So the controller is then defined as a solution of optimization problem above in this particular time instant."
   ]
  },
  {
   "cell_type": "markdown",
   "metadata": {
    "slideshow": {
     "slide_type": "fragment"
    }
   },
   "source": [
    "If the cost $J_c$ is quadratic or linear, thus resulting in respectively linear or quadratic programming with mature ready to use and free solvers, like [osqp](https://osqp.org/docs/solver/index.html), [ecos](https://github.com/embotech/ecos) etc."
   ]
  },
  {
   "cell_type": "markdown",
   "metadata": {
    "slideshow": {
     "slide_type": "subslide"
    }
   },
   "source": [
    "The formulation above is fairly general and can encounter many different practical constraints, like unidirectional actuators $\\mathbf{u} \\geq 0$, limited capabilities in form $|\\mathbf{u}|\\leq\\mathbf{u}_{max}$ and many others. In fact with help of so called **barrier techniques** one can even introduce the safety constraints on states $\\mathbf{q},\\dot{\\mathbf{q}}$ while preserving optimization problem convex."
   ]
  },
  {
   "cell_type": "markdown",
   "metadata": {
    "slideshow": {
     "slide_type": "fragment"
    }
   },
   "source": [
    "**Example**:\n",
    "\n",
    "Consider a cable (unstretchable) driven manipulator:\n",
    "\n",
    "<p align=\"center\">\n",
    "<img src=\"https://drive.google.com/uc?id=1rv9POX0CqGoGwSbAmMKheMprbNTlYTH6\" alt=\"drawing\" width=\"25%\" style=\"margin:auto\"/>\n",
    "</p>\n",
    "\n",
    "\n",
    "A goal is to find **positive** tensions $\\boldsymbol{\\tau} > \\mathbf{0}$ on cables such that end effector **track the desired trajectory** end overall tension effort is minimized:\n",
    "$$\n",
    "\\mathcal{J}_{c} = \\|\\boldsymbol{\\tau}\\|_1 \\quad \\text{or} \\quad\\mathcal{J}_{c} = \\|\\boldsymbol{\\tau}\\|^2_2\n",
    "$$\n",
    "\n"
   ]
  },
  {
   "cell_type": "markdown",
   "metadata": {
    "slideshow": {
     "slide_type": "slide"
    }
   },
   "source": [
    "### **Underactuated Systems and Partial Feedback Linearization:**\n",
    "\n",
    "It seems that the controll over fully and underactuated mechanical systems are in general similar, in fact if we have more actuators they provide some flexibility in to control design by means of proper optimization over control inputs. \n",
    "\n",
    "However, control over underactuated systems is **drastically different and much more challenging**. First of all we cannot always hope to convert our dynamics in to the decoupled double integrator and even not all trajectories are **dynamically feasible** and it is out of scope of this class. "
   ]
  },
  {
   "cell_type": "markdown",
   "metadata": {
    "slideshow": {
     "slide_type": "fragment"
    }
   },
   "source": [
    "\n",
    "However there is some similar techniques, that are strongly related to the inverse dynamics and feedback linearization. Although we cannot always simplify the full dynamics of the system, it is still **possible to linearize a portion** of the system dynamics. The technique is called partial feedback linearization. "
   ]
  },
  {
   "cell_type": "markdown",
   "metadata": {
    "slideshow": {
     "slide_type": "subslide"
    }
   },
   "source": [
    "**Example:**\n",
    "\n",
    "Consider for the so called reaction wheel pendulum ([1](https://www.youtube.com/watch?v=woCdjbsjbPg), [2](https://www.youtube.com/watch?v=WQnlQEOMBG4)). \n",
    "\n",
    "The dynamics of such system is given by:\n",
    "$$\n",
    "\\begin{cases} \n",
    "(I + m l^2)\\ddot{\\theta}_1 + I \\ddot{\\theta}_2 + mgl\\cos\\theta_1 + b \\dot{\\theta}_2 = 0\n",
    "\\\\ \n",
    "I (\\ddot{\\theta}_1 + \\ddot{\\theta}_2) = u\n",
    "\\end{cases}\n",
    "$$\n",
    "\n",
    "The goal is to control the angle $\\theta_1$ just by applying the control torque $u$\n",
    "\n",
    "\n",
    "<p align=\"center\">\n",
    "<img src=\"https://drive.google.com/uc?id=12Vx2i7UiEKsEK-iYHthCW5sjkXE3yI5I\" alt=\"drawing\" width=\"30%\" style=\"margin:auto\"/>\n",
    "</p>\n"
   ]
  },
  {
   "cell_type": "markdown",
   "metadata": {
    "slideshow": {
     "slide_type": "subslide"
    }
   },
   "source": [
    "### **General Form of PFL of Mechanical Systems**\n",
    "\n",
    "For systems that are trivially underactuated (torques on some joints,\n",
    "no torques on other joints), we can, without loss of generality,\n",
    "reorganize the joint coordinates in any underactuated system described by\n",
    "the manipulator equations into the form:\n",
    "\n",
    "$$\n",
    "\\mathbf{M}_{11} \\ddot{\\mathbf{q}}_1 +\\mathbf{M}_{12} \\ddot{\\mathbf{q}}_2 = \\mathbf{h}_1 \\\\ \n",
    "\\mathbf{M}_{21} \\ddot{\\mathbf{q}}_1 + \\mathbf{M}_{22} \\ddot{\\mathbf{q}}_2 = \\mathbf{h}_2 + \\mathbf{u}\n",
    "$$\n",
    "\n",
    "with $\\mathbf{q}_1 \\in \\mathbb{R}^{n-m}$ representing all the passive joints and $\\mathbf{q}_2 \\in \\mathbb{R}^{m}$.\n",
    "all actuated joints. \n",
    "\n"
   ]
  },
  {
   "cell_type": "markdown",
   "metadata": {
    "slideshow": {
     "slide_type": "fragment"
    }
   },
   "source": [
    "Fortunately, because $\\mathbf{M}$ is uniformly (e.g.\n",
    "$\\forall \\mathbf{q}$) positive definite, $\\mathbf{M}_{11}$ and $\\mathbf{M}_{22}$ [are also positive definite](https://en.wikipedia.org/w/index.php?title=Schur_complement)\n",
    "\n",
    "Now one can actually solve the equations above for either $\\ddot{\\mathbf{q}}_1$ or $\\ddot{\\mathbf{q}}_2$ resulting in so called **collocated** and **non-collocated** linearization.\n"
   ]
  },
  {
   "cell_type": "markdown",
   "metadata": {
    "slideshow": {
     "slide_type": "subslide"
    }
   },
   "source": [
    "### **Collocated and Non-Collocated PFL**\n"
   ]
  },
  {
   "cell_type": "markdown",
   "metadata": {
    "slideshow": {
     "slide_type": "fragment"
    }
   },
   "source": [
    "\n",
    "**Collocated linearization:**\n",
    "solving the equations above for passive joints  $\\ddot{\\mathbf{q}}_1$ and substituting to the dynamics yields:\n",
    "$$\n",
    "(\\mathbf{M}_{22} - \\mathbf{M}_{21}\\mathbf{M}^{-1}_{11}\\mathbf{M}_{12})\\ddot{\\mathbf{q}}_2 - \\mathbf{h}_2 + \\mathbf{M}_{21}\\mathbf{M}_{11}^{-1}\\mathbf{h}_1 = \\mathbf{u}\n",
    "$$\n",
    "\n",
    "The collocated PFL holds globally since $\\mathbf{M}_{22} - \\mathbf{M}_{21}\\mathbf{M}^{-1}_{11}\\mathbf{M}_{12}$. "
   ]
  },
  {
   "cell_type": "markdown",
   "metadata": {
    "slideshow": {
     "slide_type": "fragment"
    }
   },
   "source": [
    "**Non-Collacted linearization:**\n",
    "One can also solve the equations above for active joints  $\\ddot{\\mathbf{q}}_2$ which yields:\n",
    "\n",
    "$$\n",
    "(\\mathbf{M}_{21} - \\mathbf{M}_{22}\\mathbf{M}^{+}_{12}\\mathbf{M}_{11})\\ddot{\\mathbf{q}}_1 - \\mathbf{h}_2 + \\mathbf{M}_{22}\\mathbf{M}_{12}^{+}\\mathbf{h}_1 = \\mathbf{u}\n",
    "$$\n",
    "\n",
    "The pseudo inverse $\\mathbf{M}^{+}_{12}$ provides a unique solution when the rank of $\\mathbf{M}_{12}$ is equals to the $n-m$ (the number of passive degrees of freedom). This condition is sometimes called **\"strong inertial coupling\"**. It is state dependent. A system is said to has **global strong inertial coupling** if it exhibits strong inertial coupling $\\forall\\mathbf{q}$"
   ]
  },
  {
   "cell_type": "markdown",
   "metadata": {
    "slideshow": {
     "slide_type": "slide"
    }
   },
   "source": [
    "### **Generilized Feedback Linearization**\n",
    "\n",
    "Consider a control affine class of nonlinear systems in state space form:\n",
    "\\begin{equation*}\n",
    "\\dot{\\mathbf{x}} = \\mathbf{f}(\\mathbf{x}) + \\mathbf{G}(\\mathbf{x})\\mathbf{u}\n",
    "\\end{equation*}\n",
    "\n",
    "where:\n",
    "* $\\mathbf{x} \\in \\mathbb{R}^n$ is state of the system\n",
    "* $\\mathbf{f}(\\mathbf{x}) \\in \\mathbb{R}^n$ nonlinear smooth function of state evolution (vector field)\n",
    "* $\\mathbf{G}(\\mathbf{x}) \\in \\mathbb{R}^{n \\times m}$ nonlinear smooth input matrix\n"
   ]
  },
  {
   "cell_type": "markdown",
   "metadata": {
    "slideshow": {
     "slide_type": "subslide"
    }
   },
   "source": [
    "Let's focus on single-input for a while ($m=1$):\n",
    "\\begin{equation*}\n",
    "\\dot{\\mathbf{x}} = \\mathbf{f}(\\mathbf{x}) + \\mathbf{g}(\\mathbf{x})u\n",
    "\\end{equation*}\n",
    "\n",
    "The system above is said to be locally **feedback linearizable** if there exists transformation $\\mathbf{T}$ (diffeomorphism):\n",
    "\\begin{equation*}\n",
    "\\mathbf{z} = \\mathbf{T}(\\mathbf{x})\n",
    "\\end{equation*} \n",
    "Together with nonlinear feedback:\n",
    "\\begin{equation*}\n",
    "u = \\alpha(\\mathbf{x}) + \\beta(\\mathbf{x})v\n",
    "\\end{equation*} "
   ]
  },
  {
   "cell_type": "markdown",
   "metadata": {
    "slideshow": {
     "slide_type": "fragment"
    }
   },
   "source": [
    "Such that the transformed state $\\mathbf{z}$ satisfy a **controllable linear system** ($n$-th order integrator):\n",
    "\\begin{equation*}\n",
    "\\dot{\\mathbf{z}} = \\mathbf{A}\\mathbf{z} + \\mathbf{b} v\n",
    "\\end{equation*}\n",
    "Where:\n",
    "\\begin{equation*}\n",
    "\\mathbf{A} = \n",
    "\\begin{bmatrix}\n",
    "0 & 1 & 0 & \\cdot  & 0 \\\\\n",
    "0 & 0 & 1 & \\cdot  & 0 \\\\ \n",
    "\\cdot  & \\cdot  &   & \\cdot & \\cdot \\\\ \n",
    "\\cdot & \\cdot & \\cdot &  & 1 \\\\ \n",
    "0 & 0 & \\cdot & \\cdot  & 0 \\\\ \n",
    "\\end{bmatrix}, \\quad\n",
    "\\mathbf{b} = \n",
    "\\begin{bmatrix}\n",
    "0\\\\\n",
    "0\\\\ \n",
    "\\cdot\\\\ \n",
    "\\cdot \\\\ \n",
    "1 \\\\ \n",
    "\\end{bmatrix}, \\quad\n",
    "\\end{equation*}\n",
    "\n",
    "Choosing desired state to be $\\mathbf{x}_d$ and respective error $\\tilde{\\mathbf{x}} = \\mathbf{x}_d - \\mathbf{x}$ one can design **linear feedback controller** $v$ such that $\\mathbf{z}$ follow $\\mathbf{z}_d = \\mathbf{T}(\\mathbf{x}_d)$. \n"
   ]
  },
  {
   "cell_type": "markdown",
   "metadata": {
    "slideshow": {
     "slide_type": "subslide"
    }
   },
   "source": [
    "\n",
    "Indeed, defining control error as $\\tilde{\\mathbf{z}} = \\mathbf{z}_d - \\mathbf{z} = \\mathbf{T}(\\mathbf{x}_d) - \\mathbf{T}(\\mathbf{x})$ or $\\tilde{\\mathbf{z}} = \\frac{\\partial\\mathbf{T}}{\\partial \\mathbf{x}}\\tilde{\\mathbf{x}}$ if $\\tilde{\\mathbf{x}}$ is known to be small, we may choose full state linear feedback controller:\n",
    "\\begin{equation*}\n",
    "v = \\mathbf{k}^T\\tilde{\\mathbf{z}}\n",
    "\\end{equation*} \n",
    "\n",
    "Then, applying control $u =\\alpha(\\mathbf{x}) + \\beta(\\mathbf{x})v$ to original system will ensure that $\\mathbf{x}\\rightarrow\\mathbf{x}_d$ if such $\\mathbf{x}_d$ is feasible."
   ]
  },
  {
   "cell_type": "markdown",
   "metadata": {
    "slideshow": {
     "slide_type": "fragment"
    }
   },
   "source": [
    "<p align=\"center\">\n",
    "<img src=\"https://drive.google.com/uc?id=1mLyqiFOJ-_vLuJXmAKJxL4Xw3Q-bs3pB\" alt=\"drawing\" width=\"60%\" style=\"margin:auto\"/>\n",
    "</p>\n"
   ]
  },
  {
   "cell_type": "markdown",
   "metadata": {
    "slideshow": {
     "slide_type": "subslide"
    }
   },
   "source": [
    "**Example:**\n",
    "\n",
    "Let us find transformation $\\mathbf{T}(x)$ and feedback linearization controller $u$ for following system:\n",
    "\n",
    "$$\n",
    "\\dot{\\mathbf{x}} = \n",
    "\\begin{bmatrix} \n",
    "\\dot{x}_1 \\\\ \n",
    "\\dot{x}_2 \\\\ \n",
    "\\end{bmatrix}\n",
    "=\n",
    "\\begin{bmatrix} \n",
    "x_2 + x_1^2\\\\ \n",
    "-x_1^3 + u\\\\ \n",
    "\\end{bmatrix}\n",
    "$$"
   ]
  },
  {
   "cell_type": "markdown",
   "metadata": {
    "slideshow": {
     "slide_type": "fragment"
    }
   },
   "source": [
    "First let's choose the following state transformation:\n",
    "\n",
    "$$\n",
    "\\mathbf{z} = \\mathbf{T}(\\mathbf{x}) = \n",
    "\\begin{bmatrix}\n",
    "x_1\\\\ \n",
    "x_2 + x_1^2 \n",
    "\\end{bmatrix}\n",
    "$$"
   ]
  },
  {
   "cell_type": "markdown",
   "metadata": {
    "slideshow": {
     "slide_type": "fragment"
    }
   },
   "source": [
    "Differentiating with respect to time yields:\n",
    "\n",
    "$$\n",
    "\\dot{\\mathbf{z}} = \n",
    " \\begin{bmatrix} \n",
    "\\dot{z}_1 \\\\\n",
    "\\dot{z}_2 \\\\ \n",
    "\\end{bmatrix} = \n",
    "\\begin{bmatrix} \n",
    "\\dot{x}_1 \\\\ \n",
    "\\dot{x}_2 + 2x_1\\dot{x}_1\n",
    "\\end{bmatrix} = \n",
    " \\begin{bmatrix} \n",
    "x_2 + x_1^2 \\\\ \n",
    "-x^3_1 + u+ 2x_1 (x_2 + x_1^2)\n",
    "\\end{bmatrix}\n",
    "$$\n",
    "Thus linearizing control law $u$:\n",
    "$$\n",
    "u = -2 x_1 (x_2 + x_1^2) +x^3_1 + v\n",
    "$$"
   ]
  },
  {
   "cell_type": "markdown",
   "metadata": {
    "slideshow": {
     "slide_type": "subslide"
    }
   },
   "source": [
    "The inner loop controller above transform our nonlinear system to the linear with respect to $\\mathbf{z}$ and $v$:\n",
    "\n",
    "\\begin{equation*}\n",
    "\\dot{\\mathbf{z}} = \n",
    " \\begin{bmatrix} \n",
    "\\dot{z}_1 \\\\ \n",
    "\\dot{z}_2 \\\\ \n",
    "\\end{bmatrix} = \n",
    " \\begin{bmatrix} \n",
    "z_2 \\\\ \n",
    "v \\\\ \n",
    "\\end{bmatrix}\n",
    "\\end{equation*}\n",
    "\n",
    "now we can easily design the stabilizing controller (regulation to the origin $\\mathbf{x}_d = [0,0]^T$) using linear tools!\n",
    "\n",
    "ne can easely check that corresponding transformed desired state $\\mathbf{z}_d = \\mathbf{T}(\\mathbf{x}_d) = [0,0]^T$ therefore stabilizing controller is given by:\n",
    "\\begin{equation*}\n",
    "v = - \\mathbf{k}^T \\mathbf{z}\n",
    "\\end{equation*}"
   ]
  },
  {
   "cell_type": "markdown",
   "metadata": {
    "slideshow": {
     "slide_type": "fragment"
    }
   },
   "source": [
    "However, this process is not well formulated, one of the problems how to get the proper transformation $\\mathbf{T}(\\mathbf{x})$? \n",
    "\n",
    "There are some techniques to do so, the general idea - choose some state $\\mathbf{x}_i$ you want ro regulate and differentiate it until input $u$ appears. "
   ]
  },
  {
   "cell_type": "markdown",
   "metadata": {
    "slideshow": {
     "slide_type": "subslide"
    }
   },
   "source": [
    "**Exercise:**\n",
    "\n",
    "Consider the following system:\n",
    "\\begin{equation*}\n",
    "\\begin{cases} \n",
    "\\dot{x}_1 = - x_1 +a x_2 +\\sin x_1\n",
    "\\\\ \n",
    "\\dot{x}_2 = - x_2 \\cos x_1 + u (\\cos x_1 + b)\n",
    "\\end{cases}\n",
    "\\end{equation*}\n",
    "where $a,b$ are constants\n",
    "\n",
    "Try to find the proper transformation and inner loop controller"
   ]
  }
 ],
 "metadata": {
  "celltoolbar": "Slideshow",
  "colab": {
   "collapsed_sections": [],
   "name": "symbolical_linearization.ipynb",
   "provenance": []
  },
  "kernelspec": {
   "display_name": "Python 3 (ipykernel)",
   "language": "python",
   "name": "python3"
  },
  "language_info": {
   "codemirror_mode": {
    "name": "ipython",
    "version": 3
   },
   "file_extension": ".py",
   "mimetype": "text/x-python",
   "name": "python",
   "nbconvert_exporter": "python",
   "pygments_lexer": "ipython3",
   "version": "3.8.10"
  },
  "rise": {
   "enable_chalkboard": true,
   "scroll": true,
   "theme": "simple",
   "transition": "linear"
  },
  "vscode": {
   "interpreter": {
    "hash": "767d51c1340bd893661ea55ea3124f6de3c7a262a8b4abca0554b478b1e2ff90"
   }
  }
 },
 "nbformat": 4,
 "nbformat_minor": 1
}
