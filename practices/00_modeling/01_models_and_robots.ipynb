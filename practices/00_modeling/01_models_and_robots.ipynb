{
 "cells": [
  {
   "cell_type": "markdown",
   "metadata": {},
   "source": [
    "## **Robot Model** "
   ]
  },
  {
   "cell_type": "markdown",
   "metadata": {},
   "source": [
    "`RobotModel` is a tiny wrapper around the modeling backend (`casadi_kin_dyn`) that allow you to create symbolical CasAdi model from **urdf** file, then calculate a notions such as **forward and inverse dynamics**, com positions, state space representation etc, one may also calculate **body** specific properties and add **contacts**."
   ]
  },
  {
   "cell_type": "markdown",
   "metadata": {},
   "source": [
    "The typical workflow as follows:\n",
    "* Build the urdf of your robot and create `RobotModel` instance\n",
    "* Add additional bodies and possibly contacts\n",
    "* Calculate the all necessary functions with `~.update_model()` method \n",
    "* Access to casadi functions that are stored within RobotModel and use them either numerically or symbolically in other CasAdi empowered projects.  \n",
    "\n",
    "There are also banch of modules that facilitates work with given type of robots, i.e. manipulators, quadrupeds and bipeds.\n"
   ]
  },
  {
   "cell_type": "markdown",
   "metadata": {},
   "source": [
    "As example let us create the model of z1 manipulator:\n",
    "\n",
    "We will use [robot_descriptions.py](https://github.com/robot-descriptions/robot_descriptions.py) library to simplify the process of urdf retrieval.\n",
    "\n",
    "### *Note*:\n",
    "You have to restart kernel after `robot_descriptions` is installed"
   ]
  },
  {
   "cell_type": "code",
   "execution_count": 1,
   "metadata": {},
   "outputs": [],
   "source": [
    "%%capture\n",
    "!pip3 install robot_descriptions"
   ]
  },
  {
   "cell_type": "code",
   "execution_count": 2,
   "metadata": {},
   "outputs": [],
   "source": [
    "from darli.robots import RobotModel\n",
    "from robot_descriptions import z1_description\n",
    "\n",
    "model = RobotModel(z1_description.URDF_PATH)"
   ]
  },
  {
   "cell_type": "markdown",
   "metadata": {},
   "source": [
    "One can retrive basic model info as follows:"
   ]
  },
  {
   "cell_type": "code",
   "execution_count": 3,
   "metadata": {},
   "outputs": [
    {
     "data": {
      "text/plain": [
       "(6, 6, 6)"
      ]
     },
     "execution_count": 3,
     "metadata": {},
     "output_type": "execute_result"
    }
   ],
   "source": [
    "nq = model.nq # dimensionality of configuration  \n",
    "nv = model.nv # dimensionality of generilized velocities\n",
    "nu = model.nu # dimensionality  of control inputs\n",
    "q_min, q_max = model.q_min, model.q_max # minimal and maximal limits on joint pos\n",
    "nq, nv, nu"
   ]
  },
  {
   "cell_type": "code",
   "execution_count": 4,
   "metadata": {},
   "outputs": [
    {
     "data": {
      "text/plain": [
       "['joint1', 'joint2', 'joint3', 'joint4', 'joint5', 'joint6']"
      ]
     },
     "execution_count": 4,
     "metadata": {},
     "output_type": "execute_result"
    }
   ],
   "source": [
    "joint_names = model.joint_names # names of the joints\n",
    "joint_names"
   ]
  },
  {
   "cell_type": "code",
   "execution_count": 5,
   "metadata": {},
   "outputs": [
    {
     "data": {
      "text/plain": [
       "5"
      ]
     },
     "execution_count": 5,
     "metadata": {},
     "output_type": "execute_result"
    }
   ],
   "source": [
    "model.joint_iq(joint_names[nv-1]) # will return id of the joint by name"
   ]
  },
  {
   "cell_type": "markdown",
   "metadata": {},
   "source": [
    "### **Equations of Motion and Dynamics**"
   ]
  },
  {
   "cell_type": "markdown",
   "metadata": {},
   "source": [
    "The dynamics of articulated mechanics in robotic systems is usually represented as:\n",
    "$$\n",
    "\\mathbf{M}(\\mathbf{q})\\dot{\\mathbf{v}} + \\mathbf{C}(\\mathbf{q},\\mathbf{v})\\mathbf{v} + \\mathbf{g}(\\mathbf{q})  = \n",
    "\\mathbf{M}(\\mathbf{q})\\dot{\\mathbf{v}} + \\mathbf{c}(\\mathbf{q},\\mathbf{v}) + \\mathbf{g}(\\mathbf{q}) = \\mathbf{M}(\\mathbf{q})\\dot{\\mathbf{v}} + \\mathbf{h}(\\mathbf{q},\\mathbf{v}) = \\mathbf{Q}\n",
    "$$\n",
    "\n",
    "where:\n",
    "* $\\mathbf{Q} \\in \\mathbb{R}^{nv}$ - generalized forces corresponding to generilized coordinates\n",
    "* $\\mathbf{q} \\in \\mathbb{R}^{nq}$ - vector of generilized coordinates\n",
    "* $\\mathbf{v} \\in \\mathbb{R}^{nq}$ - vector of generilized velocities (sometimes $\\mathbf{v} = \\dot{\\mathbf{q}}$, but not in case of $\\mathbf{q}$ containing quaternions)\n",
    "* $\\mathbf{M} \\in \\mathbb{R}^{nv \\times nv}$ - positive definite symmetric inertia matrix \n",
    "* $\\mathbf{c} \\in \\mathbb{R}^{nv}$ - describe centrifugal and Coriolis forces\n",
    "* $\\mathbf{C} \\in \\mathbb{R}^{nv \\times nv}$ - describe 'coefficients' of centrifugal and Coriolis forces\n",
    "* $\\mathbf{g} \\in \\mathbb{R}^{nv}$ - describes effect of gravity and other position depending forces\n",
    "* $\\mathbf{h} \\in \\mathbb{R}^{nv} $ - combined effect of $\\mathbf{g}$ and $\\mathbf{c}$\n",
    "\n",
    "\n",
    "One can get all of the above quantities in symbotics as follows:"
   ]
  },
  {
   "cell_type": "code",
   "execution_count": 6,
   "metadata": {},
   "outputs": [],
   "source": [
    "inertia = model.inertia\n",
    "gravity_vector = model.gravity\n",
    "bias_force = model.bias_force\n",
    "coriolis_matrix = model.coriolis_matrix \n",
    "coriolis = model.coriolis"
   ]
  },
  {
   "cell_type": "markdown",
   "metadata": {},
   "source": [
    "Each of the above define the CasAdi functions:"
   ]
  },
  {
   "cell_type": "code",
   "execution_count": 7,
   "metadata": {},
   "outputs": [
    {
     "data": {
      "text/plain": [
       "Function(inertia:(q[6])->(inertia[6x6]) SXFunction)"
      ]
     },
     "execution_count": 7,
     "metadata": {},
     "output_type": "execute_result"
    }
   ],
   "source": [
    "inertia"
   ]
  },
  {
   "cell_type": "markdown",
   "metadata": {},
   "source": [
    "And can be evaluated both numerically and symbolically:"
   ]
  },
  {
   "cell_type": "code",
   "execution_count": 68,
   "metadata": {},
   "outputs": [],
   "source": [
    "q_sym = cs.SX.sym('q', nq)"
   ]
  },
  {
   "cell_type": "code",
   "execution_count": 77,
   "metadata": {},
   "outputs": [
    {
     "data": {
      "text/plain": [
       "SX([q_0, q_1, q_2, q_3, q_4, q_5])"
      ]
     },
     "execution_count": 77,
     "metadata": {},
     "output_type": "execute_result"
    }
   ],
   "source": [
    "q_sym"
   ]
  },
  {
   "cell_type": "code",
   "execution_count": 69,
   "metadata": {},
   "outputs": [],
   "source": [
    "grav_expression = gravity_vector(q_sym)"
   ]
  },
  {
   "cell_type": "code",
   "execution_count": 81,
   "metadata": {},
   "outputs": [
    {
     "data": {
      "text/plain": [
       "(6, 1)"
      ]
     },
     "execution_count": 81,
     "metadata": {},
     "output_type": "execute_result"
    }
   ],
   "source": [
    "grav_expression.shape"
   ]
  },
  {
   "cell_type": "code",
   "execution_count": 74,
   "metadata": {},
   "outputs": [],
   "source": [
    "grav_jac_exp = cs.jacobian(grav_expression, q_sym)"
   ]
  },
  {
   "cell_type": "code",
   "execution_count": 83,
   "metadata": {},
   "outputs": [
    {
     "data": {
      "text/plain": [
       "SX(@1=cos(q_1), @2=0.00240029, @3=1.19132, @4=9.81, @5=cos(q_1), @6=(@4*@5), @7=(@3*@6), @8=cos(q_2), @9=-0.00541815, @10=0.839409, @11=sin(q_2), @12=sin(q_1), @13=(@4*@12), @14=((@8*@6)-(@11*@13)), @15=(@10*@14), @16=cos(q_3), @17=0.00364738, @18=0.564046, @19=sin(q_3), @20=((@8*@13)+(@11*@6)), @21=((@16*@14)-(@19*@20)), @22=(@18*@21), @23=0.0312153, @24=0.389385, @25=sin(q_4), @26=(@25*@21), @27=(@24*@26), @28=cos(q_5), @29=0.0241569, @30=0.288758, @31=sin(q_5), @32=((@16*@20)+(@19*@14)), @33=(@30*((@28*@26)-(@31*@32))), @34=-0.00017355, @35=cos(q_4), @36=(@35*@21), @37=(@30*@36), @38=((@29*@33)+(@34*@37)), @39=-0.00143876, @40=(@30*((@28*@32)+(@31*@26))), @41=((@39*@37)-(@29*@40)), @42=0.0492, @43=((@28*@33)+(@31*@40)), @44=((@23*@27)+(((@28*@38)-(@31*@41))+(@42*@43))), @45=0.07, @46=(@27+@43), @47=(@24*@36), @48=(@47+@37), @49=((@35*@46)-(@25*@48)), @50=((@17*@22)+(@44+(@45*@49))), @51=0.00646316, @52=(@24*@32), @53=((@31*@33)-(@28*@40)), @54=(((@51*@47)-(@23*@52))+(((@28*@41)+(@31*@38))+(@42*@53))), @55=((@34*@40)+(@39*@33)), @56=(@55+(@51*@27)), @57=(@18*@32), @58=(((@25*@54)-(@35*@56))-(@17*@57)), @59=0.218, @60=((@9*@15)+(((@16*@50)-(@19*@58))+(@59*@49))), @61=0.057, @62=(@10*@20), @63=((((@16*@58)+(@19*@50))-(@61*@49))-(@9*@62)), @64=-0.35, @65=sin(q_1), @66=(@4*@65), @67=(@4*@1), @68=((@8*@66)+(@11*@67)), @69=(@10*@68), @70=((@8*@67)-(@11*@66)), @71=((@16*@68)+(@19*@70)), @72=(@18*@71), @73=(@25*@71), @74=(@24*@73), @75=((@16*@70)-(@19*@68)), @76=(@30*((@28*@73)+(@31*@75))), @77=(@35*@71), @78=(@30*@77), @79=((@29*@76)+(@34*@78)), @80=(@30*((@28*@75)-(@31*@73))), @81=((@39*@78)+(@29*@80)), @82=((@28*@76)-(@31*@80)), @83=(@74+@82), @84=(@24*@77), @85=(@84+@78), @86=((@35*@83)-(@25*@85)), @87=((@17*@72)+(((@23*@74)+(((@28*@79)-(@31*@81))+(@42*@82)))+(@45*@86))), @88=(@18*@75), @89=(((@34*@80)-(@39*@76))-(@51*@74)), @90=(@24*@75), @91=((@31*@76)+(@28*@80)), @92=(((@51*@84)+(@23*@90))+(((@28*@81)+(@31*@79))+(@42*@91))), @93=((@17*@88)+((@35*@89)+(@25*@92))), @94=((@9*@69)+(((@16*@87)-(@19*@93))+(@59*@86))), @95=(@10*@70), @96=((@9*@95)+(((@16*@93)+(@19*@87))-(@61*@86))), @97=(@3*@13), @98=(@53-@52), @99=(@98-@57), @100=(@22+((@35*@48)+(@25*@46))), @101=((@19*@99)-(@16*@100)), @102=((@16*@99)+(@19*@100)), @103=-0.00170192, @104=0.0436668, @105=((((@25*@56)+(@35*@54))+(@45*@98))+((@103*@22)-(@104*@57))), @106=0.0347638, @107=0.106092, @108=((((@61*@101)-(@59*@102))-@105)-((@106*@15)-(@107*@62))), @109=cos(q_2), @110=sin(q_2), @111=((@67*@109)-(@66*@110)), @112=(@10*@111), @113=((@67*@110)+(@66*@109)), @114=((@16*@111)-(@19*@113)), @115=(@18*@114), @116=(@25*@114), @117=(@24*@116), @118=((@16*@113)+(@19*@111)), @119=(@30*((@28*@116)-(@31*@118))), @120=(@35*@114), @121=(@30*@120), @122=((@29*@119)+(@34*@121)), @123=(@30*((@28*@118)+(@31*@116))), @124=((@39*@121)-(@29*@123)), @125=((@28*@119)+(@31*@123)), @126=((@23*@117)+(((@28*@122)-(@31*@124))+(@42*@125))), @127=(@117+@125), @128=(@24*@120), @129=(@128+@121), @130=((@35*@127)-(@25*@129)), @131=((@17*@115)+(@126+(@45*@130))), @132=(@24*@118), @133=((@31*@119)-(@28*@123)), @134=(((@51*@128)-(@23*@132))+(((@28*@124)+(@31*@122))+(@42*@133))), @135=((@34*@123)+(@39*@119)), @136=(@135+(@51*@117)), @137=(@18*@118), @138=(((@25*@134)-(@35*@136))-(@17*@137)), @139=((@9*@112)+(((@16*@131)-(@19*@138))+(@59*@130))), @140=(@10*@113), @141=((((@16*@138)+(@19*@131))-(@61*@130))-(@9*@140)), @142=(@133-@132), @143=(@142-@137), @144=(@115+((@35*@129)+(@25*@127))), @145=((@19*@143)-(@16*@144)), @146=((@16*@143)+(@19*@144)), @147=((((@25*@136)+(@35*@134))+(@45*@142))+((@103*@115)-(@104*@137))), @148=((((@61*@145)-(@59*@146))-@147)-((@106*@112)-(@107*@140))), @149=(@88+(@90+@91)), @150=(@72+((@35*@85)+(@25*@83))), @151=cos(q_3), @152=sin(q_3), @153=((@70*@151)-(@68*@152)), @154=(@18*@153), @155=(@25*@153), @156=(@24*@155), @157=((@70*@152)+(@68*@151)), @158=(@30*((@28*@155)-(@31*@157))), @159=(@35*@153), @160=(@30*@159), @161=((@29*@158)+(@34*@160)), @162=(@30*((@28*@157)+(@31*@155))), @163=((@39*@160)-(@29*@162)), @164=((@28*@158)+(@31*@162)), @165=((@23*@156)+(((@28*@161)-(@31*@163))+(@42*@164))), @166=(@156+@164), @167=(@24*@159), @168=(@167+@160), @169=((@35*@166)-(@25*@168)), @170=((@17*@154)+(@165+(@45*@169))), @171=(@24*@157), @172=((@31*@158)-(@28*@162)), @173=(((@51*@167)-(@23*@171))+(((@28*@163)+(@31*@161))+(@42*@172))), @174=((@34*@162)+(@39*@158)), @175=(@174+(@51*@156)), @176=(@18*@157), @177=(((@25*@173)-(@35*@175))-(@17*@176)), @178=((((@16*@170)-(@87*@152))-((@93*@151)+(@19*@177)))+(@59*@169)), @179=((((@16*@177)-(@93*@152))+((@87*@151)+(@19*@170)))-(@61*@169)), @180=(@172-@171), @181=(@180-@176), @182=(@154+((@35*@168)+(@25*@166))), @183=(((@149*@151)+(@19*@181))-((@16*@182)-(@150*@152))), @184=(((@16*@181)-(@149*@152))+((@150*@151)+(@19*@182))), @185=((((@25*@175)+(@35*@173))+(@45*@180))+((@103*@154)-(@104*@176))), @186=(((@61*@183)-(@59*@184))-@185), @187=cos(q_4), @188=(@71*@187), @189=(@24*@188), @190=(@30*(@28*@188)), @191=sin(q_4), @192=(@71*@191), @193=(@30*@192), @194=((@29*@190)-(@34*@193)), @195=(@30*(@31*@188)), @196=((@39*@193)+(@29*@195)), @197=((@28*@190)+(@31*@195)), @198=((@23*@189)+(((@28*@194)+(@31*@196))+(@42*@197))), @199=(@189+@197), @200=(@24*@192), @201=(@200+@193), @202=(((@35*@199)-(@83*@191))-((@85*@187)-(@25*@201))), @203=(@198+(@45*@202)), @204=((@31*@190)-(@28*@195)), @205=((((@31*@194)-(@28*@196))+(@42*@204))-(@51*@200)), @206=((@34*@195)+(@39*@190)), @207=(@206+(@51*@189)), @208=(((@92*@187)+(@25*@205))-((@89*@191)+(@35*@207))), @209=(((@16*@203)-(@19*@208))+(@59*@202)), @210=(((@16*@208)+(@19*@203))-(@61*@202)), @211=((((@89*@187)-(@25*@207))-((@35*@205)-(@92*@191)))-(@45*@204)), @212=(((@83*@187)+(@25*@199))-((@85*@191)+(@35*@201))), @213=((@19*@204)-(@16*@212)), @214=((@16*@204)+(@19*@212)), @215=(@211+((@61*@213)-(@59*@214))), @216=cos(q_5), @217=sin(q_5), @218=(@30*((@75*@216)-(@73*@217))), @219=(@29*@218), @220=(@30*((@75*@217)+(@73*@216))), @221=(@29*@220), @222=(((@28*@218)-(@76*@217))-((@80*@216)-(@31*@220))), @223=((((@28*@219)-(@79*@217))-((@81*@216)-(@31*@221)))+(@42*@222)), @224=(@35*@222), @225=(@223+(@45*@224)), @226=(((@76*@216)+(@31*@218))-((@80*@217)+(@28*@220))), @227=((((@79*@216)+(@31*@219))-((@81*@217)+(@28*@221)))+(@42*@226)), @228=((@34*@220)+(@39*@218)), @229=((@25*@227)-(@35*@228)), @230=(((@16*@225)-(@19*@229))+(@59*@224)), @231=(((@16*@229)+(@19*@225))-(@61*@224)), @232=(@25*@222), @233=((@19*@226)-(@16*@232)), @234=((@16*@226)+(@19*@232)), @235=(((@25*@228)+(@35*@227))+(@45*@226)), @236=(((@61*@233)-(@59*@234))-@235), \n",
       "[[00, (((@1*((@2*@7)+(((@8*@60)-(@11*@63))+(@64*@49))))-(((@2*(@3*@66))+(((@8*@94)-(@11*@96))+(@64*@86)))*@12))-((((@2*(@3*@67))+((@8*@96)+(@11*@94)))*@5)+(@65*(((@8*@63)+(@11*@60))-(@2*@97))))), ((@1*((((@8*@139)-(@94*@110))-((@96*@109)+(@11*@141)))+(@64*@130)))-(@65*(((@8*@141)-(@96*@110))+((@94*@109)+(@11*@139))))), ((@1*(((@8*@178)-(@11*@179))+(@64*@169)))-(@65*((@8*@179)+(@11*@178)))), ((@1*(((@8*@209)-(@11*@210))+(@64*@202)))-(@65*((@8*@210)+(@11*@209)))), ((@1*(((@8*@230)-(@11*@231))+(@64*@224)))-(@65*((@8*@231)+(@11*@230))))], \n",
       " [00, ((@108-(@64*((@8*(@102-@62))-(@11*(@101-@15)))))-((0.00158266*@7)-(-0.110126*@97))), (@148-(@64*(((@8*(@146-@140))-((@95+((@16*@149)+(@19*@150)))*@110))-(((((@19*@149)-(@16*@150))-@69)*@109)+(@11*(@145-@112)))))), (@186-(@64*((@8*@184)-(@11*@183)))), (@215-(@64*((@8*@214)-(@11*@213)))), (@236-(@64*((@8*@234)-(@11*@233))))], \n",
       " [00, @108, @148, @186, @215, @236], \n",
       " [00, (-@105), (-@147), (-@185), @211, (-@235)], \n",
       " [00, @44, @126, @165, @198, @223], \n",
       " [00, (-@55), (-@135), (-@174), (-@206), (-@228)]])"
      ]
     },
     "execution_count": 83,
     "metadata": {},
     "output_type": "execute_result"
    }
   ],
   "source": [
    "grav_jac_exp"
   ]
  },
  {
   "cell_type": "code",
   "execution_count": 84,
   "metadata": {},
   "outputs": [],
   "source": [
    "gravity_jacobian = cs.Function(\"gravity_jac\", \n",
    "                               [q_sym],\n",
    "                               [grav_jac_exp],\n",
    "                               [\"q\"],\n",
    "                               [\"jacobian\"])"
   ]
  },
  {
   "cell_type": "code",
   "execution_count": 86,
   "metadata": {},
   "outputs": [
    {
     "data": {
      "text/plain": [
       "DM(\n",
       "[[00, 8.32667e-17, 1.04433e-16, 8.69504e-17, 5.55112e-17, 2.6834e-18], \n",
       " [00, -0.890131, -3.94684, -0.568743, 0.0438159, -0.0021164], \n",
       " [00, -3.94684, -3.94684, -0.568743, 0.0438159, -0.0021164], \n",
       " [00, -0.568743, -0.568743, -0.568743, 0.0438159, -0.0021164], \n",
       " [00, 0.0438159, 0.0438159, 0.0438159, -0.174379, -0.000295666], \n",
       " [00, -0.0021164, -0.0021164, -0.0021164, -0.000295666, 9.11146e-05]])"
      ]
     },
     "execution_count": 86,
     "metadata": {},
     "output_type": "execute_result"
    }
   ],
   "source": [
    "gravity_jacobian(np.random.randn(nq))"
   ]
  },
  {
   "cell_type": "code",
   "execution_count": 8,
   "metadata": {},
   "outputs": [
    {
     "name": "stdout",
     "output_type": "stream",
     "text": [
      "Numerical: \n",
      "[[0.0757463, 0.0124371, 0.00036802, 0.00205834, -0.00410719, -5.29829e-06], \n",
      " [0.0124371, 0.343047, 0.0783739, 0.0355711, -0.00155742, -0.000221229], \n",
      " [0.00036802, 0.0783739, 0.107442, 0.0159461, 0.0064686, -0.000106644], \n",
      " [0.00205834, 0.0355711, 0.0159461, 0.00752424, 0.000100008, -0.000179624], \n",
      " [-0.00410719, -0.00155742, 0.0064686, 0.000100008, 0.00261871, 2.95105e-05], \n",
      " [-5.29829e-06, -0.000221229, -0.000106644, -0.000179624, 2.95105e-05, 0.000183886]]\n"
     ]
    }
   ],
   "source": [
    "import numpy as np \n",
    "import casadi as cs\n",
    "\n",
    "# Symbolical computation\n",
    "print('Symbolical:', inertia(cs.SX.sym('q', nq)))\n",
    "# Numerical computation\n",
    "print('Numerical:', inertia(np.random.randn(nq)))"
   ]
  },
  {
   "cell_type": "code",
   "execution_count": 9,
   "metadata": {},
   "outputs": [
    {
     "data": {
      "text/plain": [
       "Function(bias_force:(q[6],v[6])->(bias_force[6]) SXFunction)"
      ]
     },
     "execution_count": 9,
     "metadata": {},
     "output_type": "execute_result"
    }
   ],
   "source": [
    "bias_force"
   ]
  },
  {
   "cell_type": "code",
   "execution_count": 10,
   "metadata": {},
   "outputs": [
    {
     "name": "stdout",
     "output_type": "stream",
     "text": [
      "36.5 µs ± 978 ns per loop (mean ± std. dev. of 7 runs, 10,000 loops each)\n"
     ]
    }
   ],
   "source": [
    "%timeit bias_force(np.random.randn(nq), np.random.randn(nv))"
   ]
  },
  {
   "cell_type": "markdown",
   "metadata": {},
   "source": [
    "Note that above are calculated not via Lagrange formalism but by using efficient recursive Newton-Euler algorithm (for `bias_force`), while inertia matrix is evaluated by composite rigid body algorithm (CRBA)"
   ]
  },
  {
   "cell_type": "markdown",
   "metadata": {},
   "source": [
    "There are some notions apart from dynamical coefficients that may be useful as well, such as com kinematics and jacobians, and energy:"
   ]
  },
  {
   "cell_type": "code",
   "execution_count": 11,
   "metadata": {},
   "outputs": [],
   "source": [
    "com_position = model.com().position\n",
    "com_velocity = model.com().velocity\n",
    "com_jacobian = model.com().jacobian\n",
    "com_jacobian_dt = model.com().jacobian_dt\n",
    "potential_energy = model.energy().potential\n",
    "kinetic_energy = model.energy().kinetic\n",
    "lagrangian = model.lagrangian\n",
    "\n",
    "# TODO\n",
    "# momentum"
   ]
  },
  {
   "cell_type": "code",
   "execution_count": 12,
   "metadata": {},
   "outputs": [
    {
     "data": {
      "text/plain": [
       "Function(com_position:(q[6])->(com_position[3]) SXFunction)"
      ]
     },
     "execution_count": 12,
     "metadata": {},
     "output_type": "execute_result"
    }
   ],
   "source": [
    "com_position"
   ]
  },
  {
   "cell_type": "code",
   "execution_count": 13,
   "metadata": {},
   "outputs": [
    {
     "data": {
      "text/plain": [
       "Function(com_jacobian_dt:(q[6],v[6])->(com_jacobian_dt[3x6]) SXFunction)"
      ]
     },
     "execution_count": 13,
     "metadata": {},
     "output_type": "execute_result"
    }
   ],
   "source": [
    "com_jacobian_dt"
   ]
  },
  {
   "cell_type": "markdown",
   "metadata": {},
   "source": [
    "#### **Forward and Inverse Dynamics**\n"
   ]
  },
  {
   "cell_type": "markdown",
   "metadata": {},
   "source": [
    "In inverse dynamics we looking for the generilized forces:\n",
    "$$\n",
    "    \\mathbf{Q} = \\mathbf{M}(\\mathbf{q})\\dot{\\mathbf{v}} + \\mathbf{h}(\\mathbf{q},\\mathbf{v}) = \\text{rnea}(\\mathbf{q}, \\mathbf{v}, \\dot{\\mathbf{v}})\n",
    "$$"
   ]
  },
  {
   "cell_type": "code",
   "execution_count": 14,
   "metadata": {},
   "outputs": [],
   "source": [
    "invdyn = model.inverse_dynamics"
   ]
  },
  {
   "cell_type": "code",
   "execution_count": 15,
   "metadata": {},
   "outputs": [
    {
     "name": "stdout",
     "output_type": "stream",
     "text": [
      "48.1 µs ± 1.5 µs per loop (mean ± std. dev. of 7 runs, 10,000 loops each)\n"
     ]
    }
   ],
   "source": [
    "%timeit invdyn(np.random.randn(nq), np.random.randn(nv), np.random.randn(nv))"
   ]
  },
  {
   "cell_type": "markdown",
   "metadata": {},
   "source": [
    "While forward dynamics is basically solving the equations of motion with respect to accelerations $\\dot{\\mathbf{v}}$. However the solution of the above in general case usually yields the complexity of $O(nv^3)$, for this reason a way to go is to use celebrated Featherstone Articulated Body algorithm (ABA), which effectevely exploit sparsity of $\\mathbf{M}$ for the tree structures and produce nearly linear complexity $O(nv)$:\n",
    "\n",
    "\n",
    "$$\n",
    "\\dot{\\mathbf{v}} = \\mathbf{M}^{-1}(\\mathbf{q})(\\mathbf{Q} - \\mathbf{h}(\\mathbf{q},\\mathbf{v})) = \\text{aba}(\\mathbf{q}, \\mathbf{v}, \\mathbf{Q})\n",
    "$$\n",
    "\n",
    "<!-- Articulated body algorithm \n",
    "\n",
    "Feather stone algorithm\n",
    " -->\n",
    "<!-- http://gamma.cs.unc.edu/courses/robotics-f08/LEC/ArticulatedBodyDynamics.pdf -->"
   ]
  },
  {
   "cell_type": "code",
   "execution_count": 16,
   "metadata": {},
   "outputs": [
    {
     "data": {
      "text/plain": [
       "Function(forward_dynamics:(q[6],v[6],u[6])->(dv[6]) SXFunction)"
      ]
     },
     "execution_count": 16,
     "metadata": {},
     "output_type": "execute_result"
    }
   ],
   "source": [
    "model.forward_dynamics"
   ]
  },
  {
   "cell_type": "code",
   "execution_count": 17,
   "metadata": {},
   "outputs": [
    {
     "name": "stdout",
     "output_type": "stream",
     "text": [
      "62.5 µs ± 5.45 µs per loop (mean ± std. dev. of 7 runs, 10,000 loops each)\n"
     ]
    }
   ],
   "source": [
    "%timeit model.forward_dynamics(np.random.randn(nq), np.random.randn(nv), np.random.randn(nu))"
   ]
  },
  {
   "cell_type": "markdown",
   "metadata": {},
   "source": [
    "#### **Passive Joints and Selector**"
   ]
  },
  {
   "cell_type": "markdown",
   "metadata": {},
   "source": [
    "$$\n",
    "Q = Su\n",
    "$$"
   ]
  },
  {
   "cell_type": "markdown",
   "metadata": {},
   "source": [
    "Choosing the passive joints:"
   ]
  },
  {
   "cell_type": "code",
   "execution_count": 18,
   "metadata": {},
   "outputs": [
    {
     "name": "stdout",
     "output_type": "stream",
     "text": [
      "Old input dimensions: 6\n",
      "New input dimensions: 8\n"
     ]
    }
   ],
   "source": [
    "import numpy as np \n",
    "print(f'Old input dimensions: {model.nu}')\n",
    "S = np.random.randn(model.nv, model.nv+2)\n",
    "model.set_selector(S)\n",
    "print(f'New input dimensions: {model.nu}')"
   ]
  },
  {
   "cell_type": "code",
   "execution_count": 19,
   "metadata": {},
   "outputs": [
    {
     "data": {
      "text/plain": [
       "Function(forward_dynamics:(q[6],v[6],u[8])->(dv[6]) SXFunction)"
      ]
     },
     "execution_count": 19,
     "metadata": {},
     "output_type": "execute_result"
    }
   ],
   "source": [
    "model.forward_dynamics"
   ]
  },
  {
   "cell_type": "code",
   "execution_count": 20,
   "metadata": {},
   "outputs": [
    {
     "name": "stdout",
     "output_type": "stream",
     "text": [
      "New input dimensions: 3\n",
      "New selector:\n",
      " [[0. 0. 0.]\n",
      " [0. 0. 0.]\n",
      " [0. 0. 0.]\n",
      " [1. 0. 0.]\n",
      " [0. 1. 0.]\n",
      " [0. 0. 1.]]\n"
     ]
    }
   ],
   "source": [
    "model.set_selector(passive_joints=range(3))\n",
    "print(f'New input dimensions: {model.nu}')\n",
    "print(f'New selector:\\n {model.selector}')"
   ]
  },
  {
   "cell_type": "code",
   "execution_count": 21,
   "metadata": {},
   "outputs": [
    {
     "data": {
      "text/plain": [
       "Function(forward_dynamics:(q[6],v[6],u[3])->(dv[6]) SXFunction)"
      ]
     },
     "execution_count": 21,
     "metadata": {},
     "output_type": "execute_result"
    }
   ],
   "source": [
    "model.forward_dynamics"
   ]
  },
  {
   "cell_type": "markdown",
   "metadata": {},
   "source": [
    "#### **State space Representation and Linearization**"
   ]
  },
  {
   "cell_type": "markdown",
   "metadata": {},
   "source": [
    "One can easily transform the mechanical system to the state space form by defining the state $\\mathbf{x} = [\\mathbf{q}, \\mathbf{v}]^T$:\n",
    "\n",
    "\n",
    "$$\n",
    "\\dot{\\mathbf{x}}= \\mathbf{f}(\\mathbf{x}, \\mathbf{u}) = \n",
    "\\begin{bmatrix}\n",
    "\\dot{\\mathbf{x}}_1 \\\\ \n",
    "\\dot{\\mathbf{x}}_2\n",
    "\\end{bmatrix}=\n",
    "\\begin{bmatrix}\n",
    "\\dot{\\mathbf{q}} \\\\ \n",
    "\\dot{\\mathbf{v}}\n",
    "\\end{bmatrix}=\n",
    "\\begin{bmatrix}\n",
    "\\mathbf{W}(\\mathbf{q})\\mathbf{v} \\\\ \n",
    "\\text{aba}(\\mathbf{q}, \\mathbf{v}, \\mathbf{S}\\mathbf{u})\n",
    "\\end{bmatrix}=\n",
    "\\begin{bmatrix}\n",
    "\\mathbf{W}(\\mathbf{x}_1)\\mathbf{x}_2 \\\\\n",
    "\\text{aba}(\\mathbf{x}_1, \\mathbf{x}_2, \\mathbf{S}\\mathbf{u})\n",
    "\\end{bmatrix}\n",
    "$$\n",
    "\n"
   ]
  },
  {
   "cell_type": "code",
   "execution_count": 22,
   "metadata": {},
   "outputs": [],
   "source": [
    "model.state_space.state"
   ]
  },
  {
   "cell_type": "markdown",
   "metadata": {},
   "source": [
    "The above equation can be easily linearized to produce following linear approximation:"
   ]
  },
  {
   "cell_type": "markdown",
   "metadata": {},
   "source": [
    "One can easily find linearization with respect to state:"
   ]
  },
  {
   "cell_type": "code",
   "execution_count": 23,
   "metadata": {},
   "outputs": [
    {
     "data": {
      "text/plain": [
       "Function(state_jacobian:(x[12],u[3])->(dfdx[12x12,72nz]) SXFunction)"
      ]
     },
     "execution_count": 23,
     "metadata": {},
     "output_type": "execute_result"
    }
   ],
   "source": [
    "model.state_space.state_jacobian"
   ]
  },
  {
   "cell_type": "markdown",
   "metadata": {},
   "source": [
    "and control:"
   ]
  },
  {
   "cell_type": "code",
   "execution_count": 24,
   "metadata": {},
   "outputs": [
    {
     "data": {
      "text/plain": [
       "Function(input_jacobian:(x[12],u[3])->(dfdu[12x3,18nz]) SXFunction)"
      ]
     },
     "execution_count": 24,
     "metadata": {},
     "output_type": "execute_result"
    }
   ],
   "source": [
    "model.state_space.input_jacobian"
   ]
  },
  {
   "cell_type": "markdown",
   "metadata": {},
   "source": [
    "These functionality allows for easy implementation of linearization based analysis and control."
   ]
  },
  {
   "cell_type": "markdown",
   "metadata": {},
   "source": [
    "#### **Bodies and Contacts**"
   ]
  },
  {
   "cell_type": "code",
   "execution_count": 25,
   "metadata": {},
   "outputs": [
    {
     "data": {
      "text/plain": [
       "{'link06'}"
      ]
     },
     "execution_count": 25,
     "metadata": {},
     "output_type": "execute_result"
    }
   ],
   "source": [
    "model.add_bodies(['link06'])\n",
    "model.bodies_names"
   ]
  },
  {
   "cell_type": "code",
   "execution_count": 26,
   "metadata": {},
   "outputs": [
    {
     "data": {
      "text/plain": [
       "<darli.models.body.Body at 0x7fbac07b32b0>"
      ]
     },
     "execution_count": 26,
     "metadata": {},
     "output_type": "execute_result"
    }
   ],
   "source": [
    "model.body('link06')"
   ]
  },
  {
   "cell_type": "markdown",
   "metadata": {},
   "source": [
    "One may also retrieve a hash map of all bodies:"
   ]
  },
  {
   "cell_type": "code",
   "execution_count": 27,
   "metadata": {},
   "outputs": [
    {
     "data": {
      "text/plain": [
       "{'link06': <darli.models.body.Body at 0x7fbac07b32b0>}"
      ]
     },
     "execution_count": 27,
     "metadata": {},
     "output_type": "execute_result"
    }
   ],
   "source": [
    "model.bodies"
   ]
  },
  {
   "cell_type": "markdown",
   "metadata": {},
   "source": [
    "$$\n",
    "r = f_k(q) \n",
    "$$"
   ]
  },
  {
   "cell_type": "code",
   "execution_count": 28,
   "metadata": {},
   "outputs": [
    {
     "data": {
      "text/plain": [
       "Function(position_link06:(q[6])->(position[3]) SXFunction)"
      ]
     },
     "execution_count": 28,
     "metadata": {},
     "output_type": "execute_result"
    }
   ],
   "source": [
    "model.body(\"link06\").position"
   ]
  },
  {
   "cell_type": "code",
   "execution_count": 29,
   "metadata": {},
   "outputs": [
    {
     "data": {
      "text/plain": [
       "Function(link06_linear_acceleration_local:(q[6],v[6],dv[6])->(linear_acceleration_local[3]) SXFunction)"
      ]
     },
     "execution_count": 29,
     "metadata": {},
     "output_type": "execute_result"
    }
   ],
   "source": [
    "model.body(\"link06\").linear_acceleration().local"
   ]
  },
  {
   "cell_type": "markdown",
   "metadata": {},
   "source": [
    "$$\n",
    "\\dot{r}_{cf} = J(q)v\n",
    "$$"
   ]
  },
  {
   "cell_type": "code",
   "execution_count": 30,
   "metadata": {},
   "outputs": [
    {
     "data": {
      "text/plain": [
       "Function(link06_jacobian_local:(q[6])->(jacobian[6x6]) SXFunction)"
      ]
     },
     "execution_count": 30,
     "metadata": {},
     "output_type": "execute_result"
    }
   ],
   "source": [
    "model.body(\"link06\").jacobian().local"
   ]
  },
  {
   "cell_type": "code",
   "execution_count": 31,
   "metadata": {},
   "outputs": [
    {
     "data": {
      "text/plain": [
       "Function(link06_angular_acceleration_local:(q[6],v[6],dv[6])->(angular_acceleration_local[3]) SXFunction)"
      ]
     },
     "execution_count": 31,
     "metadata": {},
     "output_type": "execute_result"
    }
   ],
   "source": [
    "model.body(\"link06\").jacobian().local\n",
    "model.body(\"link06\").jacobian_dt().local\n",
    "model.body(\"link06\").linear_velocity().local\n",
    "model.body(\"link06\").angular_velocity().local\n",
    "model.body(\"link06\").linear_acceleration().local\n",
    "model.body(\"link06\").angular_acceleration().local"
   ]
  },
  {
   "cell_type": "markdown",
   "metadata": {},
   "source": [
    "The body jacobian and velocities can be calculated with respect to `world`, `local` and `world_aligned` frames."
   ]
  },
  {
   "cell_type": "code",
   "execution_count": 32,
   "metadata": {},
   "outputs": [
    {
     "data": {
      "text/plain": [
       "Function(link06_jacobian_world:(q[6])->(jacobian[6x6]) SXFunction)"
      ]
     },
     "execution_count": 32,
     "metadata": {},
     "output_type": "execute_result"
    }
   ],
   "source": [
    "model.body(\"link06\").jacobian().world"
   ]
  },
  {
   "cell_type": "markdown",
   "metadata": {},
   "source": [
    "Note that body name can be initialized with dictionary that maps given name to one presented in urdf i.e: `{'ee':'link06'}`"
   ]
  },
  {
   "cell_type": "markdown",
   "metadata": {},
   "source": [
    "##### **Contacts**"
   ]
  },
  {
   "cell_type": "code",
   "execution_count": 33,
   "metadata": {},
   "outputs": [],
   "source": [
    "model.body(\"link06\").add_contact(\"wrench\", \"world\")"
   ]
  },
  {
   "cell_type": "code",
   "execution_count": 34,
   "metadata": {},
   "outputs": [
    {
     "data": {
      "text/plain": [
       "Function(link06_qforce_world:(q[6],wrench_force[6])->(generilized_force[6]) SXFunction)"
      ]
     },
     "execution_count": 34,
     "metadata": {},
     "output_type": "execute_result"
    }
   ],
   "source": [
    "model.body(\"link06\").contact.dim\n",
    "model.body(\"link06\").contact.contact_frame\n",
    "model.body(\"link06\").contact.reference_frame\n",
    "model.body(\"link06\").contact.contact_qforce"
   ]
  },
  {
   "cell_type": "markdown",
   "metadata": {},
   "source": [
    "$$\n",
    "Q_f = J(q)^T F\n",
    "$$"
   ]
  },
  {
   "cell_type": "markdown",
   "metadata": {},
   "source": [
    "Do not forget to rebuild the model:"
   ]
  },
  {
   "cell_type": "code",
   "execution_count": 35,
   "metadata": {},
   "outputs": [
    {
     "data": {
      "text/plain": [
       "{'link05', 'link06'}"
      ]
     },
     "execution_count": 35,
     "metadata": {},
     "output_type": "execute_result"
    }
   ],
   "source": [
    "model.add_bodies(['link05','link06'])\n",
    "model.bodies_names"
   ]
  },
  {
   "cell_type": "code",
   "execution_count": 36,
   "metadata": {},
   "outputs": [],
   "source": [
    "model.body(\"link05\").add_contact(\"point\", \"local\")\n",
    "model.body(\"link06\").add_contact(\"wrench\", \"world\")"
   ]
  },
  {
   "cell_type": "code",
   "execution_count": 37,
   "metadata": {},
   "outputs": [
    {
     "data": {
      "text/plain": [
       "Function(link06_qforce_world:(q[6],wrench_force[6])->(generilized_force[6]) SXFunction)"
      ]
     },
     "execution_count": 37,
     "metadata": {},
     "output_type": "execute_result"
    }
   ],
   "source": [
    "model.body(\"link06\").contact.dim\n",
    "model.body(\"link06\").contact.contact_qforce"
   ]
  },
  {
   "cell_type": "code",
   "execution_count": 38,
   "metadata": {},
   "outputs": [],
   "source": [
    "model.update_model()"
   ]
  },
  {
   "cell_type": "markdown",
   "metadata": {},
   "source": [
    "$$\n",
    "\\mathbf{Q} + Q_f = \\mathbf{M}(\\mathbf{q})\\dot{\\mathbf{v}} + \\mathbf{h}(\\mathbf{q},\\mathbf{v}) + \\sum_jJ_j(q)^T F_j= \\text{rnea}(\\mathbf{q}, \\mathbf{v}, \\dot{\\mathbf{v}}) + J(q)^T F\n",
    "$$"
   ]
  },
  {
   "cell_type": "markdown",
   "metadata": {},
   "source": [
    "Note how arguments are changed in dynamics related functions, i.e:"
   ]
  },
  {
   "cell_type": "code",
   "execution_count": 39,
   "metadata": {},
   "outputs": [
    {
     "data": {
      "text/plain": [
       "Function(forward_dynamics:(q[6],v[6],u[3],link06[6],link05[3])->(dv[6]) SXFunction)"
      ]
     },
     "execution_count": 39,
     "metadata": {},
     "output_type": "execute_result"
    }
   ],
   "source": [
    "model.forward_dynamics"
   ]
  },
  {
   "cell_type": "markdown",
   "metadata": {},
   "source": [
    "the state space representation and jacobians are changed as well:"
   ]
  },
  {
   "cell_type": "code",
   "execution_count": 40,
   "metadata": {},
   "outputs": [
    {
     "data": {
      "text/plain": [
       "Function(state_derivative:(x[12],u[3],link06[6],link05[3])->(dxdt[12]) SXFunction)"
      ]
     },
     "execution_count": 40,
     "metadata": {},
     "output_type": "execute_result"
    }
   ],
   "source": [
    "model.state_space.state_derivative"
   ]
  },
  {
   "cell_type": "code",
   "execution_count": 41,
   "metadata": {},
   "outputs": [
    {
     "data": {
      "text/plain": [
       "Function(state_jacobian:(x[12],u[3],link06[6],link05[3])->(dfdx[12x12,78nz]) SXFunction)"
      ]
     },
     "execution_count": 41,
     "metadata": {},
     "output_type": "execute_result"
    }
   ],
   "source": [
    "model.state_space.state_jacobian"
   ]
  },
  {
   "cell_type": "code",
   "execution_count": 42,
   "metadata": {},
   "outputs": [],
   "source": [
    "model.body(\"link06\").contact.add_cone(mu=0.5, X=0.05, Y=0.02)"
   ]
  },
  {
   "cell_type": "code",
   "execution_count": 43,
   "metadata": {},
   "outputs": [],
   "source": [
    "wrench_cone = model.body(\"link06\").contact.cone.full()"
   ]
  },
  {
   "cell_type": "code",
   "execution_count": 44,
   "metadata": {},
   "outputs": [
    {
     "data": {
      "text/plain": [
       "DM(\n",
       "[[-1, 0, -0.5, 0, 0, 0], \n",
       " [1, 0, -0.5, 0, 0, 0], \n",
       " [0, -1, -0.5, 0, 0, 0], \n",
       " [0, 1, -0.5, 0, 0, 0], \n",
       " [0, 0, -0.02, -1, 0, 0], \n",
       " [0, 0, -0.02, 1, 0, 0], \n",
       " [0, 0, -0.05, 0, -1, 0], \n",
       " [0, 0, -0.05, 0, 1, 0], \n",
       " [-0.02, -0.05, -0.035, 0.5, 0.5, -1], \n",
       " [-0.02, 0.05, -0.035, 0.5, -0.5, -1], \n",
       " [0.02, -0.05, -0.035, -0.5, 0.5, -1], \n",
       " [0.02, 0.05, -0.035, -0.5, -0.5, -1], \n",
       " [0.02, 0.05, -0.035, 0.5, 0.5, 1], \n",
       " [0.02, -0.05, -0.035, 0.5, -0.5, 1], \n",
       " [-0.02, 0.05, -0.035, -0.5, 0.5, 1], \n",
       " [-0.02, -0.05, -0.035, -0.5, -0.5, 1]])"
      ]
     },
     "execution_count": 44,
     "metadata": {},
     "output_type": "execute_result"
    }
   ],
   "source": [
    "model.body(\"link06\").contact.cone.linearized()"
   ]
  },
  {
   "cell_type": "code",
   "execution_count": 45,
   "metadata": {},
   "outputs": [
    {
     "data": {
      "text/plain": [
       "{'ee': 'link06'}"
      ]
     },
     "execution_count": 45,
     "metadata": {},
     "output_type": "execute_result"
    }
   ],
   "source": [
    "model.add_bodies({\"ee\": \"link06\"})\n",
    "model.bodies_names"
   ]
  },
  {
   "cell_type": "markdown",
   "metadata": {},
   "source": [
    "One can add bodies on the initialization stage based on following syntax:"
   ]
  },
  {
   "cell_type": "code",
   "execution_count": 46,
   "metadata": {},
   "outputs": [
    {
     "data": {
      "text/plain": [
       "<darli.models.robot_model.RobotModel at 0x7fbac07e6b30>"
      ]
     },
     "execution_count": 46,
     "metadata": {},
     "output_type": "execute_result"
    }
   ],
   "source": [
    "RobotModel(z1_description.URDF_PATH, bodies_names={'shoulder':'link03', 'ee':'link06'})"
   ]
  },
  {
   "cell_type": "markdown",
   "metadata": {},
   "source": [
    "The `bodies_names` arguments can be listof body names present in urdf, however for increased readability we suggest to use the dictionary as shown above."
   ]
  },
  {
   "cell_type": "markdown",
   "metadata": {},
   "source": [
    "## **Prespecified Robots**"
   ]
  },
  {
   "cell_type": "markdown",
   "metadata": {},
   "source": [
    "One can build different robots...."
   ]
  },
  {
   "cell_type": "code",
   "execution_count": 60,
   "metadata": {},
   "outputs": [],
   "source": [
    "from darli.robots import Biped, Manipulator, Quadruped"
   ]
  },
  {
   "cell_type": "markdown",
   "metadata": {},
   "source": [
    "As example let us consider the Atlas humanoid robot:\n",
    "\n",
    "Note: robot loaded in example is `fixed` in its pelvis and in real world, you have to create a floating base model to have a full set of generalized coordinates."
   ]
  },
  {
   "cell_type": "code",
   "execution_count": 61,
   "metadata": {},
   "outputs": [],
   "source": [
    "from robot_descriptions import atlas_v4_description\n",
    "\n",
    "biped_urdf = atlas_v4_description.URDF_PATH\n",
    "\n",
    "biped_model = Biped(\n",
    "    biped_urdf,\n",
    "    torso={\"torso\": \"pelvis\"},\n",
    "    foots={\"left_foot\": \"l_foot\", \"right_foot\": \"r_foot\"},\n",
    ")"
   ]
  },
  {
   "cell_type": "code",
   "execution_count": 62,
   "metadata": {},
   "outputs": [
    {
     "data": {
      "text/plain": [
       "Function(forward_dynamics:(q[30],v[30],u[24],left_foot[6],right_foot[6])->(dv[30]) SXFunction)"
      ]
     },
     "execution_count": 62,
     "metadata": {},
     "output_type": "execute_result"
    }
   ],
   "source": [
    "biped_model.forward_dynamics"
   ]
  },
  {
   "cell_type": "code",
   "execution_count": 50,
   "metadata": {},
   "outputs": [
    {
     "data": {
      "text/plain": [
       "Function(inverse_dynamics:(q[30],v[30],dv[30],left_foot[6],right_foot[6])->(tau[30]) SXFunction)"
      ]
     },
     "execution_count": 50,
     "metadata": {},
     "output_type": "execute_result"
    }
   ],
   "source": [
    "biped_model.inverse_dynamics"
   ]
  },
  {
   "cell_type": "code",
   "execution_count": 51,
   "metadata": {},
   "outputs": [
    {
     "data": {
      "text/plain": [
       "Function(position_torso:(q[30])->(position[3]) SXFunction)"
      ]
     },
     "execution_count": 51,
     "metadata": {},
     "output_type": "execute_result"
    }
   ],
   "source": [
    "biped_model.body(\"torso\").position"
   ]
  },
  {
   "cell_type": "code",
   "execution_count": 52,
   "metadata": {},
   "outputs": [
    {
     "data": {
      "text/plain": [
       "Function(rotation_torso:(q[30])->(rotation[3x3]) SXFunction)"
      ]
     },
     "execution_count": 52,
     "metadata": {},
     "output_type": "execute_result"
    }
   ],
   "source": [
    "biped_model.body(\"torso\").rotation"
   ]
  },
  {
   "cell_type": "code",
   "execution_count": 53,
   "metadata": {},
   "outputs": [
    {
     "data": {
      "text/plain": [
       "Function(torso_jacobian_world_aligned:(q[30])->(jacobian[6x30]) SXFunction)"
      ]
     },
     "execution_count": 53,
     "metadata": {},
     "output_type": "execute_result"
    }
   ],
   "source": [
    "biped_model.body(\"torso\").jacobian().world_aligned"
   ]
  },
  {
   "cell_type": "code",
   "execution_count": 54,
   "metadata": {},
   "outputs": [
    {
     "data": {
      "text/plain": [
       "Function(torso_angular_velocity_local:(q[30],v[30])->(angular_velocity_local[3]) SXFunction)"
      ]
     },
     "execution_count": 54,
     "metadata": {},
     "output_type": "execute_result"
    }
   ],
   "source": [
    "biped_model.body(\"torso\").angular_velocity().local"
   ]
  },
  {
   "cell_type": "code",
   "execution_count": 55,
   "metadata": {},
   "outputs": [
    {
     "data": {
      "text/plain": [
       "Function(torso_djacobian_world_aligned:(q[30],v[30])->(djacobian[6x30]) SXFunction)"
      ]
     },
     "execution_count": 55,
     "metadata": {},
     "output_type": "execute_result"
    }
   ],
   "source": [
    "biped_model.body(\"torso\").jacobian_dt().world_aligned"
   ]
  },
  {
   "cell_type": "code",
   "execution_count": 56,
   "metadata": {},
   "outputs": [
    {
     "data": {
      "text/plain": [
       "{'contact_jacobian': DM(\n",
       " [[0, 0, 0, 0, 0, 0, 0, 0, 0, 0, 0, 0, 0, 0, 0, 0, 0, 0, -0.0225, -0, -0.796, -0.422, 0, 0, 0, 0, 0, 0, 0, 0], \n",
       "  [0, 0, 0, 0, 0, 0, 0, 0, 0, 0, 0, 0, 0, 0, 0, 0, 0, 0, 0, 0.862, 0, 0, 0, 0, 0, 0, 0, 0, 0, 0], \n",
       "  [0, 0, 0, 0, 0, 0, 0, 0, 0, 0, 0, 0, 0, 0, 0, 0, 0, 0, 0, 0.0225, 0.05, 0, 0, 0, 0, 0, 0, 0, 0, 0], \n",
       "  [0, 0, 0, 0, 0, 0, 0, 0, 0, 0, 0, 0, 0, 0, 0, 0, 0, 0, 0, 1, -0, -0, -0, 1, 0, 0, 0, 0, 0, 0], \n",
       "  [0, 0, 0, 0, 0, 0, 0, 0, 0, 0, 0, 0, 0, 0, 0, 0, 0, 0, 0, 0, 1, 1, 1, 0, 0, 0, 0, 0, 0, 0], \n",
       "  [0, 0, 0, 0, 0, 0, 0, 0, 0, 0, 0, 0, 0, 0, 0, 0, 0, 0, 1, 0, 0, 0, 0, -0, 0, 0, 0, 0, 0, 0]])}"
      ]
     },
     "execution_count": 56,
     "metadata": {},
     "output_type": "execute_result"
    }
   ],
   "source": [
    "biped_model.body(\"left_foot\").contact.jacobian()"
   ]
  },
  {
   "cell_type": "code",
   "execution_count": 57,
   "metadata": {},
   "outputs": [
    {
     "data": {
      "text/plain": [
       "{'contact_jacobian': DM(\n",
       " [[0, 0, 0, 0, 0, 0, 0, 0, 0, 0, 0, 0, 0, 0, 0, 0, 0, 0, 0, 0, 0, 0, 0, 0, 0.0225, -0, -0.796, -0.422, 0, 0], \n",
       "  [0, 0, 0, 0, 0, 0, 0, 0, 0, 0, 0, 0, 0, 0, 0, 0, 0, 0, 0, 0, 0, 0, 0, 0, 0, 0.862, 0, 0, 0, 0], \n",
       "  [0, 0, 0, 0, 0, 0, 0, 0, 0, 0, 0, 0, 0, 0, 0, 0, 0, 0, 0, 0, 0, 0, 0, 0, 0, -0.0225, 0.05, 0, 0, 0], \n",
       "  [0, 0, 0, 0, 0, 0, 0, 0, 0, 0, 0, 0, 0, 0, 0, 0, 0, 0, 0, 0, 0, 0, 0, 0, 0, 1, -0, -0, -0, 1], \n",
       "  [0, 0, 0, 0, 0, 0, 0, 0, 0, 0, 0, 0, 0, 0, 0, 0, 0, 0, 0, 0, 0, 0, 0, 0, 0, 0, 1, 1, 1, 0], \n",
       "  [0, 0, 0, 0, 0, 0, 0, 0, 0, 0, 0, 0, 0, 0, 0, 0, 0, 0, 0, 0, 0, 0, 0, 0, 1, 0, 0, 0, 0, -0]])}"
      ]
     },
     "execution_count": 57,
     "metadata": {},
     "output_type": "execute_result"
    }
   ],
   "source": [
    "biped_model.body(\"right_foot\").contact.jacobian()"
   ]
  },
  {
   "cell_type": "markdown",
   "metadata": {},
   "source": [
    "One can create a structure for specific robot, the typical reciept as follows:\n",
    "* Create the child class with parent being `RobotModel`.\n",
    "* Add bodies bodies and necessary contacts\n",
    "* Calculate the all necessary functions with `~.update_model()` method \n",
    "\n",
    "An example that creates Quadruped robot possibly with arm:"
   ]
  },
  {
   "cell_type": "code",
   "execution_count": 58,
   "metadata": {},
   "outputs": [],
   "source": [
    "class Quadruped(RobotModel):\n",
    "    def __init__(\n",
    "        self,\n",
    "        urdf_path,\n",
    "        torso=None,\n",
    "        foots=None,\n",
    "        arm=None,\n",
    "        reference=\"world_aligned\",\n",
    "        calculate=True,\n",
    "    ):\n",
    "        bodies_names = {}\n",
    "\n",
    "        if torso is not None:\n",
    "            if isinstance(torso, str):\n",
    "                bodies_names.update([torso])\n",
    "            else:\n",
    "                bodies_names.update(torso)\n",
    "\n",
    "        if arm is not None:\n",
    "            if isinstance(arm, str):\n",
    "                bodies_names.update([arm])\n",
    "            else:\n",
    "                bodies_names.update(arm)\n",
    "\n",
    "        if foots is not None:\n",
    "            bodies_names.update(foots)\n",
    "\n",
    "        super().__init__(urdf_path, bodies_names=bodies_names, calculate=False)\n",
    "\n",
    "        for foot in foots.keys():\n",
    "            body = self.body(foot)\n",
    "            body.add_contact(frame=reference, contact_type=\"point\")\n",
    "\n",
    "        self.set_selector(passive_joints=range(6), calculate=False)\n",
    "        self.update_model()"
   ]
  }
 ],
 "metadata": {
  "kernelspec": {
   "display_name": "base",
   "language": "python",
   "name": "python3"
  },
  "language_info": {
   "codemirror_mode": {
    "name": "ipython",
    "version": 3
   },
   "file_extension": ".py",
   "mimetype": "text/x-python",
   "name": "python",
   "nbconvert_exporter": "python",
   "pygments_lexer": "ipython3",
   "version": "3.10.13"
  },
  "orig_nbformat": 4
 },
 "nbformat": 4,
 "nbformat_minor": 2
}
