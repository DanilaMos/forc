{
 "cells": [
  {
   "cell_type": "code",
   "execution_count": null,
   "metadata": {
    "slideshow": {
     "slide_type": "skip"
    }
   },
   "outputs": [],
   "source": [
    "import numpy as np\n",
    "import sympy as sp\n",
    "from utils import simulate, phase_portrait, phase_graph\n",
    "from matplotlib.pyplot import *\n",
    "rc('text', usetex=True)\n",
    "\n",
    "from scipy.integrate import odeint\n",
    "\n",
    "def simulate_controller(f, controller, init_state, t0=0, tf=1, N=2000, size=(6, 4), show_plot=False):\n",
    "    t = np.linspace(t0, tf, N)  # Create time span\n",
    "    dT = (tf - t0)/N\n",
    "    x_sol = []\n",
    "    u_sol = []\n",
    "    for x_init in init_state:\n",
    "        x0 = x_init\n",
    "        u0 = np.array(controller(x0, 0))\n",
    "\n",
    "        x_sol_i = np.zeros((N, len(x0)))\n",
    "        u_sol_i = np.zeros((N, 1))\n",
    "\n",
    "        for i in range(N):\n",
    "            time = t[i]\n",
    "            t_k = np.linspace(time, time+dT, 2)\n",
    "            u = controller(x0, time)\n",
    "            x_k = odeint(f, x0, t_k, args = (u,))\n",
    "            x0 = x_k[-1]\n",
    "            x_sol_i[i,:] = x0\n",
    "            u_sol_i[i,:] = u\n",
    "\n",
    "        x_sol.append(x_sol_i)\n",
    "        u_sol.append(u_sol_i)\n",
    "\n",
    "    return x_sol, u_sol, t\n",
    "\n"
   ]
  },
  {
   "cell_type": "markdown",
   "metadata": {
    "slideshow": {
     "slide_type": "slide"
    }
   },
   "source": [
    "## **Fundamentals of Robot Control:**\n",
    "### **Lecture 6: Uncertainty, Sliding Mode, and Robust Control**"
   ]
  },
  {
   "cell_type": "markdown",
   "metadata": {
    "slideshow": {
     "slide_type": "slide"
    }
   },
   "source": [
    "Last time we have studied the model based control methods such as feedback linearization, which provide the great results,\n",
    "however one should have the particularly precise model to do so. \n",
    "\n",
    "Today we will discuss the method that facilitate control design even with imprecise models and presence of disturbances. "
   ]
  },
  {
   "cell_type": "markdown",
   "metadata": {
    "slideshow": {
     "slide_type": "subslide"
    }
   },
   "source": [
    "Before we move further let us consider the rotational dynamics under the discontinues control:\n",
    "\\begin{equation*}\n",
    " \\ddot{\\varphi} = u\n",
    "\\end{equation*}\n",
    "\n",
    "Assume that we apply the switching and rate feedback as follows:\n",
    "\\begin{equation*}\n",
    " u = - \\text{sign}(k\\varphi + \\dot{\\varphi})\n",
    "\\end{equation*}\n",
    "<!-- \n",
    "Let us draw the phase portrait:\n",
    " -->\n"
   ]
  },
  {
   "cell_type": "code",
   "execution_count": null,
   "metadata": {
    "slideshow": {
     "slide_type": "fragment"
    }
   },
   "outputs": [],
   "source": [
    "def f(x, t):\n",
    "    phi = x[0]\n",
    "    dphi = x[1]\n",
    "    ddphi = -np.sign(phi + dphi)\n",
    "    return dphi, ddphi\n",
    "phase_portrait(f,x_range=[4, 3])"
   ]
  },
  {
   "cell_type": "markdown",
   "metadata": {
    "slideshow": {
     "slide_type": "subslide"
    }
   },
   "source": [
    "\n",
    "Imaging now somebody have added the disturbance torque $\\| \\delta(t) \\| <\\delta_{max}$:\n",
    "$$\n",
    " \\ddot{\\varphi} = u + \\delta(t)\n",
    "$$\n",
    " would you expect for angle to converge yet?"
   ]
  },
  {
   "cell_type": "code",
   "execution_count": null,
   "metadata": {
    "slideshow": {
     "slide_type": "fragment"
    }
   },
   "outputs": [],
   "source": [
    "def f(x, t):\n",
    "    delta = -0.1\n",
    "    phi = x[0]\n",
    "    dphi = x[1]\n",
    "    ddphi = -np.sign(phi + dphi) + delta\n",
    "    return dphi, ddphi\n",
    "\n",
    "phase_portrait(f,x_range=[4, 3])"
   ]
  },
  {
   "cell_type": "markdown",
   "metadata": {
    "slideshow": {
     "slide_type": "subslide"
    }
   },
   "source": [
    "Let us increase $\\delta$:"
   ]
  },
  {
   "cell_type": "code",
   "execution_count": null,
   "metadata": {
    "slideshow": {
     "slide_type": "fragment"
    }
   },
   "outputs": [],
   "source": [
    "def f(x, t):\n",
    "    delta = 1.1\n",
    "    phi = x[0]\n",
    "    dphi = x[1]\n",
    "    ddphi = -np.sign(phi + dphi) + delta\n",
    "    return dphi, ddphi\n",
    "\n",
    "phase_portrait(f,x_range=[4, 3])"
   ]
  },
  {
   "cell_type": "markdown",
   "metadata": {
    "slideshow": {
     "slide_type": "slide"
    }
   },
   "source": [
    "### **Model Uncertainties**\n",
    "\n",
    "Model imprecision may come from actual uncertainty about the plant (e.g., unknown plant\n",
    "parameters), or from the purposeful choice of a simplified representation of the\n",
    "system's dynamics (e.g., modeling friction as linear, or neglecting structural modes in\n",
    "a reasonably rigid mechanical system). From a control point of view, modeling\n",
    "inaccuracies can be classified into two major kinds:\n",
    "\n",
    "* structured (or parametric) uncertainties\n",
    "* unstructured uncertainties (or unmodeled dynamics)\n",
    "\n",
    "The first kind corresponds to inaccuracies on the terms actually included in the model,\n",
    "while the second kind corresponds to inaccuracies on (i.e., underestimation of) the\n",
    "system order."
   ]
  },
  {
   "cell_type": "markdown",
   "metadata": {
    "slideshow": {
     "slide_type": "subslide"
    }
   },
   "source": [
    "As discussed earlier, modeling inaccuracies can have strong adverse effects on\n",
    "nonlinear control systems. Therefore, any practical design must address them\n",
    "explicitly. Two major and complementary approaches to dealing with model uncertainty are **robust** and **adaptive** control. Today we are going to discuss the simple approach to robust control, \n",
    "so-called sliding control methodology."
   ]
  },
  {
   "cell_type": "markdown",
   "metadata": {
    "slideshow": {
     "slide_type": "slide"
    }
   },
   "source": [
    "### **N-th Order Nonlinear System**\n",
    "\n",
    "Let us consider the **scalar** system of order $n$ in following form:\n",
    "\n",
    "\n",
    "$$\n",
    "\\dot{\\mathbf{x}} =\n",
    "\\begin{bmatrix}\n",
    "\\dot{x}_1 \\\\ \n",
    "\\dot{x}_2 \\\\ \n",
    "\\vdots \\\\ \n",
    "\\dot{x}_{n} \\\\ \n",
    "\\end{bmatrix}\n",
    "=\n",
    "\\begin{bmatrix}\n",
    "x_2 \\\\ \n",
    "x_3 \\\\ \n",
    "\\vdots \\\\ \n",
    "f(\\mathbf{x}) + h(\\mathbf{x})u \n",
    "\\end{bmatrix}\n",
    "=\n",
    "\\begin{bmatrix}\n",
    "\\dot{y} \\\\ \n",
    "\\ddot{y} \\\\ \n",
    "\\vdots \\\\ \n",
    "y^{n} \\\\ \n",
    "\\end{bmatrix}\n",
    "=\n",
    "\\begin{bmatrix}\n",
    "\\dot{y} \\\\ \n",
    "\\ddot{y} \\\\ \n",
    "\\vdots \\\\ \n",
    "f(\\mathbf{x}) + h(\\mathbf{x})u \n",
    "\\end{bmatrix}\n",
    "$$\n",
    "\n",
    "\n",
    "or compactly:\n",
    "$$\n",
    "\\dot{x}_{n-1} = y^{n} = f(\\mathbf{x}) + h(\\mathbf{x})u \n",
    "$$\n",
    "\n",
    "\n",
    "where $\\mathbf{x} = [y,\\dot{y}, \\ddot{y}, \\dots, y^{n-1}]^T$ \n"
   ]
  },
  {
   "cell_type": "markdown",
   "metadata": {
    "slideshow": {
     "slide_type": "subslide"
    }
   },
   "source": [
    "A goal is to track the **desired trajectory** given by $y_d$ thus an error is given by:\n",
    "$$\n",
    "\\tilde{y} = y_d - y\n",
    "$$\n",
    "And the whole state **tracking error vector** is given by:\n",
    "$$\n",
    "\\tilde{\\mathbf{x}} = \\mathbf{x}_d - \\mathbf{x} = [\\tilde{y},\\dot{\\tilde{y}}, \\ddot{\\tilde{y}}, \\dots, \\tilde{y}^{n-1}]^T\n",
    "$$\n",
    "\n",
    "The goal is to find control law such that $\\tilde{y}\\rightarrow 0 $ as $t\\rightarrow \\infty$"
   ]
  },
  {
   "cell_type": "markdown",
   "metadata": {
    "slideshow": {
     "slide_type": "subslide"
    }
   },
   "source": [
    "As example you may choose any scalar mechanical system:\n",
    "\n",
    "$$\n",
    "m(q)\\ddot{q} + c(q)\\dot{q}^2 + g(q) = b(q)u\n",
    "$$\n",
    "where $m(q)>0, b(q) \\neq 0 \\ \\forall q$\n",
    "\n",
    "Indeed denoting $y = q$ thus $\\mathbf{x} = [q, \\dot{q}]^T$ and one may represent above as:\n",
    "\n",
    "$$\n",
    "\\begin{bmatrix}\n",
    "\\dot{y} \\\\\n",
    "\\ddot{y}\n",
    "\\end{bmatrix}\n",
    "=\n",
    "\\begin{bmatrix}\n",
    "\\dot{x}_1 \\\\\n",
    "\\dot{x}_2\n",
    "\\end{bmatrix}\n",
    "=\n",
    "\\begin{bmatrix}\n",
    "x_2 \\\\\n",
    "-\\frac{c(x_1)}{m(x_1)}x^2_2 - \\frac{g(x_1)}{m(x_1)} + \\frac{b(x_1)}{m(x_1)}u \n",
    "\\end{bmatrix} = \n",
    "\\begin{bmatrix}\n",
    "x_2 \\\\\n",
    "f(x_1,x_2) + h(x_1)u \n",
    "\\end{bmatrix}\n",
    "$$\n"
   ]
  },
  {
   "cell_type": "markdown",
   "metadata": {
    "slideshow": {
     "slide_type": "slide"
    }
   },
   "source": [
    "### **Sliding Surface**\n",
    "In some cases, as we have already studied in feedback linearization, it is possible to simplify the control of a high-order nonlinear system, for instance by reducing the order of the system with a carefully chosen composite variable that will fully describe the tracking performance - this is the basic idea of sliding surfaces.\n",
    "\n",
    "Let us define time-varying surface $\\mathcal{S}$ in the the state space $\\mathbb{R}^n$ given by scalar equation $s(\\mathbf{x}, t)$:\n",
    "$$\n",
    "s(\\mathbf{x}, t) = s(y, t) = \\Big(\\frac{d}{dt} + \\lambda\\Big)^{n-1}\\tilde{y}\n",
    "$$\n",
    "\n",
    "Applying such transformation yields a new representation of the tracking performance:\n",
    "$$\n",
    "s \\rightarrow 0   \\Rightarrow \\tilde{\\mathbf{x}} \\rightarrow \\mathbf{0} \\Rightarrow \\tilde{y} \\rightarrow 0 \n",
    "$$\n",
    "Meaning, that the problem of tracking $\\mathbf{x}_d$ is equivalent to remaining on the sliding surface"
   ]
  },
  {
   "cell_type": "markdown",
   "metadata": {
    "slideshow": {
     "slide_type": "subslide"
    }
   },
   "source": [
    "\n",
    "Thus the problem of tracking the $n$-dimensional vector $\\mathbf{x}_d$  can in effect be replaced by a $1$ st - order\n",
    "stabilization problem in $s$. Note that from definition of sliding surface we only need to differentiate s once for the input $u$ to appear."
   ]
  },
  {
   "cell_type": "markdown",
   "metadata": {
    "slideshow": {
     "slide_type": "slide"
    }
   },
   "source": [
    "\n",
    "###  **Sliding Condition**\n",
    "\n",
    "As one can see once the system is on sliding surface $\\mathbf{s}$ the error should eventually converge, the behavior of trajectories on this surface is called **sliding mode**, and is natural to ask what is the condition for sliding mode to appear in other words how to prove convergence to sliding surface?\n",
    "\n"
   ]
  },
  {
   "cell_type": "markdown",
   "metadata": {
    "slideshow": {
     "slide_type": "fragment"
    }
   },
   "source": [
    "And one can use Lyapunov-like arguments to do so. Let as define $V = s^2$ as the squared distance to the surface. In order to ensure convergence along all system trajectories one may formulate the following **sliding condition**:\n",
    "\n",
    "$$\n",
    "\\frac{1}{2}\\frac{d}{dt}s^2 \\leq -\\eta |s|\n",
    "$$\n",
    "\n",
    "where $\\eta>0$ define the rate of convergence to the sliding surface. \n",
    "\n",
    "Satisfying condition or sliding condition, makes the surface an **invariant set** and implies convergence to $\\tilde{y}$, since:\n",
    "\n",
    "$$\n",
    "(\\frac{d}{dt} + \\lambda)^{n-1}\\tilde{y} = 0\n",
    "$$\n",
    "\n",
    "In this sense the surface $s(t)$ is both a place and a dynamics."
   ]
  },
  {
   "cell_type": "markdown",
   "metadata": {
    "slideshow": {
     "slide_type": "subslide"
    }
   },
   "source": [
    "### **Convergence Time**\n",
    "\n",
    "A notable property of the sliding condition is that the surface $s = 0$ will be reached in a\n",
    "finite time smaller than $s(t=0)/\\eta$ \n",
    "\n",
    "Indeed integrating the sliding condition (assuming $s>0$) yields:\n",
    "$$\n",
    "s(t_f) - s(0) = -s(0) \\leq \\eta t_f\n",
    "$$\n",
    "which implies that $t_f \\leq s(0)/\\eta$. Repeating the same with $s<0$ yields:\n",
    "$$\n",
    "t_f \\leq |s(0)|/ \\eta\n",
    "$$\n",
    "\n",
    "Once sliding surface is reached the transient is then exponential defined by the linear system with time constant $(n-1)/\\lambda$. \n",
    "\n",
    "Thus two constants $\\eta, \\lambda$ may be tuned to ensure convergence to specific region $|\\tilde{y}|\\leq \\epsilon$ in **finite predefined time**. \n"
   ]
  },
  {
   "cell_type": "markdown",
   "metadata": {
    "slideshow": {
     "slide_type": "slide"
    }
   },
   "source": [
    "### **Robust Control via Sliding Mode**\n",
    "\n",
    "The notable property of the sliding mode based controllers it's ability to withstands the disturbances and uncertainties. Indeed once sliding mode is achived, convergence is didined by the shape of sliding surface and it is free from model uncertainties and disturbances.   \n",
    "\n",
    "A main idea of the robust control is in designing such control activity $u$ which ensure that tracking error converges even for the uncertain system. "
   ]
  },
  {
   "cell_type": "markdown",
   "metadata": {
    "slideshow": {
     "slide_type": "subslide"
    }
   },
   "source": [
    "Given the bounds on uncertainties of dynamics constructing a control law to verify the sliding condition is straightforward. \n",
    "Let us illustrate this by following example.\n"
   ]
  },
  {
   "cell_type": "markdown",
   "metadata": {
    "slideshow": {
     "slide_type": "fragment"
    }
   },
   "source": [
    "Consider stabilization of second order system:\n",
    "\n",
    "$$\n",
    "\\ddot{y} + a(t)\\dot{y}^2 \\cos{3y} = u\n",
    "$$\n",
    "\n",
    "with unknown parameter $1 \\leq a(t) \\leq 2$"
   ]
  },
  {
   "cell_type": "markdown",
   "metadata": {
    "slideshow": {
     "slide_type": "fragment"
    }
   },
   "source": [
    "Let us define the **nominal dynamics** and **bounds** as follows:\n",
    "\n",
    "$$\n",
    "\\hat{f}(y,\\dot{y}) = -1.5\\dot{y}^2 \\cos{3y} \\quad F(y,\\dot{y})  = 0.5\\dot{y}^2 |\\cos{3y}|\n",
    "$$\n",
    "\n",
    "In order to stabilize the system we define the sliding surface:\n",
    "$$\n",
    "s(y, t) = \\Big(\\frac{d}{dt} + \\lambda\\Big)y = \\dot{y} + \\lambda y\n",
    "$$\n",
    "\n",
    "the time derivative of the sliding surface is the given by:\n",
    "$$\n",
    "\\dot{s} = \n",
    "% f + u - \\ddot{y}_d + \\lambda \\dot{\\tilde{y}} = \n",
    "-a(t)\\dot{y}^2 \\cos{3y} + u + \\lambda \\dot{y}\n",
    "$$\n"
   ]
  },
  {
   "cell_type": "markdown",
   "metadata": {
    "slideshow": {
     "slide_type": "subslide"
    }
   },
   "source": [
    "\n",
    "The best aproximation of a control law that may achive $\\dot{s} = 0$ is:\n",
    "$$\n",
    "\\hat{u} = -\\hat{f}+\\ddot{y}_d - \\lambda \\dot{y}\n",
    "$$\n",
    "\n",
    "Let us now introduce additional compensation $u_s$ such that $ u = \\hat{u} + u_s$ and substitute all to the sliding condition:\n",
    "$$\n",
    "\\frac{1}{2}\\frac{d}{dt}s^2 =\\dot{s}s = (f - \\hat{f}+ u_s)s = (0.5\\dot{y}^2\\cos{3y} + u_s)s \\leq - \\eta |s|\n",
    "$$\n"
   ]
  },
  {
   "cell_type": "markdown",
   "metadata": {
    "slideshow": {
     "slide_type": "fragment"
    }
   },
   "source": [
    "One can choose $u^*$ and $\\eta$ such that sliding condition is fulfilled. For instance choose:\n",
    "\n",
    "$$\n",
    "    u_s = -k \\ \\text{sign}(s)\n",
    "$$\n",
    "\n",
    "Thus sliding condition become:\n",
    "$$\n",
    "\\frac{1}{2}\\frac{d}{dt}s^2  = (\\tilde{f} + k\\  \\text{sign}(s))s = 0.5\\dot{y}^2\\cos{3y} \\ s + k |s| \\leq - \\eta |s|\n",
    "$$\n",
    "\n",
    "Thus if $k$ is choosen large enough the sliding condition will be always satisfied \n"
   ]
  },
  {
   "cell_type": "markdown",
   "metadata": {
    "slideshow": {
     "slide_type": "subslide"
    }
   },
   "source": [
    "We define controller:"
   ]
  },
  {
   "cell_type": "code",
   "execution_count": null,
   "metadata": {
    "slideshow": {
     "slide_type": "-"
    }
   },
   "outputs": [],
   "source": [
    "def control(x, t):\n",
    "    y = x[0]\n",
    "    dy = x[1]\n",
    "\n",
    "    # define sliding surface \n",
    "    l = 1.\n",
    "    s = dy + l*y\n",
    "\n",
    "    k = 0\n",
    "    u_hat = 1.5 * dy**2 * np.cos(3*y) - l*dy\n",
    "    u_s = -k*np.sign(s)\n",
    " \n",
    "    return u_hat + u_s\n"
   ]
  },
  {
   "cell_type": "markdown",
   "metadata": {
    "slideshow": {
     "slide_type": "subslide"
    }
   },
   "source": [
    "and closed loop dynamics:"
   ]
  },
  {
   "cell_type": "code",
   "execution_count": null,
   "metadata": {
    "slideshow": {
     "slide_type": "-"
    }
   },
   "outputs": [],
   "source": [
    "\n",
    "def f(x, t):\n",
    "    y = x[0]\n",
    "    dy = x[1]\n",
    "    u = control(x, t)    \n",
    "    a = -4\n",
    "    ddy = -a* dy**2 * np.cos(3*y) + u \n",
    "    return dy, ddy"
   ]
  },
  {
   "cell_type": "markdown",
   "metadata": {
    "slideshow": {
     "slide_type": "subslide"
    }
   },
   "source": [
    "Let us now draw the phase of closed loop:"
   ]
  },
  {
   "cell_type": "code",
   "execution_count": null,
   "metadata": {
    "slideshow": {
     "slide_type": "-"
    }
   },
   "outputs": [],
   "source": [
    "phase_portrait(f,x_range=[5, 6])"
   ]
  },
  {
   "cell_type": "markdown",
   "metadata": {
    "slideshow": {
     "slide_type": "subslide"
    }
   },
   "source": [
    "Now we can simulate response, using `simulate_controller` routine, but we need to redifine the dynamics:"
   ]
  },
  {
   "cell_type": "code",
   "execution_count": null,
   "metadata": {
    "slideshow": {
     "slide_type": "-"
    }
   },
   "outputs": [],
   "source": [
    "def f(x, t, u):\n",
    "    y = x[0]\n",
    "    dy = x[1]\n",
    "    a = -4\n",
    "    ddy = -a* dy**2 * np.cos(3*y) + u \n",
    "    return dy, ddy"
   ]
  },
  {
   "cell_type": "markdown",
   "metadata": {
    "slideshow": {
     "slide_type": "subslide"
    }
   },
   "source": [
    "Let us draw the particular trajectory on phase plane:"
   ]
  },
  {
   "cell_type": "code",
   "execution_count": null,
   "metadata": {
    "slideshow": {
     "slide_type": "-"
    }
   },
   "outputs": [],
   "source": [
    "x_sol, u_sol, t = simulate_controller(f, control, [[3, 3]], tf=10, show_plot=True)\n",
    "\n",
    "for solution in x_sol:\n",
    "    plot(solution[:,0], solution[:,1])    \n",
    "\n",
    "ylabel(r'Output $y$')    \n",
    "xlabel(r'Time $t$ (s)')\n",
    "grid(color='black', linestyle='--', linewidth=1.0, alpha=0.3)\n",
    "grid(True)\n",
    "tight_layout()\n",
    "show()\n",
    "\n",
    "\n",
    "# for solution in x_sol:\n",
    "\n",
    "plot(solution[:,1])    \n",
    "ylabel(r'Output $y$')    \n",
    "xlabel(r'Time $t$ (s)')\n",
    "grid(color='black', linestyle='--', linewidth=1.0, alpha=0.3)\n",
    "grid(True)\n",
    "tight_layout()\n",
    "show()\n"
   ]
  },
  {
   "cell_type": "markdown",
   "metadata": {
    "slideshow": {
     "slide_type": "slide"
    }
   },
   "source": [
    "### **Methodology of the Robust Control via Sliding Mode**\n",
    "\n",
    "The methodology of robust control via sliding mode can be formulated in following steps:\n",
    "\n",
    "1.   Define the **sliding surface** $s(y, t)$\n",
    "2.   Derive **nominal** control $\\hat{u}$ (our best guess) that may achive $\\dot{s} = 0$ \n",
    "3.   Modify control law by **discontinuse term** that will bring system to **sliding mode** by satisfying the **sliding condition**.\n",
    "\n"
   ]
  },
  {
   "cell_type": "markdown",
   "metadata": {
    "slideshow": {
     "slide_type": "subslide"
    }
   },
   "source": [
    "### **Sliding mode for  N-Dimensional Companion Form**\n",
    "\n",
    "\n",
    "The similarly, if one $n$-dimensional system with uncertainty both in $f$ and $h$. \n",
    "$$\n",
    "y^n = f(y,\\dot{y},\\dots,y^{n-1}) + h(y,\\dot{y},\\dots,y^{n-1}))u \n",
    "$$\n",
    "\n",
    "Let us denote $\\hat{f}, \\hat{h}$ as our best guess for the **nominal model** with estimation errors which is bounded:\n",
    "$$\n",
    "| \\hat{f}(\\mathbf{x}) - f(\\mathbf{x}) | = | \\tilde{f}(\\mathbf{x}) | \\leq F(\\mathbf{x}, t) \\quad | \\hat{h}(\\mathbf{x}) - h(\\mathbf{x}) |  = | \\tilde{h}(\\mathbf{x}) |\\leq H(\\mathbf{x},t)\n",
    "$$\n",
    "\n"
   ]
  },
  {
   "cell_type": "markdown",
   "metadata": {
    "slideshow": {
     "slide_type": "subslide"
    }
   },
   "source": [
    "First we choose sliding surface as:\n",
    "$$\n",
    "s(y, t) = \\Big(\\frac{d}{dt} + \\lambda\\Big)^{n-1}\\tilde{y}\n",
    "$$\n",
    "\n",
    "And we look for the controller in form:\n",
    "$$\n",
    "u = \\hat{u} + u_s = \\hat{u} + \\frac{k}{\\hat{h}}\\operatorname{sign}(s)\n",
    "$$\n",
    "\n",
    "where nominal part $\\hat{u}$ given:\n",
    "$$\n",
    "\\hat{u} = \\hat{h}^{-1}(-\\hat{f} + \\ddot{y}_d  + \\lambda \\dot{\\tilde{y}}) \n",
    "$$\n",
    "\n",
    "The last step is to choose $k$ that will satisfy the sliding condition:\n",
    "$$\n",
    "s\\tilde{f} + s\\tilde{h}\\hat{u} + \\frac{h}{\\hat{h}} k |s| \\leq - \\eta|s| \n",
    "$$\n",
    "\n",
    "the natural question is then how to choose $k$?"
   ]
  },
  {
   "cell_type": "markdown",
   "metadata": {
    "slideshow": {
     "slide_type": "subslide"
    }
   },
   "source": [
    "\n",
    "### **Bounds on Sliding Gain**\n",
    "\n",
    "A large sliding gain will be overly conservative and may lead to  increase in control effort. It is always desirable to estimate the minimal value of $k$ while still ensuring that sliding mode is satisfied:\n",
    "$$\n",
    "s\\tilde{f} + s\\tilde{h}\\hat{u} + \\frac{h}{\\hat{h}} k |s| \\leq - \\eta |s|\\Rightarrow k_{min} \\geq \\frac{\\hat{h}}{h}(\\eta + |\\tilde{f}| + |\\tilde{h}||\\hat{u}|)\n",
    "$$\n",
    "Thus if one will find the upper and lower bounds of functions $f,h$ as follows:\n",
    "$$\n",
    "f_{min}\\leq f \\leq f_{max}, \\quad 0 \\leq h_{min} \\leq h \\leq h_{max}\n",
    "$$\n",
    "\n"
   ]
  },
  {
   "cell_type": "markdown",
   "metadata": {
    "slideshow": {
     "slide_type": "fragment"
    }
   },
   "source": [
    "Letting estimates $\\hat{f} = (f_{max} + f_{min})/2$ and $\\hat{h} = (h_{max} + h_{min})/2$ one may define the following:\n",
    "$$\n",
    " |\\tilde{h}| < H = \\frac{1}{2}|h_{max} - h_{min}|, \\quad |\\tilde{f}| < F =  \\frac{1}{2}|f_{max} - f_{min}|\n",
    "$$\n",
    "\n",
    "Thus sliding mode condition is satisfied with:\n",
    "$$\n",
    "k \\geq  \\frac{H}{h_{min}}(\\eta + F +H|\\hat{u}|)\n",
    "$$\n"
   ]
  },
  {
   "cell_type": "markdown",
   "metadata": {
    "slideshow": {
     "slide_type": "subslide"
    }
   },
   "source": [
    "As example let us consider a simplified model of the motion of an underwater vehicle:\n",
    "\n",
    "$$\n",
    "m\\ddot{y} + b\\dot{y}|\\dot{y}| + c g = u \n",
    "$$\n",
    "\n",
    "$m$ is the mass of the vehicle (including the so-called added-mass, associated with motion in a fluid), $b$ is a\n",
    "drag coefficient and $c$ is combined effect of buoyancy and gravity. \n",
    "\n",
    "In practice, $m$, $b$, and $c$ are not known accurately, because they only describe\n",
    "loosely the complex hydrodynamic effects that govern the vehicle's motion."
   ]
  },
  {
   "cell_type": "markdown",
   "metadata": {
    "slideshow": {
     "slide_type": "subslide"
    }
   },
   "source": [
    "First we reformulate dynamics as follows:\n",
    "$$\n",
    "\\ddot{y} = \\frac{b}{m}\\dot{y}|\\dot{y}| - \\frac{b}{c}g + \\frac{1}{m}u = f(y, \\dot{y}) + h(y, \\dot{y}) u\n",
    "$$"
   ]
  },
  {
   "cell_type": "code",
   "execution_count": null,
   "metadata": {
    "slideshow": {
     "slide_type": "-"
    }
   },
   "outputs": [],
   "source": [
    "\n",
    "def f(x, t, u):\n",
    "    y = x[0]\n",
    "    dy = x[1]\n",
    "    m = 1.2 + 0.5*np.sin(t)\n",
    "    b = 1.9 + 0.5*np.sin(t)\n",
    "    c = 5.2 + 0.2*np.sin(t)\n",
    "    g = 9.81\n",
    "    \n",
    "    ddy = (-b*dy * abs(dy) - c*g + u)/m\n",
    "    return dy, ddy"
   ]
  },
  {
   "cell_type": "markdown",
   "metadata": {
    "slideshow": {
     "slide_type": "subslide"
    }
   },
   "source": [
    "We consider the tracking of harmonic trajectory $y_d = \\sin(t)$:"
   ]
  },
  {
   "cell_type": "code",
   "execution_count": null,
   "metadata": {
    "slideshow": {
     "slide_type": "-"
    }
   },
   "outputs": [],
   "source": [
    "def trajectory(t):\n",
    "    y_d = np.sin(t)\n",
    "    dy_d = np.cos(t)\n",
    "    ddy_d = -np.sin(t)\n",
    "    return y_d, dy_d, ddy_d"
   ]
  },
  {
   "cell_type": "markdown",
   "metadata": {
    "slideshow": {
     "slide_type": "subslide"
    }
   },
   "source": [
    "Let us define sliding mode controller:"
   ]
  },
  {
   "cell_type": "code",
   "execution_count": null,
   "metadata": {
    "slideshow": {
     "slide_type": "-"
    }
   },
   "outputs": [],
   "source": [
    "g = 9.81\n",
    "# parameter guess\n",
    "m_hat = 1\n",
    "b_hat = 2\n",
    "c_hat = 5\n",
    "# contro\n",
    "L = 1\n",
    "k = 15\n",
    "eta = 0.1\n",
    "\n",
    "def control(x, t):\n",
    "    y = x[0]\n",
    "    dy = x[1]\n",
    "    \n",
    "    y_d, dy_d, ddy_d = trajectory(t)\n",
    "    \n",
    "    y_e = y - y_d\n",
    "    dy_e = dy - dy_d\n",
    "    s = dy_e + L*y_e\n",
    "    \n",
    "    f_hat = (-b_hat*dy * abs(dy) - c_hat*g)/m_hat\n",
    "    h_hat = 1/m_hat\n",
    "    u_hat = (ddy_d + L*dy_e - f_hat)/h_hat  \n",
    "    u_s = -0.1*np.sign(s)/h_hat\n",
    "    # u_s = -k*s/h_hat\n",
    "\n",
    "    return u_hat + u_s\n"
   ]
  },
  {
   "cell_type": "markdown",
   "metadata": {
    "slideshow": {
     "slide_type": "subslide"
    }
   },
   "source": [
    "We simulate the response:"
   ]
  },
  {
   "cell_type": "code",
   "execution_count": null,
   "metadata": {
    "slideshow": {
     "slide_type": "-"
    }
   },
   "outputs": [],
   "source": [
    "x_sol, u_sol, t = simulate_controller(f, control, [[-1.0, 0]], tf=15, show_plot=True, N = 5000)\n",
    "y_d, dy_d, _ = trajectory(t)\n",
    "y, dy = x_sol[0][:,0], x_sol[0][:,1]\n",
    "\n",
    "plot(t, y)    \n",
    "plot(t, y_d,color = 'black', linestyle='--' )\n",
    "xlim([t[0],t[-1]])\n",
    "ylabel(r'Output $y$')    \n",
    "xlabel(r'Time $t$ (s)')\n",
    "grid(color='black', linestyle='--', linewidth=1.0, alpha=0.3)\n",
    "grid(True)\n",
    "tight_layout()\n",
    "show()\n"
   ]
  },
  {
   "cell_type": "markdown",
   "metadata": {
    "slideshow": {
     "slide_type": "subslide"
    }
   },
   "source": [
    "### **Chattering**\n",
    "\n",
    "In order to account for the presence of modeling imprecision and of disturbances, the control law has to be discontinuous across $s(t)$. \n",
    "Since the implementation of the associated control switchings is necessarily imperfect (for\n",
    "instance, in practice switching is not instantaneous, and the value of $s$ is not known\n",
    "with infinite precision), this leads to chattering. "
   ]
  },
  {
   "cell_type": "code",
   "execution_count": null,
   "metadata": {
    "slideshow": {
     "slide_type": "-"
    }
   },
   "outputs": [],
   "source": [
    "plot(y - y_d, dy - dy_d)    \n",
    "ylabel(r'$y$')    \n",
    "xlabel(r'$\\dot{y}$')\n",
    "grid(color='black', linestyle='--', linewidth=1.0, alpha=0.3)\n",
    "grid(True)\n",
    "tight_layout()\n",
    "show()"
   ]
  },
  {
   "cell_type": "markdown",
   "metadata": {
    "slideshow": {
     "slide_type": "subslide"
    }
   },
   "source": [
    "The controller effort:"
   ]
  },
  {
   "cell_type": "code",
   "execution_count": null,
   "metadata": {
    "slideshow": {
     "slide_type": "-"
    }
   },
   "outputs": [],
   "source": [
    "plot(t, u_sol[0])    \n",
    "ylabel(r'Control $y$')    \n",
    "xlabel(r'Time $t$ (s)')\n",
    "grid(color='black', linestyle='--', linewidth=1.0, alpha=0.3)\n",
    "grid(True)\n",
    "tight_layout()\n",
    "show()"
   ]
  },
  {
   "cell_type": "markdown",
   "metadata": {
    "slideshow": {
     "slide_type": "subslide"
    }
   },
   "source": [
    "Chattering is undesirable in practice (with a few exceptions), since it involves high control activity and further may excite high-\n",
    "frequency dynamics neglected in the course of modeling (such as unmodeled structural modes, neglected time-delays, and so on). \n",
    "\n",
    "Thus, in a second step detailed in the discontinuous control law u is suitably smoothed to achieve an optimal\n",
    "trade-off between control bandwidth and tracking precision."
   ]
  },
  {
   "cell_type": "markdown",
   "metadata": {
    "slideshow": {
     "slide_type": "subslide"
    }
   },
   "source": [
    "### **Continuous Approximations of Switching Control Laws**\n",
    "\n",
    "In general, chattering must be eliminated for the controller to perform properly. This\n",
    "can be achieved by smoothing out the control discontinuity in a thin **boundary layer**\n",
    "neighboring the switching surface:\n",
    "\n",
    "$$\n",
    "\\mathcal{B}(t) = \\{ \\mathbf{x} :|s(\\mathbf{x}, t)|\\leq \\Phi \\}, \\quad \\Phi>0\n",
    "$$\n",
    "\n",
    "where $\\Phi$ is a thickness of boundary layer.\n",
    "\n",
    "This is usually done by approximating the discontinues $\\text{sign}(s)$ function with saturation $\\text{sat}(s/\\Phi)$."
   ]
  },
  {
   "cell_type": "markdown",
   "metadata": {
    "slideshow": {
     "slide_type": "subslide"
    }
   },
   "source": [
    "Let us use this idea to modify the proposed controller:"
   ]
  },
  {
   "cell_type": "code",
   "execution_count": null,
   "metadata": {
    "slideshow": {
     "slide_type": "-"
    }
   },
   "outputs": [],
   "source": [
    "Phi = 0.05\n",
    "    \n",
    "def control(x, t):\n",
    "    y = x[0]\n",
    "    dy = x[1]\n",
    "    # print(t)\n",
    "    y_d, dy_d, ddy_d = trajectory(t)\n",
    "    # y_d, dy_d, ddy_d = 0, 0, 0\n",
    "\n",
    "    y_e =  y - y_d\n",
    "    dy_e = dy - dy_d\n",
    "\n",
    "    s = dy_e + L*y_e\n",
    "    \n",
    "    f_hat = (-b_hat*dy * abs(dy) - c_hat*g)/m_hat\n",
    "    h_hat = 1/m_hat\n",
    "    \n",
    "    u_hat = (ddy_d + L*dy_e - f_hat)/h_hat  \n",
    "\n",
    "    if abs(s) > Phi:\n",
    "        u_s = -k*m_hat*np.sign(s)\n",
    "    else:\n",
    "        u_s = -k*m_hat*s/Phi\n",
    "        \n",
    "    return u_hat + u_s"
   ]
  },
  {
   "cell_type": "markdown",
   "metadata": {
    "slideshow": {
     "slide_type": "subslide"
    }
   },
   "source": [
    "And let's simulate response of \"smoothed\" controller:"
   ]
  },
  {
   "cell_type": "code",
   "execution_count": null,
   "metadata": {
    "slideshow": {
     "slide_type": "-"
    }
   },
   "outputs": [],
   "source": [
    "x_sol_s, u_sol_s, t = simulate_controller(f, control, [[-1, 0]], tf=15, show_plot=True, N = 5000)\n",
    "y_s, dy_s = x_sol_s[0][:, 0], x_sol_s[0][:, 1]"
   ]
  },
  {
   "cell_type": "markdown",
   "metadata": {
    "slideshow": {
     "slide_type": "-"
    }
   },
   "source": [
    "Now we can compare the behavior of the controller defined above with its approximated version:"
   ]
  },
  {
   "cell_type": "code",
   "execution_count": null,
   "metadata": {
    "slideshow": {
     "slide_type": "-"
    }
   },
   "outputs": [],
   "source": [
    "plot(y-y_d, dy - dy_d, linewidth=1.0, zorder = -4)\n",
    "plot(y_s-y_d, dy_s-dy_d, linewidth=3.0)\n",
    "xlabel(r'$y$')\n",
    "ylabel(r'$\\dot{y}$')\n",
    "grid(color='black', linestyle='--', linewidth=1.0, alpha=0.3)\n",
    "grid(True)\n",
    "tight_layout()\n",
    "show()\n"
   ]
  },
  {
   "cell_type": "markdown",
   "metadata": {
    "slideshow": {
     "slide_type": "subslide"
    }
   },
   "source": [
    "The input signal is succesfully smoothed:"
   ]
  },
  {
   "cell_type": "code",
   "execution_count": null,
   "metadata": {
    "slideshow": {
     "slide_type": "-"
    }
   },
   "outputs": [],
   "source": [
    "plot(t, u_sol[0])\n",
    "plot(t, u_sol_s[0], linewidth=3.0)\n",
    "ylabel(r'Control $y$')\n",
    "xlabel(r'Time $t$ (s)')\n",
    "grid(color='black', linestyle='--', linewidth=1.0, alpha=0.3)\n",
    "grid(True)\n",
    "tight_layout()\n",
    "show()"
   ]
  },
  {
   "cell_type": "markdown",
   "metadata": {
    "slideshow": {
     "slide_type": "subslide"
    }
   },
   "source": [
    "And tracking errors are almost the same:"
   ]
  },
  {
   "cell_type": "code",
   "execution_count": null,
   "metadata": {
    "slideshow": {
     "slide_type": "-"
    }
   },
   "outputs": [],
   "source": [
    "plot(t, y) \n",
    "plot(t, y_s) \n",
    "plot(t, y_d,color = 'black', linestyle='--' )\n",
    "xlim([t[0],t[-1]])\n",
    "ylabel(r'Output $y$')    \n",
    "xlabel(r'Time $t$ (s)')\n",
    "grid(color='black', linestyle='--', linewidth=1.0, alpha=0.3)\n",
    "grid(True)\n",
    "tight_layout()\n",
    "show()\n"
   ]
  },
  {
   "cell_type": "markdown",
   "metadata": {
    "slideshow": {
     "slide_type": "subslide"
    }
   },
   "source": [
    "The aproximated variant of the controller guaranty that the boundary layer is attractive and invariant: all trajectories starting inside $\\mathcal{B}(t=0)$\n",
    "remain inside $\\mathcal{B}(t)$ for all $t>0$. this leads to tracking to within a guaranteed\n",
    "precision $\\epsilon$ (rather than \"perfect\" tracking), and one can specifically find the particular bounds on trajectories as:\n",
    "\n",
    "$$\n",
    "|\\tilde{y}^{(i)}| \\leq (2\\lambda)^i \\epsilon\n",
    "$$\n",
    "with $\\epsilon = \\Phi/\\lambda^{n-1}$. \n",
    "\n",
    "This fact together with finite time convergence allow one to build the practical control systems with predefined precision and transient time. "
   ]
  },
  {
   "cell_type": "markdown",
   "metadata": {
    "slideshow": {
     "slide_type": "slide"
    }
   },
   "source": [
    "### **Robust Inverse Dynamics over Mechanical System via Sliding Mode Control**\n"
   ]
  },
  {
   "cell_type": "markdown",
   "metadata": {
    "slideshow": {
     "slide_type": "fragment"
    }
   },
   "source": [
    "\n",
    "We have shown how to design the sliding mode robust controllers for the special type of scalar systems, however in most cases our robotic systems are represented as system of second order equations. For instance let us consider mechanical system in familiar form:\n",
    "\n",
    "$$\n",
    "\\mathbf{M}(\\mathbf{q})\\ddot{\\mathbf{q}} + \\mathbf{c}(\\mathbf{q},\\dot{\\mathbf{q}}) + \\mathbf{g}(\\mathbf{q}) + \\delta(\\mathbf{q}, \\dot{\\mathbf{q}}, t) = \\mathbf{u}\n",
    "$$\n",
    "\n",
    "However now we assume that dynamics is not completely known, as well as there is some disturbance term $\\delta$"
   ]
  },
  {
   "cell_type": "markdown",
   "metadata": {
    "slideshow": {
     "slide_type": "fragment"
    }
   },
   "source": [
    "Recalling inverse dynamics approach we can apply the following outer loop controller to partially linearize our system given the estimates of model $\\hat{(\\cdot)}$:\n",
    "\n",
    "$$\n",
    "\\mathbf{u} = \\hat{\\mathbf{M}}(\\mathbf{q})\\mathbf{v} + \\hat{\\mathbf{c}}(\\mathbf{q},\\dot{\\mathbf{q}}) + \\hat{\\mathbf{g}}(\\mathbf{q})\n",
    "$$"
   ]
  },
  {
   "cell_type": "markdown",
   "metadata": {
    "slideshow": {
     "slide_type": "fragment"
    }
   },
   "source": [
    "Substitution to the dynamics yields:\n",
    "\n",
    "$$\n",
    "    \\ddot{\\mathbf{q}} = \\mathbf{f}(\\mathbf{q},\\dot{\\mathbf{q}}) + \\mathbf{B}(\\mathbf{q})\\mathbf{v}\n",
    "$$\n",
    "\n",
    "where $\\mathbf{f} = \\mathbf{M}^{-1}(\\tilde{\\mathbf{c}} + \\tilde{\\mathbf{g}} + \\delta)$ and $\\mathbf{B} = \\mathbf{M}^{-1}\\hat{\\mathbf{M}}$"
   ]
  },
  {
   "cell_type": "markdown",
   "metadata": {
    "slideshow": {
     "slide_type": "fragment"
    }
   },
   "source": [
    "Now we can apply the sliding mode technique! "
   ]
  },
  {
   "cell_type": "markdown",
   "metadata": {
    "slideshow": {
     "slide_type": "subslide"
    }
   },
   "source": [
    "**Sliding surface**\n",
    "\n",
    "To do so we now consider $n$ dimensional sliding surfaces given by:\n",
    "\n",
    "$$\n",
    "\\mathbf{s} = \\dot{\\tilde{\\mathbf{q}}} + \\Lambda \\tilde{\\mathbf{q}}\n",
    "$$\n",
    "\n",
    "with $\\Lambda$ being p.d. matrix."
   ]
  },
  {
   "cell_type": "markdown",
   "metadata": {
    "slideshow": {
     "slide_type": "fragment"
    }
   },
   "source": [
    "**Approximate controller**\n",
    "\n",
    "First let us define the controller as sliding feedforward with additional robustyfing part to be choosen: \n",
    "$$\n",
    "    \\mathbf{v} = \\mathbf{v}_s + \\mathbf{v}_n =\\mathbf{v}_s + \\ddot{\\mathbf{q}}_d + \\mathbf{\\Lambda}\\dot{\\tilde{\\mathbf{q}}}\n",
    "$$"
   ]
  },
  {
   "cell_type": "markdown",
   "metadata": {
    "slideshow": {
     "slide_type": "subslide"
    }
   },
   "source": [
    "**Sliding condition**\n",
    "\n",
    "Now we are ready to define sliding condition:\n",
    "\n",
    "$$\n",
    "\\frac{1}{2}\\frac{d}{dt}\\|\\mathbf{s}\\|^2 = \\mathbf{s}^T\\dot{\\mathbf{s}}< \\eta \\|\\mathbf{s}\\|\n",
    "$$\n",
    "\n"
   ]
  },
  {
   "cell_type": "markdown",
   "metadata": {
    "slideshow": {
     "slide_type": "fragment"
    }
   },
   "source": [
    "The time derivative of $\\mathbf{s}$ is connected to dynamics as follows:\n",
    "$$\n",
    "\\dot{\\mathbf{s}} = \\ddot{\\tilde{\\mathbf{q}}} + \\Lambda \\dot{\\tilde{\\mathbf{q}}} = \\mathbf{v}_n - \\ddot{\\mathbf{q}} = \\mathbf{v}_n - \\mathbf{f} - \\mathbf{B}(\\mathbf{v}_n + \\mathbf{v}_s) = \\mathbf{w} - \\mathbf{B}\\mathbf{v}_s \n",
    "$$\n",
    "with $\\mathbf{w} = (\\mathbf{I} - \\mathbf{B})\\mathbf{v}_n -\\mathbf{f} $"
   ]
  },
  {
   "cell_type": "markdown",
   "metadata": {
    "slideshow": {
     "slide_type": "fragment"
    }
   },
   "source": [
    "Substitution to sliding condition yields:\n",
    "\n",
    "$$\n",
    " \\mathbf{s}^T\\mathbf{w} - \\mathbf{s}^T\\mathbf{B}\\mathbf{v}_s  \\leq \\|\\mathbf{s}\\|\\|\\mathbf{w}\\| - \\mathbf{s}^T\\mathbf{B}\\mathbf{v}_s  \\leq - \\eta \\|\\mathbf{s}\\|\n",
    "$$"
   ]
  },
  {
   "cell_type": "markdown",
   "metadata": {
    "slideshow": {
     "slide_type": "subslide"
    }
   },
   "source": [
    "**Robust Controller**\n",
    "\n",
    "\n",
    "Thus we can choose the $\\mathbf{v}$ as:\n",
    "$$\n",
    "    \\mathbf{v}_s = \\frac{k}{\\sigma_{max}}\\hat{\\mathbf{M}}^{-1}\\frac{\\mathbf{s}}{\\|\\mathbf{s}\\|} = \\rho \\frac{\\mathbf{s}}{\\|\\mathbf{s}\\|} \n",
    "$$\n",
    "\n",
    "where $\\sigma_{max}$ is maximal singuilar value of $M^{-1}$\n"
   ]
  },
  {
   "cell_type": "markdown",
   "metadata": {
    "slideshow": {
     "slide_type": "fragment"
    }
   },
   "source": [
    "which provide:\n",
    "$$\n",
    "    \\|\\mathbf{s}\\|\\|\\mathbf{w}\\| - \\mathbf{s}^T\\mathbf{B}\\mathbf{v}_s \\leq \\|\\mathbf{s}\\|\\|\\mathbf{w}\\| + \\frac{k}{\\lambda^2_{max}\\|\\mathbf{s}\\|}\\mathbf{s}^T\\mathbf{M}^{-1}\\mathbf{s} \\leq \\|\\mathbf{s}\\|\\|\\mathbf{w}\\| + k \\|\\mathbf{s}\\| < - \\eta \\|\\mathbf{s}\\|\n",
    "$$"
   ]
  },
  {
   "cell_type": "markdown",
   "metadata": {
    "slideshow": {
     "slide_type": "fragment"
    }
   },
   "source": [
    "Setting gain $k$ accordingly to:\n",
    "\n",
    "$$\n",
    "    k > \\|w\\| + \\eta\n",
    "$$\n",
    "\n",
    "will satisfy sliding conditions."
   ]
  },
  {
   "cell_type": "markdown",
   "metadata": {
    "slideshow": {
     "slide_type": "subslide"
    }
   },
   "source": [
    "\n",
    "The resulting controller is then given as follows:\n",
    "$$\n",
    "\\begin{cases}\n",
    "\\mathbf{u} = \\hat{\\mathbf{M}}(\\mathbf{q})\\mathbf{v} + \\hat{\\mathbf{c}}(\\mathbf{q},\\dot{\\mathbf{q}}) + \\hat{\\mathbf{g}}(\\mathbf{q}) \\\\\n",
    "\\mathbf{v} = \\ddot{\\mathbf{q}}_d + \\mathbf{\\Lambda}\\dot{\\tilde{\\mathbf{q}}} + \\mathbf{v}_s \\\\\n",
    "\\mathbf{v}_s = \\rho \\frac{\\mathbf{s}}{\\|\\mathbf{s}\\|} \\\\\n",
    "\\mathbf{s} = \\dot{\\tilde{\\mathbf{q}}} + \\Lambda \\tilde{\\mathbf{q}}\n",
    "\\end{cases}\n",
    "$$\n"
   ]
  },
  {
   "cell_type": "markdown",
   "metadata": {
    "slideshow": {
     "slide_type": "fragment"
    }
   },
   "source": [
    "In practice the controller above is effectively smoothed using saturation like function:\n",
    "$$\n",
    "\\mathbf{v}_s = \n",
    "\\begin{cases}\n",
    "\\rho \\frac{\\mathbf{s}}{\\|\\mathbf{s}\\|}, \\quad \\|\\mathbf{s}\\| >\\epsilon\\\\\n",
    "\\rho \\frac{\\mathbf{s}}{\\epsilon}, \\quad \\|\\mathbf{s}\\| \\leq\\epsilon\n",
    "\\end{cases}\n",
    "$$\n"
   ]
  }
 ],
 "metadata": {
  "celltoolbar": "Slideshow",
  "colab": {
   "collapsed_sections": [],
   "name": "symbolical_linearization.ipynb",
   "provenance": []
  },
  "kernelspec": {
   "display_name": "forc_env",
   "language": "python",
   "name": "python3"
  },
  "language_info": {
   "codemirror_mode": {
    "name": "ipython",
    "version": 3
   },
   "file_extension": ".py",
   "mimetype": "text/x-python",
   "name": "python",
   "nbconvert_exporter": "python",
   "pygments_lexer": "ipython3",
   "version": "3.10.15"
  },
  "rise": {
   "enable_chalkboard": true,
   "scroll": true,
   "theme": "simple",
   "transition": "linear"
  }
 },
 "nbformat": 4,
 "nbformat_minor": 1
}
