{
 "cells": [
  {
   "cell_type": "markdown",
   "metadata": {
    "slideshow": {
     "slide_type": "slide"
    }
   },
   "source": [
    "## **Fundamentals of Robot Control:**\n",
    "### **Introduction and Course Outline**"
   ]
  },
  {
   "cell_type": "markdown",
   "metadata": {
    "slideshow": {
     "slide_type": "slide"
    }
   },
   "source": [
    "### **Instructor**\n",
    "\n",
    "**Name:** Simeon Nedelchev\n",
    "\n",
    "**Background:**\n",
    "* **MSTU STANKIN** (Bachelor/Master in Robotics 2018) \n",
    "* **Korea University of Technology And Education** (KoreaTech) (Master ME 2019), Research fellow 'BioRobotics' lab\n",
    "* **Innopolis University** (PhD), Senior Instructor, Research fellow of robotics lab\n",
    "\n"
   ]
  },
  {
   "cell_type": "markdown",
   "metadata": {
    "slideshow": {
     "slide_type": "fragment"
    }
   },
   "source": [
    "\n",
    "**Research interests:**\n",
    "\n",
    "*   **Control**: Nonlinear, Robust, Adaptive, Energy based, Noncolocated and Underactuated, with focus on discrete-time and physically inspired numerical methods.\n",
    "*   **Online Identification and Estimation**: Moving Horizon Estimators, Sliding Mode Observers.\n",
    "*  **Analytical Mechanics and Dynamical Systems**:\n",
    "Dynamical Modeling, Limit Cycles, Constrained Dynamics (UK), Computational mechanics.\n",
    "*  **Applied Optimization**:\n",
    "Linear, Quadratic, and Nonlinear programming, Dynamical programming, Optimal Control, Optimal Mechanical Design. \n",
    "\n",
    "Feel free to contact me in person (office 105 and 401) or via [telegram](https://t.me/simkasimka) and [mail](https://t.me/simkasimka) if you face any problems with the course or would like to do research and work on hardware"
   ]
  },
  {
   "cell_type": "markdown",
   "metadata": {
    "slideshow": {
     "slide_type": "slide"
    }
   },
   "source": [
    "### **What this course is about?**\n",
    "This is an introductory course dedicated to control over robotic systems (mainly fully actuated). In this course, you will learn the fundamentals of analysis and control over robotic systems described by linear and nonlinear models namely:\n",
    "* State space modeling\n",
    "* Analysis of linear and nonlinear systems\n",
    "* Linear control (PD, PID, pole placement, etc.)\n",
    "* Feedback linearization, gravity compensation etc.\n",
    "\n"
   ]
  },
  {
   "cell_type": "markdown",
   "metadata": {
    "slideshow": {
     "slide_type": "subslide"
    }
   },
   "source": [
    "### **Course organization**\n",
    "The course will be delivered in the form of interactive lectures compounded by a\n",
    "practice/lab sessions during which we will be implementing all the learned concepts\n",
    "within the computer environment (**Google Colab + Python**) and conduct experiments\n",
    "* I highly encourage you to do **hand written** notes and not miss classes\n",
    "* You will have **final** and **midterm** exams and \n",
    "\n"
   ]
  },
  {
   "cell_type": "markdown",
   "metadata": {
    "slideshow": {
     "slide_type": "fragment"
    }
   },
   "source": [
    "### **Grading Policy**\n",
    "The final grade is determined as follows:\n",
    "\n",
    "|  Midterm   | Exam Final | Assignments | Attendance* |\n",
    "|  :----:    |   :----:   |   :----:    |   :----:   |\n",
    "|    30%     |    30%     |     20%     |    20%     |\n",
    "\n",
    "\n",
    "* Plagiarism will result in a zero score for the submitted assignment/quiz/project\n",
    "* Feel free to contact the instructor or teaching assistant if you have any questions\n",
    "about the material\n",
    "* Attendance means both presenting on lecture, active participation\n",
    "* Grade thresholds are: >55% = **C**; >70% = **B**; >85% = **A**."
   ]
  },
  {
   "cell_type": "markdown",
   "metadata": {
    "slideshow": {
     "slide_type": "subslide"
    }
   },
   "source": [
    "### **Structure of the course**\n",
    "\n",
    "The course is consist of following parts:\n"
   ]
  },
  {
   "cell_type": "markdown",
   "metadata": {
    "slideshow": {
     "slide_type": "fragment"
    }
   },
   "source": [
    "\n",
    "* **Introduction and Modeling** (week 1): recap the concept of dynamical system, model, introducing state space, linear and nonlinear systems, solutions of ODE and simulation.\n"
   ]
  },
  {
   "cell_type": "markdown",
   "metadata": {
    "slideshow": {
     "slide_type": "fragment"
    }
   },
   "source": [
    "\n",
    "* **Analysis and Control of Linear Systems** (weeks 2-3): Introduction to stability, concept of full state feedback over linear systems"
   ]
  },
  {
   "cell_type": "markdown",
   "metadata": {
    "slideshow": {
     "slide_type": "fragment"
    }
   },
   "source": [
    "* **Mid-term exam** (week 4): midterm on linear stability and control \n"
   ]
  },
  {
   "cell_type": "markdown",
   "metadata": {
    "slideshow": {
     "slide_type": "fragment"
    }
   },
   "source": [
    "* **Analysis and Control over Nonlinear Systems** (weeks 5-7): Linearization, Lyapunov theory, linear control over nonlinear systems, full and partial feedback linearization.\n"
   ]
  },
  {
   "cell_type": "markdown",
   "metadata": {
    "slideshow": {
     "slide_type": "fragment"
    }
   },
   "source": [
    "* **Other topics:** (8 week): Overview of other approaches, state observers, adaptive and robust control, class wrap-up"
   ]
  },
  {
   "cell_type": "markdown",
   "metadata": {
    "slideshow": {
     "slide_type": "skip"
    }
   },
   "source": [
    "* **Final exam:** the exam on full content of course"
   ]
  },
  {
   "cell_type": "markdown",
   "metadata": {
    "slideshow": {
     "slide_type": "subslide"
    }
   },
   "source": [
    "### **Prerequisites**\n",
    "\n",
    "The students are required to have completed the following courses:\n",
    "* **Linear algebra**\n",
    "* **Differential Equations**\n",
    "  \n",
    "Definitely helpful:\n",
    "* **Introduction to Robotics** (or similar)\n",
    "* **Control Theory** (Linear Control)\n",
    "\n",
    "Solid knowledge of vector and matrix operations is required, as well as that of\n",
    "mechanics (kinematics, dynamics, concept of mechanical energy). "
   ]
  },
  {
   "cell_type": "markdown",
   "metadata": {
    "slideshow": {
     "slide_type": "subslide"
    }
   },
   "source": [
    "### **References**\n",
    "\n",
    "The material of this course is based on following text books:\n",
    "\n",
    "\n",
    "<p align=\"center\">\n",
    "<img src=\"images/books/references.png\" alt=\"drawing\" width=\"80%\" style=\"margin:auto\"/>\n",
    "</p>\n",
    "\n",
    "\n",
    "\n"
   ]
  },
  {
   "cell_type": "markdown",
   "metadata": {
    "slideshow": {
     "slide_type": "subslide"
    }
   },
   "source": [
    "### **Online materials:**\n",
    "* [Control Bootcamp](https://www.youtube.com/playlist?list=PLMrJAkhIeNNR20Mz-VpzgfQs5zrYi085m) - YouTube playlist on the concepts of linear and nonlinear control\n",
    "* [Slotine control course](https://www.bilibili.com/video/BV1yb411e7t5/) - personally my favorite course on nonlinear control\n",
    "* [Underactuated Robotics](https://underactuated.mit.edu/) - the perfect course on MIT about numerical methods in control.\n"
   ]
  },
  {
   "cell_type": "markdown",
   "metadata": {
    "slideshow": {
     "slide_type": "subslide"
    }
   },
   "source": [
    "### **Course Outcomes**\n",
    "\n",
    "By the end of the course, you will know\n",
    "* The structure of differential equations\n",
    "* The purpose and the main blocks of feedback control systems\n",
    "* The main sources of nonlinearities in robotic systems\n",
    "* How to perform stability analysis of your robots given dynamical model of it\n",
    "* Different control algorithms dedicated for motion control of different robots\n",
    "\n",
    "<!-- ▪ Implement control laws on practical hardware (DC motors, manipulators). -->"
   ]
  }
 ],
 "metadata": {
  "celltoolbar": "Slideshow",
  "colab": {
   "collapsed_sections": [],
   "name": "symbolical_linearization.ipynb",
   "provenance": []
  },
  "kernelspec": {
   "display_name": "Python 3 (ipykernel)",
   "language": "python",
   "name": "python3"
  },
  "language_info": {
   "codemirror_mode": {
    "name": "ipython",
    "version": 3
   },
   "file_extension": ".py",
   "mimetype": "text/x-python",
   "name": "python",
   "nbconvert_exporter": "python",
   "pygments_lexer": "ipython3",
   "version": "3.8.10 (default, Nov 14 2022, 12:59:47) \n[GCC 9.4.0]"
  },
  "rise": {
   "enable_chalkboard": true,
   "scroll": true,
   "theme": "simple",
   "transition": "linear"
  },
  "vscode": {
   "interpreter": {
    "hash": "767d51c1340bd893661ea55ea3124f6de3c7a262a8b4abca0554b478b1e2ff90"
   }
  }
 },
 "nbformat": 4,
 "nbformat_minor": 1
}
