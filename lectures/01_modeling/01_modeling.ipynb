{
 "cells": [
  {
   "cell_type": "markdown",
   "metadata": {
    "slideshow": {
     "slide_type": "slide"
    }
   },
   "source": [
    "## **Fundamentals of Robot Control:**\n",
    "### **Lecture 1: Robotic System, Models, Dynamical Systems and State Space**"
   ]
  },
  {
   "cell_type": "markdown",
   "metadata": {
    "slideshow": {
     "slide_type": "subslide"
    }
   },
   "source": [
    "During our course we will discuss **control methods over robots**, our task can be summarized as follows: to **design a control algorithms** that will cause the **controlled object to perform the desired behavior** even in the **presence of possible disturbances**.  However before we move further let us briefly discuss the overall structure of **robotic control system**\n",
    "\n"
   ]
  },
  {
   "cell_type": "markdown",
   "metadata": {
    "slideshow": {
     "slide_type": "fragment"
    }
   },
   "source": [
    "But before we will dig in to details let us recall what is the main components of control system are:\n",
    "\n",
    "<p align=\"center\">\n",
    "<img src=\"images/schemes/forc_robot_scheme.png\" alt=\"drawing\" width=\"70%\" style=\"margin:auto\"/>\n",
    "</p>"
   ]
  },
  {
   "cell_type": "markdown",
   "metadata": {
    "slideshow": {
     "slide_type": "subslide"
    }
   },
   "source": [
    "From the scheme above we may distinguish following:\n"
   ]
  },
  {
   "cell_type": "markdown",
   "metadata": {
    "slideshow": {
     "slide_type": "fragment"
    }
   },
   "source": [
    "* **Operator/User** - is providing desired behavior to the control system by means of **desired commands**"
   ]
  },
  {
   "cell_type": "markdown",
   "metadata": {
    "slideshow": {
     "slide_type": "fragment"
    }
   },
   "source": [
    "\n",
    "* **Plant** - is the device/software we are trying to control and it's consist of:\n",
    "  * **Actuators** - transform the software signals from controller to dynamical system \n",
    "  * **Dynamical system** - take the inputs and change its behavior according to some mechanism of our robot which is completely described by some variables (state)\n",
    "  * **Sensors** - measure some combination of states and produce the output\n",
    "  * The Plant can be replaced by **simulator** software that mimic all of the components above.\n",
    "  \n"
   ]
  },
  {
   "cell_type": "markdown",
   "metadata": {
    "slideshow": {
     "slide_type": "fragment"
    }
   },
   "source": [
    "  \n",
    "* **Controller** - is the software + hardware that take **outputs** from the plant/simulator and produce appropriate **input** based on **user commands**, the controller itself may consist of different blocks, i.e. planner, regulator, observer, estimator etc."
   ]
  },
  {
   "cell_type": "markdown",
   "metadata": {
    "slideshow": {
     "slide_type": "fragment"
    }
   },
   "source": [
    "* **Environment** - the system and world is in the constant bilateral interacting process that may be either beneficial or reduce the system performance by inducing **disturbances**"
   ]
  },
  {
   "cell_type": "markdown",
   "metadata": {
    "slideshow": {
     "slide_type": "subslide"
    }
   },
   "source": [
    "In this course we will mainly focus on **design of controllers**, however to facilitate this we must ensure that we have a clear picture of the object we are going to control.\n",
    "\n",
    "So today we will try to:\n",
    "* briefly recall what a dynamical system is\n",
    "* how to build **mathematical model** \n",
    "* **appropriately simulate** behavior of plant\n",
    "\n",
    "While doing so we will have **two assumptions** (at least for today) namely plant actuators are ideal and supply the **control inputs to plant without any distortions**. The **full state of plant is measurable** without any noise (sensors are ideal as well)"
   ]
  },
  {
   "cell_type": "markdown",
   "metadata": {
    "slideshow": {
     "slide_type": "subslide"
    }
   },
   "source": [
    "### **Dynamical System**\n",
    "\n",
    "A dynamical system is a system whose behaviour, indicated by its output\n",
    "signal, **evolves over time**, possibly under the influence of **external inputs**.\n",
    "\n",
    "<!-- Interactions of a dynamical system with its environment is usually\n",
    "expressed with a diagram as shown below:\n",
    "\n",
    "<p align=\"center\">\n",
    "<img src=\"images/schemes/control_system.png\" alt=\"drawing\" width=\"70%\" style=\"margin:auto\"/>\n",
    "</p> -->\n",
    "\n",
    "<!-- !!! PUT PICTURE HERE: CIRCUITE ROBOT DRON AITPLANE STOCK MARKET !!! -->\n",
    "\n",
    "Examples of dynamical systems include: \n",
    "* Electrical circuits \n",
    "* Mechanical systems\n",
    "* Biological systems\n",
    "* Stock market, and many others... \n",
    "\n",
    "Whatever objects with some quantities changing in time can be viewed as dynamical system"
   ]
  },
  {
   "cell_type": "markdown",
   "metadata": {
    "slideshow": {
     "slide_type": "subslide"
    }
   },
   "source": [
    "A dynamical system may be\n",
    "* **SISO or MIMO**: A SISO system is single-input single-output system and a\n",
    "MISO system is multiple-input multiple-output system\n",
    "* **Continuous-time or discrete-time**: A continuous-time system accepts and\n",
    "generates signals at all continuous times continuously.\n",
    "A discrete system accepts and generates signals at discrete times.\n",
    "* **Causal or non-causal**: A system is causal if its output at some time $t$\n",
    "depends on inputs up to time $t$ but not after $t$. Otherwise it is non-causal.\n",
    "* **Time invariant or time-varying**: A system is time-invariant if its input-output\n",
    "relationship is independent of time. Otherwise it is time-varying.\n",
    "* **Linear or nonlinear**: The process that we want to model may be extremely complicated with different non-linearities, it is rare that real life systems are well described by linear models along the whole operational range."
   ]
  },
  {
   "cell_type": "markdown",
   "metadata": {
    "slideshow": {
     "slide_type": "subslide"
    }
   },
   "source": [
    "### **Methematical Models**"
   ]
  },
  {
   "cell_type": "markdown",
   "metadata": {
    "slideshow": {
     "slide_type": "-"
    }
   },
   "source": [
    "Mathematical model is the **abstraction** of real world. While one building model of process there are a lot of simplifications may be made, and even seemingly accurate models are never perfectly describe the underlying process. **A model should be as simple as possible, and no simpler**.\n",
    "\n",
    "<p align=\"center\">\n",
    "<img src=\"images/systems/robot_to_model_blank.png\"\" alt=\"drawing\" width=\"90%\" style=\"margin:auto\"/>\n",
    "</p>\n",
    "\n"
   ]
  },
  {
   "cell_type": "markdown",
   "metadata": {
    "slideshow": {
     "slide_type": "fragment"
    }
   },
   "source": [
    "The fundamental laws of physics, mechanics, electricity, and thermodynamics are usually based on empirical observations that explain variations in physical properties and states of systems. When combined with continuity laws for energy, mass, or momentum, they result in **differential equations**."
   ]
  },
  {
   "cell_type": "markdown",
   "metadata": {
    "slideshow": {
     "slide_type": "subslide"
    }
   },
   "source": [
    "### **Differential Equations**\n",
    "In mathematics, a differential equation is an equation that relates one or more unknown functions and their derivatives. In applications, the functions generally **represent physical quantities**, the derivatives represent their **rates of change**, and the **differential equation defines a relationship between the two**. Such relations are common; therefore, differential equations play a prominent role in many disciplines including engineering, physics, economics, and biology."
   ]
  },
  {
   "cell_type": "markdown",
   "metadata": {
    "slideshow": {
     "slide_type": "skip"
    }
   },
   "source": [
    "Differential equations first came into existence with the invention of calculus by **Newton** and **Leibniz**. In classical mechanics, the motion of a body is described by its position and velocity as the time value varies (**equation of motion**). Newton's laws and variational approaches allow these variables to be expressed dynamically (given the position, velocity, acceleration and various forces acting on the body) as a differential equation for the unknown position of the body as a function of time.\n"
   ]
  },
  {
   "cell_type": "markdown",
   "metadata": {
    "slideshow": {
     "slide_type": "fragment"
    }
   },
   "source": [
    "In this class we will use ordinary differential equations (ODE) which describe behavior of system with respect to one variable (usually **time**) in contrast with the term partial differential equation, which may be with respect to more than one independent variable.\n",
    "\n",
    "Given $\\mathbf{F}$, a function of $x, z$, and derivatives of $z$. Then an equation of the form\n",
    "$$\n",
    "\\mathbf{F}\\left(x,z,z',\\ldots ,z^{(n-1)}\\right)=z^{(n)}\n",
    "$$\n",
    "\n",
    "is called an **explicit ordinary differential equation** of order $n$.\n"
   ]
  },
  {
   "cell_type": "markdown",
   "metadata": {
    "slideshow": {
     "slide_type": "fragment"
    }
   },
   "source": [
    "\n",
    "More generally, an implicit ordinary differential equation of order $n$ takes the form:\n",
    "$$\n",
    "\\mathbf{F}\\left(x,z,z',\\ldots ,z^{(n-1)},z^{(n)}\\right)=0\n",
    "$$\n",
    "\n",
    "There are further classifications which we will consider a bit later."
   ]
  },
  {
   "cell_type": "markdown",
   "metadata": {
    "slideshow": {
     "slide_type": "subslide"
    }
   },
   "source": [
    "<!-- ### **Model** -->\n",
    "\n",
    "There are variaty of ways how differential equations can be modeled to some way that is beneficial for control design:\n",
    "* **Impulse response** models (time domain)\n",
    "* **Transfer function** models (frequency domain)\n",
    "* **State-space** models (time domain)\n",
    "\n",
    "At present, mostly state-space models are used due to their generality, simplicity of implementation and mature mathematical apparatus that simplifies their analysis. However, impulse responce and transfer function may be usefull as well. For instance if one is interested in input output relationships, or som terminal properties of a system, impulse\n",
    "response models or transfer function descriptions can be used.\n",
    "\n",
    "However in **this course we will stick to the state space models**, since Many of modern systems are complex and may have multiple inputs and multiple outputs."
   ]
  },
  {
   "cell_type": "markdown",
   "metadata": {
    "slideshow": {
     "slide_type": "subslide"
    }
   },
   "source": [
    "### **State-space models**\n",
    "\n",
    "These models are based on the concept of the **state** of the system.\n",
    "\n",
    "* The **state** $\\mathbf{x}$ of a system is the smallest set of variables (called state variables)\n",
    "such that the knowledge of these variables $\\mathbf{x}_0$ at some time $t_0$ together with\n",
    "the knowledge of the input $\\mathbf{u}(\\tau)$ for all $\\tau$ from $t_0$ to $t$ completely\n",
    "determines the behavior of the system for any time $t> t_0$ .\n",
    "\n",
    "A state $\\mathbf{x}$ is said to belong to the **state space** the n-dimensional space whose coordinates axes consist of the $\\mathbf{x}_i$ \n",
    "\n",
    "The state space model is usually represented as the **system of first order differential equations**.\n"
   ]
  },
  {
   "cell_type": "markdown",
   "metadata": {
    "slideshow": {
     "slide_type": "subslide"
    }
   },
   "source": [
    "### **Linear Systems**\n",
    "\n",
    "Linear control theory has been predominantly concerned with the study of control systems, of the form:\n",
    "\n",
    "$$\n",
    "\\begin{matrix}\n",
    "    \\dot{\\mathbf{x}} = \\mathbf{A}(t) \\mathbf{x} + \\mathbf{B}(t) \\mathbf{u}\\\\\n",
    "    \\mathbf{y}=\\mathbf{C}(t)\\mathbf{x} + \\mathbf{D}(t)\\mathbf{u}\n",
    "\\end{matrix}\n",
    "$$\n",
    "\n",
    "where\n",
    "*   $\\mathbf{x} \\in \\mathbb{R}^n$ states of the system: describe internal variables that determine the dynamics \n",
    "*   $\\mathbf{y} \\in \\mathbb{R}^l$ output vector: describe available measurements in system\n",
    "*   $\\mathbf{u} \\in \\mathbb{R}^m$ control inputs: the available control inputs \n",
    "*   $\\mathbf{A} \\in \\mathbb{R}^{n \\times n}$ state matrix: describe mapping between state and it's derivative\n",
    "*   $\\mathbf{B} \\in \\mathbb{R}^{n \\times m}$ input matrix: determine the 'placements' of actuators\n",
    "*   $\\mathbf{C} \\in \\mathbb{R}^{l \\times n}$ output matrix: indicate the where sensors are placed \n",
    "*   $\\mathbf{D} \\in \\mathbb{R}^{l \\times m}$ feedforward matrix: if somehow we are measuring the control itself (rarely seen)\n",
    "  \n",
    "Note that matrices $\\mathbf{A},\\mathbf{B},\\mathbf{C},\\mathbf{D}$ are time dependend, we call such systems **time-varient** (LTV). If this matrices are not dependent on time we call such system **time-invariant** (LTI)."
   ]
  },
  {
   "cell_type": "markdown",
   "metadata": {
    "slideshow": {
     "slide_type": "subslide"
    }
   },
   "source": [
    "LTI systems have quite simple properties, such as:\n",
    "\n",
    "* a linear system has a **unique equilibrium point** if $\\mathbf{A}$ is full rank\n",
    "* the equilibrium point is **stable** if all eigenvalues of $\\mathbf{A}$ have negative real parts, regardless of initial conditions\n",
    "* the transient response of a linear system is composed of the natural modes of the system, and the general solution can be found **analytically**\n",
    "* **response** satisfies the principle of superposition.\n",
    "* a sinusoidal input leads to a sinusoidal output of the **same frequency**.\n",
    "\n",
    "We will discuss them in details in the upcoming classes."
   ]
  },
  {
   "cell_type": "markdown",
   "metadata": {
    "slideshow": {
     "slide_type": "subslide"
    }
   },
   "source": [
    "In robotics most of our systems are actually of second order, while the equations above are given as system of first order. Thus we need to know how to transform from the second order to the first one. Let us do this through following example:"
   ]
  },
  {
   "cell_type": "markdown",
   "metadata": {
    "slideshow": {
     "slide_type": "fragment"
    }
   },
   "source": [
    "**Example: Mass-Spring-Damper**\n",
    "\n",
    "<p align=\"center\">\n",
    "<img src=\"images/systems/mbk_eq.png\" alt=\"drawing\" width=\"60%\" style=\"margin:auto\"/>\n",
    "</p>"
   ]
  },
  {
   "cell_type": "markdown",
   "metadata": {
    "slideshow": {
     "slide_type": "fragment"
    }
   },
   "source": [
    "Chosing the state to be $\\mathbf{x} = [y,\\dot{y}]^T$ one can formulate this system in state space as:\n",
    "$$\n",
    "\\dot{\\mathbf{x}} = \\mathbf{A}\\mathbf{x} =\n",
    "\\begin{bmatrix}\n",
    "\\dot{y}\\\\\n",
    "\\ddot{y}\n",
    "\\end{bmatrix}=\n",
    "\\begin{bmatrix}\n",
    "0 & 1\\\\\n",
    "-\\frac{k}{m} & -\\frac{b}{m}\n",
    "\\end{bmatrix}\n",
    " \\begin{bmatrix}\n",
    "y\\\\\n",
    "\\dot{y}\n",
    "\\end{bmatrix}\n",
    "$$"
   ]
  },
  {
   "cell_type": "markdown",
   "metadata": {
    "slideshow": {
     "slide_type": "subslide"
    }
   },
   "source": [
    "### **Nonlinear Systems**\n",
    "\n",
    "Physical systems are inherently nonlinear. Thus, all control systems are nonlinear to a\n",
    "certain extent. \n",
    "Nonlinear control systems can be described by nonlinear differential equations. \n",
    "\n",
    "$$\n",
    "\\begin{matrix}\n",
    "    \\dot{\\mathbf{x}} = \\mathbf{f}(\\mathbf{x},\\mathbf{u},\\mathbf{d}, t) \\\\ \n",
    "    \\mathbf{y}=\\mathbf{h}(\\mathbf{x},\\mathbf{u},\\mathbf{d}, t)\n",
    "\\end{matrix}\n",
    "$$\n",
    "\n",
    "where $\\mathbf{f} \\in \\mathbb{R}^n$, $\\mathbf{h} \\in \\mathbb{R}^l$ are some nonlinear smooth functions. \n",
    "\n",
    "Nonlinear systems in contrast to linear:\n",
    "* in general one can't obtain analytical solution \n",
    "* a nonlinear system has a **multiple equilibrium points**\n",
    "* the **stability** of these equilibriums is much harder to analyze \n",
    "* **response** does not satisfies the principle of superposition.\n",
    "\n",
    "The form above is fairly general, however there are known special cases, like control-affine and drift-less systems which we will study a bit later.\n",
    "\n",
    "<!-- However, if the operating range of a control system is small, and if the\n",
    "involved nonlinearities are smooth, then the control system may be reasonably\n",
    "approximated by a linearized system, whose dynamics is described by a set of linear\n",
    "differential equations. -->\n",
    "\n",
    "<!-- Nonlinearities can be classified as inherent (natural) and intentional (artificial).\n",
    "Inherent nonlinearities are those which naturally come with the system's hardware and\n",
    "motion. Examples of inherent nonlinearities include centripetal forces in rotational\n",
    "motion, and Coulomb friction between contacting surfaces. Usually, such\n",
    "nonlinearities have undesirable effects, and control systems have to properly\n",
    "compensate for them. \n",
    "Intentional nonlinearities, on the other hand, are artificially\n",
    "introduced by the designer. -->\n"
   ]
  },
  {
   "cell_type": "markdown",
   "metadata": {
    "slideshow": {
     "slide_type": "subslide"
    }
   },
   "source": [
    "**Example: Nonlinear Pendulum**\n",
    "\n",
    "<p align=\"center\">\n",
    "<img src=\"images/systems/pend_eq.png\" alt=\"drawing\" width=\"60%\" style=\"margin:auto\"/>\n",
    "</p>\n",
    " \n",
    "\n",
    "\n",
    "<!-- Let us consider simple pendulum, with dynamics given by:\n",
    "\n",
    "$$\n",
    "(m L^2 + I) \\ddot{\\theta} + mgL \\sin\\theta + b \\dot{\\theta} = u\n",
    "$$ -->\n",
    "\n"
   ]
  },
  {
   "cell_type": "markdown",
   "metadata": {
    "slideshow": {
     "slide_type": "fragment"
    }
   },
   "source": [
    "Given state $\\mathbf{x} = [\\theta, \\dot{\\theta}]^T$ we may formulate equation above as:\n",
    "\n",
    "$$\n",
    "\\dot{\\mathbf{x}} = \n",
    "\\begin{bmatrix}\n",
    "\\dot{\\theta} \\\\\n",
    "\\ddot{\\theta} \n",
    "\\end{bmatrix} =\n",
    "\\begin{bmatrix}\n",
    "\\dot{x}_1 \\\\\n",
    "\\dot{x}_2 \n",
    "\\end{bmatrix} =\n",
    "\\begin{bmatrix}\n",
    "x_2 \\\\\n",
    "\\frac{1}{m L^2 + I}(u - mgL \\sin x_1-b x_2)\n",
    "\\end{bmatrix} \n",
    "$$"
   ]
  },
  {
   "cell_type": "markdown",
   "metadata": {
    "slideshow": {
     "slide_type": "subslide"
    }
   },
   "source": [
    "**Example: Variable Mass Lander**\n",
    "\n",
    "<!-- Dynamics of lunar lander given by  Tsiolkovsky-Meshchersky equation:\n",
    "$$\n",
    " m\\ddot{x} + mg = -k\\dot{m} = -ku\n",
    "$$ -->\n",
    "\n",
    "<p align=\"center\">\n",
    "<img src=\"images/systems/lander_eq.png\" alt=\"drawing\" width=\"60%\" style=\"margin:auto\"/>\n",
    "</p>\n",
    "\n"
   ]
  },
  {
   "cell_type": "markdown",
   "metadata": {
    "slideshow": {
     "slide_type": "fragment"
    }
   },
   "source": [
    "Noting that $m$ is vary we need to include it to state, thus $\\mathbf{x} = [x, \\dot{x}, m]^T$ and equation above is equalient to:\n",
    "\n",
    "$$\n",
    "\\dot{\\mathbf{x}}=\n",
    "\\begin{bmatrix}\n",
    "\\dot{x} \\\\\n",
    "\\dot{v} \\\\ \n",
    "\\dot{m} \\\\\n",
    "\\end{bmatrix}=\n",
    "\\begin{bmatrix}\n",
    "v \\\\ \n",
    "-g - \\frac{k}{m} u\\\\ \n",
    "u \\\\ \n",
    "\\end{bmatrix} =\n",
    "\\begin{bmatrix}\n",
    "\\dot{x}_1 \\\\\n",
    "\\dot{x}_2 \\\\ \n",
    "\\dot{x}_3 \\\\\n",
    "\\end{bmatrix} = \n",
    "\\begin{bmatrix}\n",
    "x_2 \\\\ \n",
    "-g - \\frac{k}{x_3} u\\\\ \n",
    "u \\\\ \n",
    "\\end{bmatrix}\n",
    "$$\n"
   ]
  },
  {
   "cell_type": "markdown",
   "metadata": {
    "slideshow": {
     "slide_type": "subslide"
    }
   },
   "source": [
    "### **Generilized Mechanical System**\n",
    "\n",
    "Equation of motion for most mechanical systems may be written in following form:\n",
    "\n",
    "$$\n",
    "\\mathbf{M}(\\mathbf{q})\\ddot{\\mathbf{q}} + \\mathbf{h}(\\mathbf{q},\\dot{\\mathbf{q}}) + \\mathbf{d}(\\mathbf{q},\\dot{\\mathbf{q}},t) = \\mathbf{Q} = \\mathbf{B}(\\mathbf{q})\\mathbf{u}\n",
    "$$\n",
    "<!-- \\mathbf{M}(\\mathbf{q})\\ddot{\\mathbf{q}}  + \\mathbf{C}(\\mathbf{q},\\dot{\\mathbf{q}})\\dot{\\mathbf{q}} + \\mathbf{g}(\\mathbf{q}) + \\mathbf{d}(\\mathbf{q},\\dot{\\mathbf{q}},t) =  -->\n",
    "\n",
    "where:\n",
    "* $\\mathbf{Q} \\in \\mathbb{R}^n$ - generalized forces corresponding to generilized coordinates\n",
    "* $\\mathbf{B} \\in \\mathbb{R}^{n \\times m}$ - input mapping matrix that mapped actual forces to the \n",
    "* $\\mathbf{d} \\in \\mathbb{R}^n$ - disturbances (for instance friction or external forces)\n",
    "* $\\mathbf{q} \\in \\mathbb{R}^{n}$ - vector of generilized coordinates\n",
    "* $\\mathbf{M} \\in \\mathbb{R}^{n \\times n}$ - positive definite symmetric inertia matrix \n",
    "* $\\mathbf{h} \\in \\mathbb{R}^n$ nonlinear term that describe the internal forces (coriolis and centrifugal terms)\n"
   ]
  },
  {
   "cell_type": "markdown",
   "metadata": {
    "slideshow": {
     "slide_type": "fragment"
    }
   },
   "source": [
    "One can easily transform the mechanical system to the state space form by defining the state $\\mathbf{x} = [\\mathbf{q}, \\dot{\\mathbf{q}}]^T$:\n",
    "\n",
    "$$\n",
    "\\dot{\\mathbf{x}}=\n",
    "\\begin{bmatrix}\n",
    "\\dot{\\mathbf{x}}_1 \\\\ \n",
    "\\dot{\\mathbf{x}}_2\n",
    "\\end{bmatrix}=\n",
    "\\begin{bmatrix}\n",
    "\\dot{\\mathbf{q}} \\\\ \n",
    "\\ddot{\\mathbf{q}}\n",
    "\\end{bmatrix}=\n",
    "\\begin{bmatrix}\n",
    "\\mathbf{x}_2 \\\\\n",
    "\\mathbf{M}^{-1}(\\mathbf{x}_1) \\big(\\mathbf{B}(\\mathbf{x}_1)\\mathbf{u} - \\mathbf{d}(\\mathbf{x}_1, \\mathbf{x}_2,t) -  \\mathbf{h}(\\mathbf{x}_1, \\mathbf{x}_2) \\big)\n",
    "\\end{bmatrix}\n",
    "$$\n"
   ]
  },
  {
   "cell_type": "markdown",
   "metadata": {
    "slideshow": {
     "slide_type": "subslide"
    }
   },
   "source": [
    "**Example: Floating Rigid Body**\n",
    "\n",
    "The model of floating rigid body described by its postion $\\mathbf{p}$, linear $\\mathbf{v} = \\dot{\\mathbf{p}}$ and angular velocity $\\boldsymbol{\\omega}$ subject to external force $\\mathbf{f}$ and torque $\\boldsymbol{\\tau}$:\n",
    "\n",
    "\n",
    "<p align=\"center\">\n",
    "<img src=\"images/systems/srb_eq.png\" alt=\"drawing\" width=\"60%\" style=\"margin:auto\"/>\n",
    "</p>\n"
   ]
  },
  {
   "cell_type": "markdown",
   "metadata": {
    "slideshow": {
     "slide_type": "fragment"
    }
   },
   "source": [
    "To rewrite the following in the general form one may define following:\n",
    "$$\n",
    "\\mathbf{M}(\\mathbf{q}) = \n",
    "\\begin{bmatrix}\n",
    "mI & 0 \\\\\n",
    "0 & \\mathcal{I}\\\\\n",
    "\\end{bmatrix}, \\quad\n",
    "\\mathbf{h}(\\mathbf{q},\\dot{\\mathbf{q}}) = \n",
    "\\begin{bmatrix}\n",
    "mg \\\\\n",
    "\\boldsymbol{\\omega} \\times  \\mathcal{I}\\boldsymbol{\\omega}\\\\\n",
    "\\end{bmatrix}, \\quad \\mathbf{B} = \\mathbf{I}\n",
    "$$"
   ]
  },
  {
   "cell_type": "markdown",
   "metadata": {
    "slideshow": {
     "slide_type": "subslide"
    }
   },
   "source": [
    "**Example: Artificial Satellite**\n",
    "\n",
    "The artificial satellite orbiting planet may be described using Newton gravity theory as:\n",
    "<!-- \n",
    "$$\n",
    "\\left\\{\\begin{matrix}\n",
    "m\\ddot{r}=m r\\dot{\\theta}^2  -G\\cfrac{m M}{r^2} + u_r\n",
    "\\\\ \n",
    "mr\\ddot{\\theta}=-2 m \\dot{r}\\dot{\\theta}+ u_\\theta\n",
    "\\end{matrix}\\right.\n",
    "$$ -->\n",
    "\n",
    "<p align=\"center\">\n",
    "<img src=\"images/systems/satt_eq.png\" alt=\"drawing\" width=\"60%\" style=\"margin:auto\"/>\n",
    "</p>\n"
   ]
  },
  {
   "cell_type": "markdown",
   "metadata": {
    "slideshow": {
     "slide_type": "fragment"
    }
   },
   "source": [
    "Given the generilized coordinates as $\\mathbf{q} = [r, \\theta]$ and control $\\mathbf{u} = [u_r, u_\\theta]^T$ one can express above in the general form:\n",
    "\n",
    "$$\n",
    "\\mathbf{M}(\\mathbf{q}) = \n",
    "\\begin{bmatrix}\n",
    "m & 0 \\\\\n",
    "0 & mr \\\\\n",
    "\\end{bmatrix}, \\quad\n",
    "\\mathbf{h}(\\mathbf{q},\\dot{\\mathbf{q}}) = \n",
    "\\begin{bmatrix}\n",
    "-mr\\dot{\\theta}^2 + G\\cfrac{m M}{r^2} \\\\\n",
    "2m\\dot{r}\\dot{\\theta}\\\\\n",
    "\\end{bmatrix}, \\quad \\mathbf{B} = \\mathbf{I}\n",
    "$$"
   ]
  },
  {
   "cell_type": "markdown",
   "metadata": {
    "slideshow": {
     "slide_type": "subslide"
    }
   },
   "source": [
    "**Example: Cart Pole**\n",
    "\n",
    "Let us consider the cart pole described by:\n",
    "<!-- $$\n",
    "\\begin{cases} \n",
    "\\left(M+m\\right){\\ddot {r}}-m L \\ddot{\\theta} \\cos \\theta +m L \\dot{\\theta }^{2}\\sin \\theta = u \\\\\n",
    "mL^2 \\ddot{\\theta}- mLg\\sin \\theta =mL\\ddot{r} \\cos \\theta  \\\\\n",
    "\\end{cases}\n",
    "$$ -->\n",
    "\n",
    "<p align=\"center\">\n",
    "<img src=\"images/systems/cart_pole_eq.png\" alt=\"drawing\" width=\"60%\" style=\"margin:auto\"/>\n",
    "</p>\n"
   ]
  },
  {
   "cell_type": "markdown",
   "metadata": {
    "slideshow": {
     "slide_type": "fragment"
    }
   },
   "source": [
    "Defyning the generilized coordinates as $\\mathbf{q} = [r, \\theta]$ and matching the terms yields:\n",
    "\n",
    "$$\n",
    "\\mathbf{M}(\\mathbf{q}) = \n",
    "\\begin{bmatrix}\n",
    "M + m & -mL \\cos \\theta \\\\\n",
    "-mL \\cos \\theta & mL^2 \\\\\n",
    "\\end{bmatrix}, \\quad\n",
    "\\mathbf{h}(\\mathbf{q},\\dot{\\mathbf{q}}) = \n",
    "\\begin{bmatrix}\n",
    "mL\\dot{\\theta }^{2}\\sin \\theta\\\\\n",
    "-mLg\\sin \\theta\\\\\n",
    "\\end{bmatrix}, \\quad \n",
    "\\mathbf{B} = \n",
    "\\begin{bmatrix}\n",
    "0 \\\\\n",
    "1 \\\\\n",
    "\\end{bmatrix}\n",
    "$$"
   ]
  },
  {
   "cell_type": "markdown",
   "metadata": {
    "slideshow": {
     "slide_type": "subslide"
    }
   },
   "source": [
    "\n",
    "Note that the choice of a set of state variables for a system is **not unique**. So\n",
    "a state-space model for a system is also not unique. There can be **infinitely many possibilities**."
   ]
  },
  {
   "cell_type": "markdown",
   "metadata": {
    "slideshow": {
     "slide_type": "fragment"
    }
   },
   "source": [
    "When the model is obtained from a known differential equation, you can\n",
    "always select meaningful state variables. However, state variables may not\n",
    "directly relate to physical variables if the model is obtained from\n",
    "**identification methods**."
   ]
  },
  {
   "cell_type": "markdown",
   "metadata": {
    "slideshow": {
     "slide_type": "subslide"
    }
   },
   "source": [
    "### **Other Models**\n",
    "It should be noted that there are special cases when the equations above maybe simplified or some interesting properties may be exploited, examples are:\n",
    "\n",
    "* Control affine systems: $\\dot{\\mathbf{x}} = \\mathbf{f}(\\mathbf{x}) + \\mathbf{G}(\\mathbf{x})\\mathbf{u}$ \n",
    "* Drift-less systems: $\\dot{\\mathbf{x}} = \\mathbf{G}(\\mathbf{x})\\mathbf{u}$ \n",
    "* Differential-Algebraic Equations: $\\mathbf{F}(\\dot{\\mathbf{x}}, \\mathbf{x},\\mathbf{u}) = \\boldsymbol{0}$ \n",
    "* Mechanical Systems in Regressor Form: $\\mathbf{Y}(\\mathbf{q}, \\dot{\\mathbf{q}},\\ddot{\\mathbf{q}})\\mathbf{p} = \\mathbf{B}(\\mathbf{q})\\mathbf{u}$\n",
    "* Differential-Inclusions: $\\dot{\\mathbf{x}} \\in \\mathbf{f}(\\mathbf{x},\\mathbf{u},\\mathbf{d}, t)$\n",
    "\n",
    "We will consider some of these later on."
   ]
  },
  {
   "cell_type": "markdown",
   "metadata": {
    "slideshow": {
     "slide_type": "subslide"
    }
   },
   "source": [
    "### **Simulation of ODE**\n",
    "While studying ODE $\\dot{\\mathbf{x}} = \\boldsymbol{f}(\\mathbf{x}, \\mathbf{u}, t)$, one is often interested in its solution $\\mathbf{x}(t)$ (integral curve):\n",
    "$$\n",
    "\\mathbf{x}(t) = \\int_{t_0}^{t} \\boldsymbol{f}(\\tau,\\mathbf{x}(\\tau),\\mathbf{u}(\\tau))d\\tau,\\quad \\text{s.t: } \\mathbf{x}(t_0) = \\mathbf{x}_0\n",
    "$$\n",
    "The simulation is nothing but tacking the integral above.\n",
    "\n",
    "However, in most practical situations the above cannot be solved analytically and one should consider numerical integration instead, thus ending up with descrete system:\n",
    "\n",
    "$$\n",
    "\\mathbf{x}_{k+1} = \\mathbf{f}_d(\\mathbf{x}_k,\\mathbf{u}_k,\\mathbf{d}_k, k),\\quad \\text{s.t: } \\mathbf{x}_0 = \\mathbf{x}(t_0)\n",
    "$$\n",
    "\n",
    "Thus simulation is just **iteration over the descrete dynamics** starting from initial point $\\mathbf{x}_0 = \\mathbf{x}(t_0)$"
   ]
  },
  {
   "cell_type": "markdown",
   "metadata": {
    "slideshow": {
     "slide_type": "subslide"
    }
   },
   "source": [
    "Let us implement the simulation of nonlinear pendulum via iterating the discrete dynamics:"
   ]
  },
  {
   "cell_type": "code",
   "execution_count": 1,
   "metadata": {
    "slideshow": {
     "slide_type": "subslide"
    }
   },
   "outputs": [],
   "source": [
    "import numpy as np \n",
    "\n",
    "def f(state, t, control):\n",
    "    u = control \n",
    "    x1, x2 = state \n",
    "    dx1 = x2 \n",
    "    dx2 = u - np.sin(x1) - 0*x2\n",
    "    return np.array([dx1, dx2])\n"
   ]
  },
  {
   "cell_type": "code",
   "execution_count": 2,
   "metadata": {
    "slideshow": {
     "slide_type": "fragment"
    }
   },
   "outputs": [],
   "source": [
    "x_0 = np.array([1,0])\n",
    "T = 1E-2\n",
    "tf = 10\n",
    "N = int(tf/T)\n",
    "X = []\n",
    "\n",
    "\n",
    "# ITERATE DESCRETE DYNAMICS\n",
    "x_prev = x_0\n",
    "for k in range(N):\n",
    "    X.append(x_prev)\n",
    "    u_k = 0\n",
    "    x_new = x_prev + T*f(x_prev, k*T, u_k)\n",
    "    x_prev = x_new \n",
    "\n",
    "x_sol_simp = np.array(X)"
   ]
  },
  {
   "cell_type": "markdown",
   "metadata": {
    "slideshow": {
     "slide_type": "subslide"
    }
   },
   "source": [
    "Let us plot the result:"
   ]
  },
  {
   "cell_type": "code",
   "execution_count": 3,
   "metadata": {
    "slideshow": {
     "slide_type": "fragment"
    }
   },
   "outputs": [
    {
     "data": {
      "image/png": "[encoded data removed]",
      "text/plain": [
       "<Figure size 640x480 with 1 Axes>"
      ]
     },
     "metadata": {},
     "output_type": "display_data"
    }
   ],
   "source": [
    "from matplotlib.pyplot import *\n",
    "\n",
    "plot(x_sol_simp, linewidth=2.0)\n",
    "grid(color='black', linestyle='--', linewidth=1.0, alpha = 0.7)\n",
    "grid(True)\n",
    "# xlim([t0, tf])\n",
    "ylabel(r'State $x_k$')\n",
    "xlabel(r'Samples $k$')\n",
    "show()"
   ]
  },
  {
   "cell_type": "markdown",
   "metadata": {
    "slideshow": {
     "slide_type": "subslide"
    }
   },
   "source": [
    "The Euler method implemented above is highly dependent on the sampling period $T$, there are other suitable methods, the most widely used is the 4-th order Runge-Kutta and advanced variational integrators. However, we will not dig into the integration algorithm, instead for the purpose of simulation we will use `odeint` from the `scipy.integrate`: "
   ]
  },
  {
   "cell_type": "code",
   "execution_count": 4,
   "metadata": {
    "slideshow": {
     "slide_type": "fragment"
    }
   },
   "outputs": [],
   "source": [
    "from scipy.integrate import odeint # import integrator routine\n",
    "scale = 5\n",
    "\n",
    "X = []\n",
    "x_prev = x_0\n",
    "for k in range(N):\n",
    "    X.append(x_prev)\n",
    "    t_k = np.linspace(k*T, (k+1)*T, scale)\n",
    "    u_k = 0\n",
    "    x_new = odeint(f, x_prev, t_k, args = (u_k,))\n",
    "    x_prev  = x_new[-1,:] \n",
    "\n",
    "x_sol = np.array(X)"
   ]
  },
  {
   "cell_type": "code",
   "execution_count": 5,
   "metadata": {
    "slideshow": {
     "slide_type": "subslide"
    }
   },
   "outputs": [
    {
     "data": {
      "image/png": "[encoded data removed]",
      "text/plain": [
       "<Figure size 640x480 with 1 Axes>"
      ]
     },
     "metadata": {},
     "output_type": "display_data"
    }
   ],
   "source": [
    "plot(x_sol, linewidth=2.0)\n",
    "plot(x_sol_simp, linewidth=2.0)\n",
    "grid(color='black', linestyle='--', linewidth=1.0, alpha = 0.7)\n",
    "grid(True)\n",
    "ylabel(r'State $x_k$')\n",
    "xlabel(r'Samples $k$')\n",
    "show()"
   ]
  },
  {
   "cell_type": "markdown",
   "metadata": {},
   "source": [
    "You will do more on the simulation during **practice session.**"
   ]
  }
 ],
 "metadata": {
  "celltoolbar": "Слайд-шоу",
  "colab": {
   "collapsed_sections": [],
   "name": "symbolical_linearization.ipynb",
   "provenance": []
  },
  "kernelspec": {
   "display_name": "Python 3 (ipykernel)",
   "language": "python",
   "name": "python3"
  },
  "language_info": {
   "codemirror_mode": {
    "name": "ipython",
    "version": 3
   },
   "file_extension": ".py",
   "mimetype": "text/x-python",
   "name": "python",
   "nbconvert_exporter": "python",
   "pygments_lexer": "ipython3",
   "version": "3.10.9"
  },
  "rise": {
   "enable_chalkboard": true,
   "scroll": true,
   "theme": "simple",
   "transition": "linear"
  },
  "vscode": {
   "interpreter": {
    "hash": "767d51c1340bd893661ea55ea3124f6de3c7a262a8b4abca0554b478b1e2ff90"
   }
  }
 },
 "nbformat": 4,
 "nbformat_minor": 1
}
