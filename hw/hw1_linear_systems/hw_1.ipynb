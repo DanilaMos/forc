{
 "cells": [
  {
   "cell_type": "markdown",
   "metadata": {},
   "source": [
    "## **Home Work 1: Linear Analysis and Control**"
   ]
  },
  {
   "cell_type": "markdown",
   "metadata": {
    "id": "eas_xCcEfubT"
   },
   "source": [
    "#### **Problem №1: Regulation of magnetic tape system**\n",
    "\n",
    "Consider the magnetic tape system:\n",
    "<p align=\"center\">\n",
    "    <img src=\"https://drive.google.com/uc?id=1zMpp0prjxG921cSIyi-Ea7LJMhmrexFf\" alt=\"drawing\" width=\"40%\" style=\"margin:auto\"/>\n",
    "</p>\n",
    "\n",
    "The behavior of this system is governed by following differential equations:\n",
    "$$\n",
    "\\left\\{\\begin{matrix}\n",
    "J\\ddot{\\theta}_1= - T_e r + K_m i_1\n",
    "\\\\ \n",
    "J\\ddot{\\theta}_2= - T_e r + K_m i_2\n",
    "\\\\ \n",
    "T_e = k(x_2-x_1) +b (\\dot{x}_2 - \\dot{x}_1)\n",
    "\\\\\n",
    "x_3 = \\frac{x_1+x_2}{2}\n",
    "\\end{matrix}\\right.\n",
    "$$\n",
    "\n",
    "where: \n",
    "* $\\theta_1,\\theta_2$, [rad] - angular position of motor capstan assembly\n",
    "* $x_1,x_2$, [mm] - position of tape at capstan assembly\n",
    "* $i_1,i_2$, [A] - current into drive motors 1 and 2\n",
    "* $x_3$, [mm] - position of tape over read head\n",
    "* $T_e$, [N] - tension in tape\n",
    "\n",
    "and the system parameters are given as follows:"
   ]
  },
  {
   "cell_type": "code",
   "execution_count": 3,
   "metadata": {},
   "outputs": [],
   "source": [
    "J = 0.006375 # [kg m^2] - motor and capstan inertia\n",
    "K_m = 0.544 # [Nm/A] - motor torque constant\n",
    "k = 2113 # [N/m] - tape spring constant\n",
    "b = 3.75 # [Ns/m] - tape damping constant\n",
    "r = 0.05 # [m] - capstan radius"
   ]
  },
  {
   "cell_type": "markdown",
   "metadata": {},
   "source": [
    "The goal is to design feedback controller, $\\mathbf{u} = -\\mathbf{K}\\mathbf{x}$ to **regulate to constant position of magnetic tape $x_3 = x_d$** [mm] over the read head of a magnetic tape drive **while maintaining a specified tension $T_e = 10$**, namely:\n",
    "* **[10 points]** Rewrite system in **linear state space form**:\n",
    "  * note that position and motor angle are coupled with: $x_j = r\\theta_j$\n",
    "  * take control input as current: $u_j = i_j$\n",
    "* **[20 points]** Test the **stability** and **controllability**:\n",
    "  * Answer either this system stable and controllable\n",
    "  * Check controllability just with one actuator $u = i_1$ ($i_2 = 0$) \n",
    "  * What is the minimal number of control channels for this sytem to be controllable/stabilizable \n",
    "* **[35 points]** **Place poles of closed loop system** (find feedback gains) such that tension $T_e$ and position $x_3$ - converges to desired values $x_d, T_d$, simulate the response in the [colab](https://colab.research.google.com/).\n",
    "\n"
   ]
  },
  {
   "cell_type": "markdown",
   "metadata": {},
   "source": [
    "\n",
    "#### **Problem №2: Pole Placement Design of Linear Observers**\n",
    "\n",
    "The distinguishable properties of full state feedback controllers is that the measurements of system state should be measurable. However, in most practical cases, the physical state of the system cannot be determined by direct observation. Instead, **indirect effects of the internal state are estimated by way of the system outputs**. \n",
    "The algorithm (dynamical system) that supports such estimation is called the **state observer** (state estimator). More specifically we consider the LTI system in state space form:\n",
    "\n",
    "$$\n",
    "\\begin{matrix}\n",
    "    \\dot{\\mathbf{x}} = \\mathbf{A}\\mathbf{x} + \\mathbf{B} \\mathbf{u}\\\\\n",
    "    \\mathbf{y}=\\mathbf{C}\\mathbf{x}\n",
    "\\end{matrix}\n",
    "$$\n",
    "\n",
    "Where the last equation describe your actual measurements (output) as some linear combination of states $\\mathbf{y} = \\mathbf{C}\\mathbf{x}$. Goal is to estimate the full state $\\hat{\\mathbf{x}}$, based on known measurements $\\mathbf{y}$ and control signal $\\mathbf{u}$ assuming that $\\mathbf{A}, \\mathbf{B}, \\mathbf{C}$ are known. \n",
    "\n",
    "\n",
    "Consider the state observer algorithm is given as follows:\n",
    "$$\n",
    "\\begin{matrix}\n",
    "    \\dot{\\hat{\\mathbf{x}}} = \\mathbf{A}\\hat{\\mathbf{x}} + \\mathbf{B} \\mathbf{u} + \\mathbf{L}(\\mathbf{y} - \\hat{\\mathbf{y}})\n",
    "\\end{matrix}\n",
    "$$\n",
    "\n",
    "Do the following:\n",
    "* **[15 Points]** Find the closed loop response of estimation error $\\mathbf{e} = \\hat{\\mathbf{x}} - \\mathbf{x}$ in terms of $\\mathbf{A}, \\mathbf{C}, \\mathbf{L}, \\mathbf{e}(t)$ (equations for $\\dot{\\mathbf{e}}$). \n",
    "* **[20 Points]**  What are the conditions on $\\mathbf{L}$ that implies the convergence of estimates $\\hat{\\mathbf{x}}$ to the actual state $\\mathbf{x}$, describe how would you use pole placement routine to tune observer gains $\\mathbf{L}$\n",
    "*  **[BONUS]** Implement the proposed observer in order to estimate the motor states $\\theta_j, \\dot{\\theta}_j$ of magnetic tape system given the measurements of $x_3$ and $T_e$\n",
    "\n",
    "\n",
    "\n",
    "\n",
    "\n",
    "\n"
   ]
  }
 ],
 "metadata": {
  "colab": {
   "name": "hw_1.ipynb",
   "provenance": []
  },
  "kernelspec": {
   "display_name": "Python 3.8.10 64-bit",
   "language": "python",
   "name": "python3"
  },
  "language_info": {
   "codemirror_mode": {
    "name": "ipython",
    "version": 3
   },
   "file_extension": ".py",
   "mimetype": "text/x-python",
   "name": "python",
   "nbconvert_exporter": "python",
   "pygments_lexer": "ipython3",
   "version": "3.8.10"
  },
  "vscode": {
   "interpreter": {
    "hash": "e7370f93d1d0cde622a1f8e1c04877d8463912d04d973331ad4851f04de6915a"
   }
  }
 },
 "nbformat": 4,
 "nbformat_minor": 1
}
